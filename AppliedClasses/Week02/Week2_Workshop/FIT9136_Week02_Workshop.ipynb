{
    "metadata": {
        "kernelspec": {
            "name": "python3",
            "display_name": "Python 3 (ipykernel)",
            "language": "python"
        }
    },
    "nbformat": 4,
    "nbformat_minor": 1,
    "cells": [
        {
            "attachments": {},
            "cell_type": "markdown",
            "metadata": {},
            "source": [
                "# FIT9136 Week02 Workshop\n",
                "\n",
                "This programming exercise will review all the concepts introduced in the pre-class activities."
            ]
        },
        {
            "attachments": {},
            "cell_type": "markdown",
            "metadata": {},
            "source": [
                "## Object"
            ]
        },
        {
            "attachments": {},
            "cell_type": "markdown",
            "metadata": {},
            "source": [
                "\u003cdiv class=\"alert alert-block alert-success\"\u003e\n",
                "How many objects are there for the given Python code?\n",
                "\u003c/div\u003e"
            ]
        },
        {
            "cell_type": "code",
            "execution_count": 1,
            "metadata": {},
            "outputs": [
                {
                    "name": "stdout",
                    "output_type": "stream",
                    "text": "The origin is at:  0 , 1\n"
                }
            ],
            "source": [
                "x = 0\n",
                "y = 1\n",
                "print(\"The origin is at: \", x, \",\", y)"
            ]
        },
        {
            "cell_type": "code",
            "execution_count": 2,
            "metadata": {},
            "outputs": [
                {
                    "data": {
                        "text/plain": "2"
                    },
                    "execution_count": 2,
                    "metadata": {},
                    "output_type": "execute_result"
                }
            ],
            "source": [
                "2"
            ]
        },
        {
            "attachments": {},
            "cell_type": "markdown",
            "metadata": {},
            "source": [
                "## Input/Output"
            ]
        },
        {
            "attachments": {},
            "cell_type": "markdown",
            "metadata": {},
            "source": [
                "\u003cdiv class=\"alert alert-block alert-success\"\u003e\n",
                "Statements can be printed in Python using the print( ) function. Use this function or command to print the following:\n",
                "\n",
                "    1. \"My name is \u003cyour name\u003e\"\n",
                "    2. \"It's 35 degrees outside\"\n",
                "    3. 85\n",
                "    4. \"85\"\n",
                "    5. 85.0\n",
                "    6. 3.5\n",
                "\u003c/div\u003e"
            ]
        },
        {
            "cell_type": "code",
            "execution_count": 3,
            "metadata": {},
            "outputs": [
                {
                    "name": "stdout",
                    "output_type": "stream",
                    "text": "My name is Rebecca\nIt's 35 degrees outside\n85\n85\n85.0\n3.5\n"
                }
            ],
            "source": [
                "print(\"My name is Rebecca\")\n",
                "print(\"It's 35 degrees outside\")\n",
                "print(85)\n",
                "print(\"85\")\n",
                "print(85.0)\n",
                "print(3.5)"
            ]
        },
        {
            "attachments": {},
            "cell_type": "markdown",
            "metadata": {},
            "source": [
                "\u003cdiv class=\"alert alert-block alert-success\"\u003e\n",
                "\n",
                "    1. What is the data type of each variable? print out the type of each variable.\n",
                "    2. Can you tell the difference between (3) (4) and (5)?\n",
                "    3. Can you change the type of (3) and (4) to the type of (5)?\n",
                "    4. ask user to input integer number and save it in an integer variable.\n",
                "\u003c/div\u003e    "
            ]
        },
        {
            "cell_type": "code",
            "execution_count": 4,
            "metadata": {},
            "outputs": [
                {
                    "data": {
                        "text/plain": "'\\n1.\\na. String\\nb. String\\nc. int\\nd. String\\ne. float\\ng. fload\\n\\n2. (3) -\u003e int, (4) -\u003e string, (5) -\u003e float\\n\\n3.\\nx = 85 \\nprint(str(x))\\n\\n4. print\\n'"
                    },
                    "execution_count": 4,
                    "metadata": {},
                    "output_type": "execute_result"
                }
            ],
            "source": [
                "'''\n",
                "1.\n",
                "a. print(type(\"My name is Rebecca\")) -\u003e \u003cclass 'str'\u003e\n",
                "b. \u003cclass 'str'\u003e\n",
                "c. \u003cclass 'int'\u003e\n",
                "d. \u003cclass 'str'\u003e\n",
                "e. \u003cclass 'float'\u003e\n",
                "g. \u003cclass 'float'\u003e\n",
                "\n",
                "2. (3) -\u003e int, (4) -\u003e string, (5) -\u003e float\n",
                "\n",
                "3.\n",
                "x = 85 \n",
                "print(str(x))\n",
                "\n",
                "4. intVar = int(input(\"Please input a number: \"))\n",
                "'''"
            ]
        },
        {
            "attachments": {},
            "cell_type": "markdown",
            "metadata": {},
            "source": [
                "\u003cdiv class=\"alert alert-block alert-success\"\u003e\n",
                "\n",
                "What would be the output on the screen?\n",
                "\n",
                "print('This is just a print statement.', end = ' ')\n",
                "    \n",
                "print('This is another print statement.')\n",
                "\n",
                "\u003c/div\u003e "
            ]
        },
        {
            "cell_type": "code",
            "execution_count": 5,
            "metadata": {},
            "outputs": [
                {
                    "name": "stdout",
                    "output_type": "stream",
                    "text": "This is another print statement.\n"
                }
            ],
            "source": [
                "print('This is just a print statement.', end = ' ')\n",
                "\n",
                "print('This is another print statement.')"
            ]
        },
        {
            "attachments": {},
            "cell_type": "markdown",
            "metadata": {},
            "source": [
                "\u003cdiv class=\"alert alert-block alert-success\"\u003e\n",
                "\n",
                "What is the value of result after executing the following program?\n",
                "\n",
                "a = input('Enter the first number:')\n",
                "    \n",
                "b = input('Enter the second number:' )\n",
                "    \n",
                "result = a + b\n",
                "    \n",
                "print('The addition of a and b is', result)\n",
                "\n",
                "\n",
                "\u003c/div\u003e "
            ]
        },
        {
            "cell_type": "code",
            "execution_count": 6,
            "metadata": {},
            "outputs": [
                {
                    "ename": "NameError",
                    "evalue": "name 'ab' is not defined",
                    "output_type": "error",
                    "traceback": [
                        "\u001b[0;31m---------------------------------------------------------------------------\u001b[0m",
                        "\u001b[0;31mNameError\u001b[0m                                 Traceback (most recent call last)",
                        "Cell \u001b[0;32mIn[1], line 1\u001b[0m\n\u001b[0;32m----\u003e 1\u001b[0m \u001b[43mab\u001b[49m\n",
                        "\u001b[0;31mNameError\u001b[0m: name 'ab' is not defined"
                    ]
                }
            ],
            "source": [
                "#ab"
            ]
        },
        {
            "attachments": {},
            "cell_type": "markdown",
            "metadata": {},
            "source": [
                "## Naming Variables"
            ]
        },
        {
            "attachments": {},
            "cell_type": "markdown",
            "metadata": {},
            "source": [
                "Data need to be stored before being used for computation. Programming languages provide **variables** to store data. \n",
                "\u003cdiv class=\"alert alert-block alert-success\"\u003e\n",
                "Which of the following is an invalid variable name in Python?\n",
                "    \n",
                "* isTrue  \n",
                "* is_true \n",
                "* True \n",
                "* true\n",
                "\u003c/div\u003e"
            ]
        },
        {
            "cell_type": "code",
            "execution_count": 0,
            "metadata": {},
            "outputs": [],
            "source": [
                "#True, because it's one of the python keywords"
            ]
        },
        {
            "attachments": {},
            "cell_type": "markdown",
            "metadata": {},
            "source": [
                "## Arithmetic Operators"
            ]
        },
        {
            "attachments": {},
            "cell_type": "markdown",
            "metadata": {},
            "source": [
                "\u003cdiv class=\"alert alert-block alert-success\"\u003e\n",
                "What are the results of these following expressions that involve multiple arithmetic operators?\n",
                "    \n",
                "    12 - 5 // 11 + 2 = ?\n",
                "    (12 - 5) // 11 + 2 = ?\n",
                "    12 - 5 // (11 + 2) = ?\n",
                "\n",
                "\n",
                "    1. 2, 14, 12\n",
                "    2. 14, 12, 2\n",
                "    3. 14, 2, 12\n",
                "    4. 2, 12, 14\n",
                "\u003c/div\u003e    "
            ]
        },
        {
            "attachments": {},
            "cell_type": "markdown",
            "metadata": {},
            "source": [
                "The answer is 3. 14, 2, 12"
            ]
        },
        {
            "cell_type": "code",
            "execution_count": 1,
            "metadata": {},
            "outputs": [
                {
                    "name": "stdout",
                    "output_type": "stream",
                    "text": "14\n"
                }
            ],
            "source": [
                "print(12 - 5 // 11 + 2)"
            ]
        },
        {
            "cell_type": "code",
            "execution_count": 0,
            "metadata": {},
            "outputs": [],
            "source": [
                "'''\n",
                "12 - 5 // 11 + 2 \n",
                "= 12 - 0 + 2         #5 // 11 = 0 ... 11\n",
                "= 12 + 2\n",
                "= 14\n",
                "'''"
            ]
        },
        {
            "cell_type": "code",
            "execution_count": 3,
            "metadata": {},
            "outputs": [
                {
                    "name": "stdout",
                    "output_type": "stream",
                    "text": "2\n"
                }
            ],
            "source": [
                "print((12 - 5) // 11 + 2)"
            ]
        },
        {
            "cell_type": "code",
            "execution_count": 0,
            "metadata": {},
            "outputs": [],
            "source": [
                "'''\n",
                "(12 - 5) // 11 + 2\n",
                "= 7 // 11 + 2\n",
                "= 0 + 2\n",
                "= 2\n",
                ""
            ]
        },
        {
            "cell_type": "code",
            "execution_count": 4,
            "metadata": {},
            "outputs": [
                {
                    "name": "stdout",
                    "output_type": "stream",
                    "text": "12\n"
                }
            ],
            "source": [
                "print(12 - 5 // (11 + 2))"
            ]
        },
        {
            "cell_type": "code",
            "execution_count": 0,
            "metadata": {},
            "outputs": [],
            "source": [
                "'''\n",
                "(12 - 5 // (11 + 2))\n",
                "= (12 - 5 // 13)\n",
                "= (12 - 0)\n",
                "= 12\n",
                "'''"
            ]
        },
        {
            "attachments": {},
            "cell_type": "markdown",
            "metadata": {},
            "source": [
                "\u003cdiv class=\"alert alert-block alert-success\"\u003e\n",
                "A grocery store had 500 packs of cookies in storage. Among the total storage, 5% were dumped due to expiration, and another 230 packs were sold this month. Calculate how many packs of cookies left in the grocery store.\n",
                "\u003c/div\u003e"
            ]
        },
        {
            "cell_type": "code",
            "execution_count": 6,
            "metadata": {},
            "outputs": [
                {
                    "name": "stdout",
                    "output_type": "stream",
                    "text": "245.0\n"
                }
            ],
            "source": [
                "print( 500 - 500 * 0.05 - 230)"
            ]
        },
        {
            "cell_type": "code",
            "execution_count": 7,
            "metadata": {},
            "outputs": [
                {
                    "name": "stdout",
                    "output_type": "stream",
                    "text": "245.0\n"
                }
            ],
            "source": [
                "dumped_rate = 0.05\n",
                "storage = 500\n",
                "sold = 230\n",
                "\n",
                "cookiesLeft = storage * (1 - dumped_rate) - sold\n",
                "print(cookiesLeft)"
            ]
        },
        {
            "attachments": {},
            "cell_type": "markdown",
            "metadata": {},
            "source": [
                "## Assignment Operators"
            ]
        },
        {
            "attachments": {},
            "cell_type": "markdown",
            "metadata": {},
            "source": [
                "\u003cdiv class=\"alert alert-block alert-success\"\u003e \n",
                "John has a saving account with \\$10,000 left in the previous month. His income and spendings for this month are \\$5,500 and $3,800, respectively. How much does he have in his saving account at the end of the month?\n",
                "\u003c/div\u003e"
            ]
        },
        {
            "cell_type": "code",
            "execution_count": 8,
            "metadata": {},
            "outputs": [
                {
                    "name": "stdout",
                    "output_type": "stream",
                    "text": "11700\n"
                }
            ],
            "source": [
                "saving = 10000\n",
                "income = 5500\n",
                "spendings = 3800\n",
                "\n",
                "savingThisMonth = saving + income - spendings\n",
                "print(savingThisMonth)\n",
                "\n",
                "'''\n",
                "saving += income    \n",
                "saving -= spending \n",
                "'''"
            ]
        },
        {
            "attachments": {},
            "cell_type": "markdown",
            "metadata": {},
            "source": [
                "## Relational Operators"
            ]
        },
        {
            "attachments": {},
            "cell_type": "markdown",
            "metadata": {},
            "source": [
                "\u003cdiv class=\"alert alert-block alert-success\"\u003e\n",
                "What are the results of the following logical expressions?\n",
                "    \n",
                "    x = 6\n",
                "    y = 9\n",
                "    x % 3 == 0 and x \u003c 0\n",
                "    x \u003c 10 and x \u003c y\n",
                "    x + y \u003e 10 or x + y \u003c 10\n",
                "\n",
                "\n",
                "    1. False, False, True\n",
                "    2. True, True, False\n",
                "    3. False, True, False\n",
                "    4. False, True, True\n",
                "\n",
                "\u003c/div\u003e"
            ]
        },
        {
            "attachments": {},
            "cell_type": "markdown",
            "metadata": {},
            "source": [
                "The answer is 4. False, True, True"
            ]
        },
        {
            "cell_type": "code",
            "execution_count": 12,
            "metadata": {},
            "outputs": [],
            "source": [
                "'''\n",
                "x % 3 == 0 -\u003e 6 % 3 == 0 is True\n",
                "x \u003c 0 -\u003e 6 \u003c 0 is False\n",
                "therefore x % 3 == 0 and x \u003c 0 is False\n",
                "'''"
            ]
        },
        {
            "cell_type": "code",
            "execution_count": 14,
            "metadata": {},
            "outputs": [
                {
                    "name": "stdout",
                    "output_type": "stream",
                    "text": "True\n"
                }
            ],
            "source": [
                "print(bool(6 % 3 == 0))"
            ]
        },
        {
            "cell_type": "code",
            "execution_count": 10,
            "metadata": {},
            "outputs": [
                {
                    "name": "stdout",
                    "output_type": "stream",
                    "text": "False\n"
                }
            ],
            "source": [
                "x = 6\n",
                "y = 9\n",
                "print(bool(x % 3 == 0 and x \u003c 0))"
            ]
        },
        {
            "cell_type": "code",
            "execution_count": 0,
            "metadata": {},
            "outputs": [],
            "source": [
                "'''\n",
                "x \u003c 10 and x \u003c y\n",
                "x \u003c 10 -\u003e 6 \u003c 10 is True\n",
                "x \u003c y -\u003e 6 \u003c 9 is True\n",
                "therefore x \u003c 10 and x \u003c y is True\n",
                "'''"
            ]
        },
        {
            "cell_type": "code",
            "execution_count": 15,
            "metadata": {},
            "outputs": [
                {
                    "name": "stdout",
                    "output_type": "stream",
                    "text": "True\n"
                }
            ],
            "source": [
                "x = 6\n",
                "y = 9\n",
                "print(bool(x \u003c 10 and x \u003c y))"
            ]
        },
        {
            "cell_type": "code",
            "execution_count": 0,
            "metadata": {},
            "outputs": [],
            "source": [
                "'''\n",
                "x + y \u003e 10 or x + y \u003c 10\n",
                "x + y \u003e 10 \n",
                "    -\u003e x + y = 6 + 9 = 15\n",
                "    -\u003e 15 \u003e 10 is True\n",
                "x + y \u003c 10 is False\n",
                "so True or False is True\n",
                "therefore x + y \u003e 10 or x + y \u003c 10 is True\n",
                "'''"
            ]
        },
        {
            "cell_type": "code",
            "execution_count": 16,
            "metadata": {},
            "outputs": [
                {
                    "name": "stdout",
                    "output_type": "stream",
                    "text": "True\n"
                }
            ],
            "source": [
                "x = 6\n",
                "y = 9\n",
                "print(bool(x + y \u003e 10 or x + y \u003c 10))"
            ]
        },
        {
            "attachments": {},
            "cell_type": "markdown",
            "metadata": {},
            "source": [
                "## Help Function"
            ]
        },
        {
            "attachments": {},
            "cell_type": "markdown",
            "metadata": {},
            "source": [
                "\u003cdiv class=\"alert alert-block alert-success\"\u003e\n",
                "Many times we want to know how a function works or what are the parameters it takes. **help( )** function can retrieve the Python documentation for that specific function and show it on the terminal. Use this function to retrieve the documentation for the following built-in functions:\n",
                "\n",
                "    1. print\n",
                "    2. str\n",
                "    3. int\n",
                "    4. type\n",
                "    5. randint\n",
                "\u003c/div\u003e"
            ]
        },
        {
            "cell_type": "code",
            "execution_count": 18,
            "metadata": {},
            "outputs": [
                {
                    "name": "stdout",
                    "output_type": "stream",
                    "text": "Help on built-in function print in module builtins:\n\nprint(...)\n    print(value, ..., sep=' ', end='\\n', file=sys.stdout, flush=False)\n    \n    Prints the values to a stream, or to sys.stdout by default.\n    Optional keyword arguments:\n    file:  a file-like object (stream); defaults to the current sys.stdout.\n    sep:   string inserted between values, default a space.\n    end:   string appended after the last value, default a newline.\n    flush: whether to forcibly flush the stream.\n\n"
                }
            ],
            "source": [
                "help(print)"
            ]
        },
        {
            "attachments": {},
            "cell_type": "markdown",
            "metadata": {},
            "source": [
                ""
            ]
        },
        {
            "attachments": {},
            "cell_type": "markdown",
            "metadata": {},
            "source": [
                "## Finding Information"
            ]
        },
        {
            "attachments": {},
            "cell_type": "markdown",
            "metadata": {},
            "source": [
                "\u003cdiv class=\"alert alert-block alert-success\"\u003e   \n",
                "Where can you get information on Python syntax? At what point does ‘research’ turn into plagiarism?\n",
                "\u003c/div\u003e"
            ]
        },
        {
            "attachments": {},
            "cell_type": "markdown",
            "metadata": {},
            "source": [
                "Ans:\n",
                "\n",
                "Python documentation is a good place to start for finding information. There are websites like StackOverflow that allow people to ask for assistance in coding. Often times what you are looking to do is already there. Copying code from the internet is plagiarism.\n",
                "\n",
                "Treat looking at code like you were painting something. A direct copy of the piece would be plagiarism, taking elements or techniques from it is inspiration. Whichever you do, you must cite your sources. This can be done as a comment above the block of code you wrote."
            ]
        }
    ]
}
