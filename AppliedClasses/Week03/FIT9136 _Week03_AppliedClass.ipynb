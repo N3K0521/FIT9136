{
    "metadata": {
        "kernelspec": {
            "name": "python3",
            "display_name": "Python 3 (ipykernel)",
            "language": "python"
        }
    },
    "nbformat": 4,
    "nbformat_minor": 5,
    "cells": [
        {
            "attachments": {},
            "cell_type": "markdown",
            "metadata": {},
            "source": [
                "# FIT9136 Week03 Applied Class"
            ]
        },
        {
            "attachments": {},
            "cell_type": "markdown",
            "metadata": {},
            "source": [
                "## Table of Contents:\n",
                "* [*Exercise 1: Input/output functions](#first-bullet)\n",
                "* [*Exercise 2: Converting Temperature](#second-bullet)\n",
                "* [*Exercise 3: Shapes](#third-bullet)\n",
                "* [  Exercise 4: ASCII ART](#fourth-bullet)\n",
                "* [*Exercise 5: Monthly EMI Calculator](#fifth-bullet)"
            ]
        },
        {
            "attachments": {},
            "cell_type": "markdown",
            "metadata": {},
            "source": [
                "## *Exercise 1: Input/output functions\u003ca class=\"anchor\" id=\"first-bullet\"\u003e\u003c/a\u003e\n",
                "This task contains three questions that will help to apply your knowledge of print function, type conversion, and input function"
            ]
        },
        {
            "attachments": {},
            "cell_type": "markdown",
            "metadata": {},
            "source": [
                "\u003cdiv class=\"alert alert-block alert-success\"\u003e\n",
                "\u003cb\u003e Q1. Using the print function, print out the values as it is on the output window. And the values are: \u003c/b\u003e\n",
                "\n",
                "    100   \n",
                "    jack  \n",
                "    \"jack\"  \n",
                "    -1  \n",
                "    True \n",
                "\u003cb\u003eCan you assign each of the above object to the variables using appropriate naming convention? \u003c/b\u003e   \n",
                "\u003c/div\u003e     "
            ]
        },
        {
            "cell_type": "code",
            "execution_count": 7,
            "metadata": {},
            "outputs": [],
            "source": [
                "print(100)\n",
                "\n",
                "print(\"jack\")\n",
                "\n",
                "print('\"jack\"')\n",
                "\n",
                "print(-1)\n",
                "\n",
                "print(True)"
            ]
        },
        {
            "attachments": {},
            "cell_type": "markdown",
            "metadata": {},
            "source": [
                "\u003cdiv class=\"alert alert-block alert-success\"\u003e\n",
                "    \u003cb\u003e Q2. Now, print out the types of these values as well.\u003c/b\u003e\n",
                "\u003c/div\u003e "
            ]
        },
        {
            "cell_type": "code",
            "execution_count": 9,
            "metadata": {},
            "outputs": [],
            "source": [
                "print(type(100))\n",
                "\n",
                "print(type(\"jack\"))\n",
                "\n",
                "print(type('\"jack\"'))\n",
                "\n",
                "print(type(-1))\n",
                "\n",
                "print(type(True))"
            ]
        },
        {
            "attachments": {},
            "cell_type": "markdown",
            "metadata": {},
            "source": [
                "\u003cdiv class=\"alert alert-block alert-success\"\u003e\n",
                "\u003cb\u003e Q3. Ask a user to input a value and then print out the value and type of user value. \u003c/b\u003e\n",
                "\u003c/div\u003e "
            ]
        },
        {
            "cell_type": "code",
            "execution_count": 17,
            "metadata": {},
            "outputs": [],
            "source": [
                "print(type(input(\"Please enter your value: \")))"
            ]
        },
        {
            "attachments": {},
            "cell_type": "markdown",
            "metadata": {},
            "source": [
                "## *Exercise 2: Converting Temperature\u003ca class=\"anchor\" id=\"second-bullet\"\u003e\u003c/a\u003e"
            ]
        },
        {
            "attachments": {},
            "cell_type": "markdown",
            "metadata": {},
            "source": [
                "\u003cdiv class=\"alert alert-block alert-success\"\u003e\n",
                "In the human world, we can measure everything on a numerical scale. For example, distance can be measured in meters, kilometres, and so on. Similarly, weather for any system (open or closed) can be measured using the temperature. we  can measure the temperature using three different scales:\n",
                "* Kelvin\n",
                "* Celsius\n",
                "* Fahrenheit\n",
                "\n",
                "**Write a Python script that converts temperature from Fahrenheit to Celsius and prints it. The formula for this is:**\n",
                "\n",
                "* `C = (F − 32) × 5 / 9`\n",
                "* Here, 'C' means Temperature in Celsius and 'F' means Temperature in Fahrenheit.\n",
                "\n",
                "**Example program run (bold indicate what the user enters):**\n",
                "\n",
                "Temperature in Fahrenheit: **-40**\u003cbr\u003e\n",
                "\n",
                "-40.0 Fahrenheit is equal to  -40.0 Celsius\n",
                "    \n",
                "\u003c/div\u003e "
            ]
        },
        {
            "cell_type": "code",
            "execution_count": 21,
            "metadata": {},
            "outputs": [],
            "source": [
                "# Your solution goes here\n",
                "\"\"\"\n",
                "Name: Huixin Wang\n",
                "Date: 15/03/2023\n",
                "Description: This python Scripts asks a user to enter the temperature in Fahrenheit and \n",
                "converts into Celsius\n",
                "\"\"\"\n",
                "\n",
                "# Asking user input and converting the value into float\n",
                "fahrenheitVal = float(input(\"Fahrenheit: \"))\n",
                "\n",
                "# using the equation to convert the Fahrenheit to celsius\n",
                "celsiusVal = round(((fahrenheitVal - 32) * 5 / 9), 2)\n",
                "\n",
                "# printing out the values in readable format\n",
                "print(\"Celsius: \" + str(celsiusVal))\n",
                ""
            ]
        },
        {
            "attachments": {},
            "cell_type": "markdown",
            "metadata": {},
            "source": [
                "## *Exercise 3: Shapes\u003ca class=\"anchor\" id=\"third-bullet\"\u003e\u003c/a\u003e"
            ]
        },
        {
            "attachments": {},
            "cell_type": "markdown",
            "metadata": {},
            "source": [
                "\u003cdiv class=\"alert alert-block alert-success\"\u003e\n",
                "In geometry, there are many shapes with multiple dimensions. There are shapes like point (can be 1-D, 2-D or mulit-D), line (2-D), square/rectangle (2-D), cube(3-D of a square), triangle(2-D), Triangular Prism (3-D of triangle), polygon (a flat 2-D shape with straight sides that are fully closed), and so on. We can find area, volume, and perimeter for different purposes in the life.\n",
                "\n",
                "For example, if you are planning to buy new couch for living area in your house, then you would look at what is it's height, weight, length. And based on those measures you can make a discussion to buy it or not.\n",
                "\n",
                "**Write a Python code that takes user input for a height, width, length of a Entertainment Unit (EU) (in cms), and dimension of the living room (height, width, and length in meters) and then print the volume it will consume in your living area, and the empty space in your living room.**\n",
                "\n",
                "* (You can assume the living room is empty and first item you bought is EU)\n",
                "\n",
                "* `1,000,000 cubic centimeters = 1 cubic meters`\n",
                "\n",
                "\u003cfont color=\"red\"\u003eNote: `'D'` refers to the dimension.\u003c/font\u003e\n",
                "\n",
                "\n",
                "**Example program run (bold indicate what the user enters):**\n",
                "\n",
                "Please enter the following information for Entertainment Unit:\u003cbr\u003e\n",
                "Height (in cms): **52.5**\u003cbr\u003e\n",
                "Width (in cms): **42.8**\u003cbr\u003e\n",
                "Length (in cms): **175.65**\u003cbr\u003e\n",
                "\n",
                "Please enter the following information for Living Room:\u003cbr\u003e\n",
                "Height (in meters): **8.2**\u003cbr\u003e\n",
                "Width (in meters): **4.2**\u003cbr\u003e\n",
                "Length (in meters): **12.5**\u003cbr\u003e\n",
                "\n",
                "After placing the Entertainment unit 430.10531445 cubric meters spaces remains in Living Room\n",
                "\u003c/div\u003e"
            ]
        },
        {
            "cell_type": "code",
            "execution_count": 3,
            "metadata": {},
            "outputs": [
                {
                    "name": "stdout",
                    "output_type": "stream",
                    "text": "Please enter the following information for Entertainment: \nPlease enter the following information for Living Room: \nAfter placing the Entertainment unit 430.10531445 cubric meters spaces remains in Living Room\n"
                }
            ],
            "source": [
                "# Your solution goes here\n",
                "\"\"\"\n",
                "Name: Huixin Wang \n",
                "Date: 15/03/2023\n",
                "Description: This python Scripts asks a user to enter the dimensions of Entertainment Unit \n",
                "and Living room, then calculates the volume of each and prints outs the \n",
                "empty space (remaining volume) in the Living Room\n",
                "\"\"\"\n",
                "\n",
                "# Asking user to enter the dimensions (Height, width, and length) of the Entertainment Unit\n",
                "print(\"Please enter the following information for Entertainment: \")\n",
                "heightEU = float(input(\"Height: \"))\n",
                "widthEU = float(input(\"Width: \"))\n",
                "lengthEU = float(input(\"Length: \"))\n",
                "\n",
                "# Calculating volume of Entertainment unit and converting into cubic meters\n",
                "volumeEU = (heightEU * widthEU * lengthEU) / 1000000\n",
                "\n",
                "# Asking user to enter the dimensions (Height, width, and length) of the Living Room\n",
                "print(\"Please enter the following information for Living Room: \")\n",
                "heightLR = float(input(\"Height: \"))\n",
                "widthLR = float(input(\"Width: \"))\n",
                "lengthLR = float(input(\"Length: \"))\n",
                "\n",
                "# Calculating the volume of Living room\n",
                "volumeLR = heightLR * widthLR * lengthLR\n",
                "\n",
                "# Printing the result in a readable format and subtracting the volume as well\n",
                "spaceRemain = volumeLR - volumeEU\n",
                "print(\"After placing the Entertainment unit \" + str(spaceRemain) + \" cubric meters spaces remains in Living Room\")\n",
                ""
            ]
        },
        {
            "attachments": {},
            "cell_type": "markdown",
            "metadata": {},
            "source": [
                "## Exercise 4: ASCII ART\u003ca class=\"anchor\" id=\"fourth-bullet\"\u003e\u003c/a\u003e"
            ]
        },
        {
            "attachments": {},
            "cell_type": "markdown",
            "metadata": {},
            "source": [
                "\u003cdiv class=\"alert alert-block alert-success\"\u003e\n",
                "The ASCII stands for the \"American Standard Code for Information Interchange\" was created in 1963 by the \"American Standards Association\" Committee or \"ASA\", the agency changed its name in 1969 by \"American National Standards Institute\" or \"ANSI\" as it is known since.. This code arises from reorder and expand the set of symbols and characters already used in telegraphy at that time by the Bell company.\n",
                "\n",
                "\n",
                "A ASCII art is drawing a image or painting using the ascii characters. You can find the list of ASCII character by [clicking here](https://theasciicode.com.ar/).\n",
                "\n",
                "\u003cb\u003e Write a Python script that prints out the following ASCII art on the output window.\u003c/b\u003e\n",
                "\n",
                "         ,-'``_.-'` \\   / `'-._``'-.\n",
                "       ,`   .'      |`-'|      `.   `.\n",
                "     ,`    (    /\\  |   |  /\\    )    `.\n",
                "    /       `--'  `-'   `-'  `--'       \\\n",
                "    |                                   |\n",
                "    \\      .--.  ,--.   ,--.  ,--.      /\n",
                "     `.   (    \\/    \\ /    \\/    )   ,'\n",
                "       `._ `--.___    V    ___.--' _,'\n",
                "          `'----'`         `'----'`\n",
                "          \n",
                "* **Hint:** you have use print statements and escape the characters.\n",
                "\n",
                "* If you want to draw more arts like this you can visit the following [link](https://www.asciiart.eu/).\n",
                "\u003c/div\u003e"
            ]
        },
        {
            "cell_type": "code",
            "execution_count": 48,
            "metadata": {},
            "outputs": [
                {
                    "name": "stdout",
                    "output_type": "stream",
                    "text": "     ,-'``_.-'` \\   / `'-._``'-.\n   ,`   .'      |`-'|      `.   `.\n ,`    (    /\\  |   |  /\\    )    `.\n\n"
                }
            ],
            "source": [
                "# Your solution goes here\n",
                "\"\"\"\n",
                "Name: Huixin Wang\n",
                "Date: 15/03/2023\n",
                "Description: This python Scripts stores the ASCII art in a long string and prints out the variable\n",
                "\"\"\"\n",
                "\n",
                "print(\"     ,-'``_.-'` \\   / `'-._``'-.\\n   ,`   .'      |`-'|      `.   `.\\n ,`    (    /\\  |   |  /\\    )    `.\\n\")"
            ]
        },
        {
            "attachments": {},
            "cell_type": "markdown",
            "metadata": {},
            "source": [
                "## *Exercise 5: Monthly EMI Calculator\u003ca class=\"anchor\" id=\"fifth-bullet\"\u003e\u003c/a\u003e"
            ]
        },
        {
            "attachments": {},
            "cell_type": "markdown",
            "metadata": {},
            "source": [
                "\u003cdiv class=\"alert alert-block alert-success\"\u003e\n",
                "When making major purchases such as houses or vehicles, most people do not pay the entire amount up front. Instead, they `finance` the purchase by taking out a loan at a certain interest rate, and they agree to pay back the loan in monthly installments over a period of time.\n",
                "\n",
                "To compute the amount of a monthly payment, you need the following information:\n",
                "* P, initial amount of loan (in dollars)\n",
                "* r, monthly interest rate (as a decimal), which is the annual interest rate divided by 12\n",
                "* n, number of months to make payments. Given those values, the monthly payment M can be computed using the formula\n",
                "\n",
                "$$ M = P \\dfrac{r(1 + r)^n}{(1 + r)^n − 1} $$\n",
                "\n",
                "For example, suppose you’re financing a `$30,000` car over `5` years, at an annual interest rate of `3.6%`. \n",
                "Then, `P = 30000`, `r = 0.036 / 12 = 0.003`, and `n = 5 × 12 = 60`. Substituting those values into the formula yields a monthly payment of `M = 547.1`.\n",
                "\n",
                "\n",
                "Note that the total amount you pay is `$547.1` per month over 60 months, which comes out to `$32,825.81`. Your loan ultimately costs an extra `$2,825.81` in interest! Higher interest rates and/or longer loan terms will result in paying more over time.\n",
                "\n",
                "**Write a program that allows the user to enter the following inputs:**\n",
                "* Initial amount of loan, in dollars\n",
                "* Annual interest rate, as a percentage (e.g., 4.8 for 4.8%)\n",
                "* Number of years to pay back the loan\n",
                "\n",
                "Your program should then calculate and show the monthly payment, the total amount paid over the entire loan term, and the total interest paid, all rounded to the nearest cent. Note that the user inputs the annual interest rate and the number of years to pay back the loan. However, the monthly payment formula requires values in terms of months. Be sure to convert\n",
                "accordingly.\n",
                "\n",
                "**Example program run (bold indicate what the user enters)**\n",
                "\n",
                "Please enter the following information:\u003cbr\u003e\n",
                "* Initial amount of loan: **250000**\u003cbr\u003e\n",
                "* Annual interest rate (in %): **4.5**\u003cbr\u003e\n",
                "* Number of years: **15**\u003cbr\u003e\n",
                "    \n",
                "        \n",
                "* Monthly payment: `$1912.48`\u003cbr\u003e\n",
                "* Total paid: `$344246.98`\u003cbr\u003e\n",
                "* Interest paid: `$94246.98`\u003cbr\u003e\n",
                "\u003c/div\u003e"
            ]
        },
        {
            "cell_type": "code",
            "execution_count": 44,
            "metadata": {},
            "outputs": [
                {
                    "name": "stdout",
                    "output_type": "stream",
                    "text": "Your monthly payment will be: 1912.48, your total payent will be: 344246.98, and the total interest is: 94246.98\n"
                }
            ],
            "source": [
                "# Your solution goes here\n",
                "\"\"\"\n",
                "Name: Huixin Wang\n",
                "Date: 15/03/2023\n",
                "Description: This python Scripts calculates the Monthly EMI and interested paid for a financing,\n",
                "by asking a user to enter the principal amount, rate (annually), \n",
                "and number of years for financing a item.\n",
                "\"\"\"\n",
                "\n",
                "# Asking user to enter the Initial amount, rate, and years.\n",
                "# converting the amount to float\n",
                "initial_amount = float(input(\"Please insert your initial amount: \"))\n",
                "annual_rate = float(input(\"Please insert the annual interest rate in %: \"))\n",
                "years = float(input(\"Please insert the number of years to pay back the loan: \"))\n",
                "\n",
                "# converting the annual rate to monthly rate by dividing it by 1200\n",
                "monthly_rate = annual_rate / 1200\n",
                "\n",
                "# converting years into months\n",
                "months = years * 12\n",
                "\n",
                "# Using the expression to calculate the monthly EMI\n",
                "monthly_EMI = initial_amount * (monthly_rate * (1 + monthly_rate) ** months) / ((1 + monthly_rate) ** months - 1)\n",
                "\n",
                "# Calculating the total amount paid with interest\n",
                "total_paid = monthly_EMI * months\n",
                "interest_paid = total_paid - initial_amount\n",
                "\n",
                "# Printing in a readable format\n",
                "print(\"Your monthly payment will be: \" + str(round(monthly_EMI, 2)) + \", your total payent will be: \" + str(round(total_paid, 2)) + \", and the total interest is: \" + str(round(interest_paid, 2)))\n",
                ""
            ]
        }
    ]
}
