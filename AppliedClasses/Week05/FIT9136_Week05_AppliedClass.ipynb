{
    "metadata": {
        "kernelspec": {
            "name": "python3",
            "display_name": "Python 3 (ipykernel)",
            "language": "python"
        }
    },
    "nbformat": 4,
    "nbformat_minor": 5,
    "cells": [
        {
            "attachments": {},
            "cell_type": "markdown",
            "metadata": {},
            "source": [
                "# FIT9136 - Week 5 Applied Session"
            ]
        },
        {
            "attachments": {},
            "cell_type": "markdown",
            "metadata": {},
            "source": [
                "## Table of Contents:\n",
                "\n",
                "1. [*Exercise 1: Tom Riddle and His Horcruxes](#exercise-1)\n",
                "2. [*Exercise 2: The Greatest Fight of Wizards](#exercise-2)\n",
                "3. [*Exercise 3: Demystifying Secret Numbers](#exercise-3)\n",
                "4. [*Exercise 4: Credit Card Validation](#exercise-4)"
            ]
        },
        {
            "attachments": {},
            "cell_type": "markdown",
            "metadata": {},
            "source": [
                "### *Exercise 1: Tom Riddle and His Horcruxes \u003ca class=\"anchor\" id=\"exercise-1\"\u003e\u003c/a\u003e\n",
                "#List_manipulation"
            ]
        },
        {
            "attachments": {},
            "cell_type": "markdown",
            "metadata": {},
            "source": [
                "\u003cdiv class=\"alert alert-block alert-success\"\u003e\n",
                "\n",
                "Tom Riddle has created 7 Horcruxes. He knows that the old Dumbledore and other fellows in Hogwarts are not capable of Python programming. So, he decided to store 3 of the horcruxes(`'🕮'` his diary, `'💍'` Marvolo Gaunt's ring and `'♕'` Rowena Ravenclaw's diadem) and his precious nose `'👃'` into a Python list of lists. Below is his Python implementation:\n",
                "\n",
                "```python\n",
                "horcruxes = [ [] ] * 4 # create a list containing 4 empty lists\n",
                "horcruxes[0].append('🕮') # put the diary in the first list\n",
                "horcruxes[1].append('💍') # put the ring in the second list\n",
                "horcruxes[2].append('♕') # put the diadem in the third list\n",
                "horcruxes[3].append('👃') # put the nost in the last list\n",
                "```\n",
                "\n",
                "He thought he would get the resulting list as `[['🕮'],['💍'],['♕'],['👃']]`. \n",
                "\n",
                "However, he gets `[['🕮','💍','♕','👃'],['🕮','💍','♕','👃'],['🕮','💍','♕','👃'],['🕮','💍','♕','👃']]` instead. Why is that? Also, how can he create the list he wants? \n",
                "    \n",
                "\u003c/div\u003e"
            ]
        },
        {
            "cell_type": "code",
            "execution_count": 1,
            "metadata": {},
            "outputs": [
                {
                    "name": "stdout",
                    "output_type": "stream",
                    "text": "[['🕮', '💍', '♕', '👃'], ['🕮', '💍', '♕', '👃'], ['🕮', '💍', '♕', '👃'], ['🕮', '💍', '♕', '👃']]\n"
                }
            ],
            "source": [
                "'''\n",
                "The 4 sublists are the same list (copies) \n",
                "where sublist a, b, c and d are pointing to the same location in the memory\n",
                "'''\n",
                "# ↓ This statement is making 4 copies\n",
                "horcruxes = [ [] ] * 4 # create a list containing 4 empty lists\n",
                "horcruxes[0].append('🕮') # put the diary in the first list\n",
                "horcruxes[1].append('💍') # put the ring in the second list\n",
                "horcruxes[2].append('♕') # put the diadem in the third list\n",
                "horcruxes[3].append('👃') # put the nost in the last list\n",
                "\n",
                "print(horcruxes)"
            ]
        },
        {
            "attachments": {},
            "cell_type": "markdown",
            "metadata": {},
            "source": [
                "The 4 sublists are located in the same location"
            ]
        },
        {
            "cell_type": "code",
            "execution_count": 7,
            "metadata": {},
            "outputs": [
                {
                    "data": {
                        "text/plain": "True"
                    },
                    "execution_count": 7,
                    "metadata": {},
                    "output_type": "execute_result"
                }
            ],
            "source": [
                "horcruxes_old = [[]]* 4\n",
                "id(horcruxes_old[0]) == id(horcruxes_old[1])"
            ]
        },
        {
            "cell_type": "code",
            "execution_count": 6,
            "metadata": {},
            "outputs": [
                {
                    "name": "stdout",
                    "output_type": "stream",
                    "text": "[['🕮'], ['💍'], ['♕'], ['👃']]\n"
                }
            ],
            "source": [
                "# need to create 4 different sublists in different locations, each should contain 1 item\n",
                "horcruxes = []\n",
                "for i in range(4):\n",
                "    horcruxes.append(list()) # horcruxes.append([])\n",
                "horcruxes[0].append('🕮') # put the diary in the first list\n",
                "horcruxes[1].append('💍') # put the ring in the second list\n",
                "horcruxes[2].append('♕') # put the diadem in the third list\n",
                "horcruxes[3].append('👃') # put the nost in the last list\n",
                "\n",
                "print(horcruxes)"
            ]
        },
        {
            "cell_type": "code",
            "execution_count": 0,
            "metadata": {},
            "outputs": [],
            "source": [
                "#list comprehension\n",
                "horcruxes = [[] for i in range(4)]\n",
                "horcruxes[0].append('🕮') # put the diary in the first list\n",
                "horcruxes[1].append('💍') # put the ring in the second list\n",
                "horcruxes[2].append('♕') # put the diadem in the third list\n",
                "horcruxes[3].append('👃') # put the nost in the last list\n",
                "\n",
                "print(horcruxes)"
            ]
        },
        {
            "attachments": {},
            "cell_type": "markdown",
            "metadata": {},
            "source": [
                "### *Exercise 2: The Greatest Fight of Wizards \u003ca class=\"anchor\" id=\"exercise-2\"\u003e\u003c/a\u003e\n",
                "\n",
                "#dictionary #time_module #math_module"
            ]
        },
        {
            "attachments": {},
            "cell_type": "markdown",
            "metadata": {},
            "source": [
                "\u003cdiv class=\"alert alert-block alert-success\"\u003e\n",
                "\n",
                "Now, Harry wrote a letter to challenge Voldemort. However, due to the lockdown, Harry and Voldemort need to stay at home and maintain social distancing. In light of that, Voldemort decides to write a Python program for Harry to challenge.\n",
                "\n",
                "In this program, it will repetitively ask Harry to type in the spells until either of Voldemort or Harry has 0 HP value. Voldemort and Harry both have 100 HP values initially. After Harry type in the spells each time, if the spell is in table 1 below, the corresponding damage will be made to Voldemort. However, if the spell is not in table 1, Harry will lose 15 HP.\n",
                "\n",
                "\u003ctable\u003e\n",
                "\u003cthead\u003e\u003ctd\u003eSpell (case \u003cb\u003einsensitive\u003c/b\u003e)\u003c/td\u003e\u003ctd\u003eDamage to Voldemort\u003c/td\u003e\u003ctd\u003eDamage to Harry\u003c/td\u003e\u003c/thead\u003e\n",
                "\u003ctr\u003e\u003ctd\u003eExpelliarmus\u003c/td\u003e\u003ctd\u003e20\u003c/td\u003e\u003ctd\u003e0\u003c/td\u003e\u003c/tr\u003e\n",
                "\u003ctr\u003e\u003ctd\u003eIncendio\u003c/td\u003e\u003ctd\u003e15\u003c/td\u003e\u003ctd\u003e0\u003c/td\u003e\u003c/tr\u003e\n",
                "\u003ctr\u003e\u003ctd\u003eStupefy\u003c/td\u003e\u003ctd\u003e10\u003c/td\u003e\u003ctd\u003e0\u003c/td\u003e\u003c/tr\u003e\n",
                "\u003ctr\u003e\u003ctd\u003eConfringo\u003c/td\u003e\u003ctd\u003e15\u003c/td\u003e\u003ctd\u003e0\u003c/td\u003e\u003c/tr\u003e\n",
                "\u003ctr\u003e\u003ctd\u003eRictusempra\u003c/td\u003e\u003ctd\u003e5\u003c/td\u003e\u003ctd\u003e0\u003c/td\u003e\u003c/tr\u003e\n",
                "\u003ctr\u003e\u003ctd\u003eNone of above\u003c/td\u003e\u003ctd\u003e0\u003c/td\u003e\u003ctd\u003e15\u003c/td\u003e\u003c/tr\u003e\n",
                "\u003c/table\u003e\n",
                "\u003ccenter\u003e\u003csmall\u003eTable 1 - Effects of spells\u003c/small\u003e\u003c/center\u003e\n",
                "\n",
                "If either Harry or Voldemort has 0 HP, the program will print out who is the survivor of this fight. Please write the program for Voldemort according to the above descriptions.\n",
                "    \n",
                "\u003c/div\u003e "
            ]
        },
        {
            "cell_type": "code",
            "execution_count": 9,
            "metadata": {},
            "outputs": [
                {
                    "name": "stdout",
                    "output_type": "stream",
                    "text": "voldemor_hp : 90\nharry_hp : 100\n"
                }
            ],
            "source": [
                "# Your solution goes here\n",
                "# with unknown amount of inputs, a while loop can be used \n",
                "harry_hp = 100\n",
                "voldemor_hp = 100\n",
                "while True:\n",
                "    if harry_hp \u003c= 0 or voldemor_hp \u003c= 0:\n",
                "        if harry_hp \u003c= 0:\n",
                "            print(\"Voldemor wins\")\n",
                "        else:\n",
                "            print(\"Harry wins\")\n",
                "        break\n",
                "    \n",
                "    harry_spell = input(\"Please input your spell: \")\n",
                "\n",
                "    harry_spell = harry_spell.lower()\n",
                "\n",
                "    if harry_spell == \"expelliarmus\":\n",
                "        voldemor_hp -= 20\n",
                "    elif harry_spell == \"incendio\":\n",
                "        voldemor_hp -= 15\n",
                "    elif harry_spell == \"stupefy\":\n",
                "        voldemor_hp -= 10\n",
                "    elif harry_spell == \"Confringo\".lower():\n",
                "        voldemor_hp -= 15\n",
                "    elif harry_spell == \"rictusempra\":\n",
                "        voldemor_hp -= 5\n",
                "    else:\n",
                "        harry_hp -= 15\n",
                "\n",
                "    print(f\"voldemor_hp : {voldemor_hp}\\nharry_hp : {harry_hp}\")"
            ]
        },
        {
            "attachments": {},
            "cell_type": "markdown",
            "metadata": {},
            "source": [
                "Using dictionary:"
            ]
        },
        {
            "cell_type": "code",
            "execution_count": 10,
            "metadata": {},
            "outputs": [
                {
                    "name": "stdout",
                    "output_type": "stream",
                    "text": "voldemor_hp : 85\nharry_hp : 100\n"
                }
            ],
            "source": [
                "# This question can be done by using a dictionary\n",
                "spell_damage = {'expelliarmus': 20, 'incendio': 15, 'stupefy': 10, 'confringo': 15, 'rictusempra': 5}\n",
                "\n",
                "harry_hp = 100\n",
                "voldemor_hp = 100\n",
                "while True:\n",
                "    if harry_hp \u003c= 0 or voldemor_hp \u003c= 0:\n",
                "        if harry_hp \u003c= 0:\n",
                "            print(\"Voldemor wins\")\n",
                "        else:\n",
                "            print(\"Harry wins\")\n",
                "        break\n",
                "    \n",
                "    harry_spell = input(\"Please input your spell: \")\n",
                "\n",
                "    harry_spell = harry_spell.lower()\n",
                "\n",
                "    #check if the spell is in the dictionary\n",
                "    if harry_spell in spell_damage:\n",
                "        damage = spell_damage[harry_spell]\n",
                "        voldemor_hp -= damage\n",
                "    else:\n",
                "        harry_hp -= 15\n",
                "        \n",
                "    print(f\"voldemor_hp : {voldemor_hp}\\nharry_hp : {harry_hp}\")"
            ]
        },
        {
            "attachments": {},
            "cell_type": "markdown",
            "metadata": {},
            "source": [
                "if using this method to find an item with an invalid key, will get an error, therefore it's better to use \"get.()\" method"
            ]
        },
        {
            "cell_type": "code",
            "execution_count": 13,
            "metadata": {},
            "outputs": [
                {
                    "name": "stdout",
                    "output_type": "stream",
                    "text": "20\n"
                }
            ],
            "source": [
                "print(spell_damage[\"expelliarmus\"])"
            ]
        },
        {
            "cell_type": "code",
            "execution_count": 17,
            "metadata": {},
            "outputs": [
                {
                    "ename": "KeyError",
                    "evalue": "'asdfasdf'",
                    "output_type": "error",
                    "traceback": [
                        "\u001b[0;31m---------------------------------------------------------------------------\u001b[0m",
                        "\u001b[0;31mKeyError\u001b[0m                                  Traceback (most recent call last)",
                        "Cell \u001b[0;32mIn[1], line 1\u001b[0m\n\u001b[0;32m----\u003e 1\u001b[0m \u001b[38;5;28mprint\u001b[39m(\u001b[43mspell_damage\u001b[49m\u001b[43m[\u001b[49m\u001b[38;5;124;43m'\u001b[39;49m\u001b[38;5;124;43masdfasdf\u001b[39;49m\u001b[38;5;124;43m'\u001b[39;49m\u001b[43m]\u001b[49m)\n",
                        "\u001b[0;31mKeyError\u001b[0m: 'asdfasdf'"
                    ]
                }
            ],
            "source": [
                "print(spell_damage['asdfasdf'])"
            ]
        },
        {
            "cell_type": "code",
            "execution_count": 14,
            "metadata": {},
            "outputs": [
                {
                    "name": "stdout",
                    "output_type": "stream",
                    "text": "20\n"
                }
            ],
            "source": [
                "print(spell_damage.get(\"expelliarmus\"))"
            ]
        },
        {
            "cell_type": "code",
            "execution_count": 15,
            "metadata": {},
            "outputs": [
                {
                    "name": "stdout",
                    "output_type": "stream",
                    "text": "None\n"
                }
            ],
            "source": [
                "print(spell_damage.get('sdfasdf')) # --\u003e return None"
            ]
        },
        {
            "cell_type": "code",
            "execution_count": 16,
            "metadata": {},
            "outputs": [
                {
                    "name": "stdout",
                    "output_type": "stream",
                    "text": "nothing\n"
                }
            ],
            "source": [
                "print(spell_damage.get('sdasdf', 'nothing'))"
            ]
        },
        {
            "cell_type": "code",
            "execution_count": 11,
            "metadata": {},
            "outputs": [
                {
                    "name": "stdout",
                    "output_type": "stream",
                    "text": "dict_keys(['expelliarmus', 'incendio', 'stupefy', 'confringo', 'rictusempra'])\n"
                }
            ],
            "source": [
                "print(spell_damage.keys())"
            ]
        },
        {
            "cell_type": "code",
            "execution_count": 12,
            "metadata": {},
            "outputs": [
                {
                    "name": "stdout",
                    "output_type": "stream",
                    "text": "dict_values([20, 15, 10, 15, 5])\n"
                }
            ],
            "source": [
                "print(spell_damage.values())"
            ]
        },
        {
            "attachments": {},
            "cell_type": "markdown",
            "metadata": {},
            "source": [
                "Search on \"Match Case\""
            ]
        },
        {
            "attachments": {},
            "cell_type": "markdown",
            "metadata": {},
            "source": [
                "### *Exercise 3:  Demystifying Secret Numbers\u003ca class=\"anchor\" id=\"exercise-3\"\u003e\u003c/a\u003e\n",
                "#dictionary #loops #condition"
            ]
        },
        {
            "attachments": {},
            "cell_type": "markdown",
            "metadata": {},
            "source": [
                "\u003cdiv class=\"alert alert-block alert-success\"\u003e\n",
                "\n",
                "\u003csmall\u003eAfter learning so many things, it is about time to do a mission.\u003c/small\u003e\n",
                "\n",
                "In this task, you are given a string of mysterious numbers and three decoding dictionaries. \n",
                "\n",
                "The string is divided into 3 parts by lines of '==='. \n",
                "\n",
                "Each part of the string can be decoded by one decoding dictionary only.\n",
                "\n",
                "In the string, the each number is split by space or new line character '\\n'.\n",
                "\n",
                "For the dictionaries, the keys are the numbers and the values are the corresponding words of the numbers.\n",
                "\n",
                "**Your goal is to try to decode this string of mysterious numbers using the three dictionaries provided.**\n",
                "\n",
                "*Things you may consider:*\n",
                "1. How can we separate the string into 3 parts?\n",
                "2. How can we separate the numbers? Are they integers or string?\n",
                "3. How can we get the correct dictionary to decode the current part of the string?\n",
                "4. How can we get the word from the number using the correct dictionary?\n",
                "5. How can we join all the decoded words together?\n",
                "    \n",
                "\u003c/div\u003e"
            ]
        },
        {
            "cell_type": "code",
            "execution_count": 12,
            "metadata": {},
            "outputs": [],
            "source": [
                "# Run this code cell to create the variables\n",
                "# mysterious numbers\n",
                "myst_nums = \"\"\"2658 8503 2582 3035 9951 5535 1763 5552 2276 2079 4906 2658 293 2582 3407 786 6164 3279 3825 595 4975\n",
                "===\n",
                "6152 1974 7262 7262 2070 1861 6055 9735 1398 183 7262 7708 3284 4175 2908 8000 9364 4979 2070 1861 6055 9735 8590 4691 4979 8618 4161 9302 4979 7840 7262\n",
                "===\n",
                "3589 3589 9817 5372 7278 3522 2890 7206 8258 2037 8445 1076 7853 5400 8159 4505 8364 8258 1258 2738 4527 8258 2635 6049 5576 6798 9432 9290 4362 8258 6142 978 9198\"\"\"\n",
                "\n",
                "\n",
                "# first look up dictionary\n",
                "dict1 = {6152: 'then', 9302: 'till', 9735: 'much', 1398: 'a', 8618: 'was', 3284: 'out', 7262: 'you', 1974: \"there's\", 4979: 'i', 4161: 'lost', 9364: 'crowds', 1861: 'feel', 7840: 'found', 183: 'stranger', 8590: 'in', 8000: 'the', 6055: 'that', 2070: \"don't\", 4691: 'danger', 4175: 'from', 7708: 'stand', 2908: 'all'}\n",
                "# second look up dictionary\n",
                "dict2 = {3279: 'when', 595: 'none', 2276: 'no', 1763: 'streets', 3407: 'tryna', 3825: \"there's\", 3035: 'fighting', 4906: 'ground', 293: 'just', 5552: 'with', 2582: 'strangers', 2658: \"we're\", 9951: 'in', 5535: 'the', 6164: 'release', 2079: 'common', 4975: 'around', 8503: 'all', 786: 'find'}\n",
                "# third look up dictionary\n",
                "dict3 = {9432: 'me', 3589: 'baby,', 5576: 'baby', 4505: 'not', 6142: 'can', 2738: 'is', 5372: 'you', 9817: \"won't\", 8258: 'i', 8445: 'really', 7853: 'stay', 6798: 'hold', 9198: 'breathe', 7278: 'please', 5400: 'if', 7206: 'me?', 6049: 'you,', 4362: 'so', 3522: 'come', 1258: 'know', 2635: 'need', 8159: \"you're\", 978: 'finally', 1076: 'wanna', 4527: 'that', 2890: 'rescue', 2037: \"don't\", 9290: 'close', 8364: 'all'}"
            ]
        },
        {
            "cell_type": "code",
            "execution_count": 3,
            "metadata": {},
            "outputs": [
                {
                    "name": "stdout",
                    "output_type": "stream",
                    "text": "2658 8503 2582 3035 9951 5535 1763 5552 2276 2079 4906 2658 293 2582 3407 786 6164 3279 3825 595 4975\n===\n6152 1974 7262 7262 2070 1861 6055 9735 1398 183 7262 7708 3284 4175 2908 8000 9364 4979 2070 1861 6055 9735 8590 4691 4979 8618 4161 9302 4979 7840 7262\n===\n3589 3589 9817 5372 7278 3522 2890 7206 8258 2037 8445 1076 7853 5400 8159 4505 8364 8258 1258 2738 4527 8258 2635 6049 5576 6798 9432 9290 4362 8258 6142 978 9198\n"
                }
            ],
            "source": [
                "print(myst_nums)"
            ]
        },
        {
            "cell_type": "code",
            "execution_count": 4,
            "metadata": {},
            "outputs": [
                {
                    "data": {
                        "text/plain": "\"we're\""
                    },
                    "execution_count": 4,
                    "metadata": {},
                    "output_type": "execute_result"
                }
            ],
            "source": [
                "dict2[2658]"
            ]
        },
        {
            "cell_type": "code",
            "execution_count": 14,
            "metadata": {},
            "outputs": [
                {
                    "name": "stdout",
                    "output_type": "stream",
                    "text": "we're all strangers fighting in the streets with no common ground we're just strangers tryna find release when there's none around\nthen there's you you don't feel that much a stranger you stand out from all the crowds i don't feel that much in danger i was lost till i found you\nbaby, baby, won't you please come rescue me? i don't really wanna stay if you're not all i know is that i need you, baby hold me close so i can finally breathe\n\n"
                }
            ],
            "source": [
                "# Your solution goes here\n",
                "\n",
                "# first thing is to check if there are any duplilcates\n",
                "# using set\n",
                "set(dict1.keys()) \u0026 set(dict2.keys()) \u0026 set(dict3.keys())\n",
                "# Output: set() , which is an empty list, means no duplicates\n",
                "\n",
                "# alternative way (but more complicated)\n",
                "#initial_keys = list(dict1.keys())\n",
                "#for each in dict2.keys():\n",
                "#    if each in initial_keys:\n",
                "#        print(each)\n",
                "\n",
                "#for each in dict3.keys():\n",
                "#    if each in initial_keys:\n",
                "#        print(each)\n",
                "\n",
                "# merge 3 dicts together\n",
                "all_dict = dict()\n",
                "# print(len(dict1)) #check the length\n",
                "#merging\n",
                "all_dict.update(dict1) #dict1.update(dict2) -\u003e merging dict1 and 2\n",
                "all_dict.update(dict2)\n",
                "all_dict.update(dict3)\n",
                "# print(len(dict1)) #check the updated length\n",
                "\n",
                "whole_str = \"\"\n",
                "\n",
                "# all_dict\n",
                "splited_list = myst_nums.split('===')\n",
                "# revert -\u003e \"===\".join(splited_list)\n",
                "\n",
                "for each_sentence in splited_list:\n",
                "    for num in each_sentence.strip('\\n').split(' '):\n",
                "        word = all_dict[int(num)]\n",
                "        whole_str += word + \" \"\n",
                "    whole_str = whole_str.strip(' ')\n",
                "    whole_str += '\\n'\n",
                "\n",
                "print(whole_str)\n",
                ""
            ]
        },
        {
            "attachments": {},
            "cell_type": "markdown",
            "metadata": {},
            "source": [
                "### *Exercise 4: Credit Card Validation \u003ca class=\"anchor\" id=\"exercise-4\"\u003e\u003c/a\u003e\n",
                "#function #list_comprehension"
            ]
        },
        {
            "attachments": {},
            "cell_type": "markdown",
            "metadata": {},
            "source": [
                "\u003cdiv class=\"alert alert-block alert-success\"\u003e\n",
                "\n",
                "Some may not know, the numbers on your credit cards are not simply randomly generated. In this task, you will create a program to validate a credit card number.\n",
                "\n",
                "*Luhn algorithm* is a very common algorithm used to verify a credit card number. *In this task, we have modified the algorithm a bit.* The steps are as follows:\n",
                "\n",
                "1. Drop the last digit from the number(The check digit)\n",
                "2. Reverse the numbers\n",
                "3. Multiply the digits in *even positions* by 2 and subtract 9 to all any result higher than 9\n",
                "4. Add all the numbers together\n",
                "5. Get the remainder of the sum divided by 10\n",
                "6. The sum of remainder and the last digit removed in step 1 should be divisible by 8 if the credit card number is valid\n",
                "\n",
                "\n",
                "Example:\n",
                "\u003ctable\u003e4539179349284192\n",
                "\u003ctr\u003e\u003ctd\u003eOriginal Number\u003c/td\u003e\u003ctd\u003e4\u003c/td\u003e\u003ctd\u003e5\u003c/td\u003e\u003ctd\u003e3\u003c/td\u003e\u003ctd\u003e9\u003c/td\u003e\u003ctd\u003e1\u003c/td\u003e\u003ctd\u003e7\u003c/td\u003e\u003ctd\u003e9\u003c/td\u003e\u003ctd\u003e3\u003c/td\u003e\u003ctd\u003e4\u003c/td\u003e\u003ctd\u003e9\u003c/td\u003e\u003ctd\u003e2\u003c/td\u003e\u003ctd\u003e8\u003c/td\u003e\u003ctd\u003e4\u003c/td\u003e\u003ctd\u003e1\u003c/td\u003e\u003ctd\u003e9\u003c/td\u003e\u003ctd\u003e\u003cb\u003e\u003cfont color='red'\u003e2\u003c/font\u003e\u003c/b\u003e\u003c/td\u003e\u003c/tr\u003e\n",
                "\u003ctr\u003e\u003ctd\u003eDrop Last Digit\u003c/td\u003e\u003ctd\u003e4\u003c/td\u003e\u003ctd\u003e5\u003c/td\u003e\u003ctd\u003e3\u003c/td\u003e\u003ctd\u003e9\u003c/td\u003e\u003ctd\u003e1\u003c/td\u003e\u003ctd\u003e7\u003c/td\u003e\u003ctd\u003e9\u003c/td\u003e\u003ctd\u003e3\u003c/td\u003e\u003ctd\u003e4\u003c/td\u003e\u003ctd\u003e9\u003c/td\u003e\u003ctd\u003e2\u003c/td\u003e\u003ctd\u003e8\u003c/td\u003e\u003ctd\u003e4\u003c/td\u003e\u003ctd\u003e1\u003c/td\u003e\u003ctd\u003e9\u003c/td\u003e\u003ctd\u003e \u003c/td\u003e\u003c/tr\u003e\n",
                "\u003ctr\u003e\u003ctd\u003eReverse the numbers\u003c/td\u003e\u003ctd\u003e9\u003c/td\u003e\u003ctd\u003e1\u003c/td\u003e\u003ctd\u003e4\u003c/td\u003e\u003ctd\u003e8\u003c/td\u003e\u003ctd\u003e2\u003c/td\u003e\u003ctd\u003e9\u003c/td\u003e\u003ctd\u003e4\u003c/td\u003e\u003ctd\u003e3\u003c/td\u003e\u003ctd\u003e9\u003c/td\u003e\u003ctd\u003e7\u003c/td\u003e\u003ctd\u003e1\u003c/td\u003e\u003ctd\u003e9\u003c/td\u003e\u003ctd\u003e3\u003c/td\u003e\u003ctd\u003e5\u003c/td\u003e\u003ctd\u003e4\u003c/td\u003e\u003ctd\u003e \u003c/td\u003e\u003c/tr\u003e\n",
                "\u003ctr\u003e\u003ctd\u003eMultiply the digits in even positions by 2\u003c/td\u003e\u003ctd\u003e18\u003c/td\u003e\u003ctd\u003e1\u003c/td\u003e\u003ctd\u003e8\u003c/td\u003e\u003ctd\u003e8\u003c/td\u003e\u003ctd\u003e4\u003c/td\u003e\u003ctd\u003e9\u003c/td\u003e\u003ctd\u003e8\u003c/td\u003e\u003ctd\u003e3\u003c/td\u003e\u003ctd\u003e18\u003c/td\u003e\u003ctd\u003e7\u003c/td\u003e\u003ctd\u003e2\u003c/td\u003e\u003ctd\u003e9\u003c/td\u003e\u003ctd\u003e6\u003c/td\u003e\u003ctd\u003e5\u003c/td\u003e\u003ctd\u003e8\u003c/td\u003e\u003ctd\u003e \u003c/td\u003e\u003c/tr\u003e\n",
                "\u003ctr\u003e\u003ctd\u003eSubtract 9 to all any result higher than 9\u003c/td\u003e\u003ctd\u003e9\u003c/td\u003e\u003ctd\u003e1\u003c/td\u003e\u003ctd\u003e8\u003c/td\u003e\u003ctd\u003e8\u003c/td\u003e\u003ctd\u003e4\u003c/td\u003e\u003ctd\u003e9\u003c/td\u003e\u003ctd\u003e8\u003c/td\u003e\u003ctd\u003e3\u003c/td\u003e\u003ctd\u003e9\u003c/td\u003e\u003ctd\u003e7\u003c/td\u003e\u003ctd\u003e2\u003c/td\u003e\u003ctd\u003e9\u003c/td\u003e\u003ctd\u003e6\u003c/td\u003e\u003ctd\u003e5\u003c/td\u003e\u003ctd\u003e8\u003c/td\u003e\u003ctd\u003e \u003c/td\u003e\u003c/tr\u003e\n",
                "\u003ctr\u003e\u003ctd\u003eAdd all the numbers together\u003c/td\u003e\u003ctd\u003e96\u003c/td\u003e\u003ctd\u003e \u003c/td\u003e\u003ctd\u003e \u003c/td\u003e\u003ctd\u003e \u003c/td\u003e\u003ctd\u003e \u003c/td\u003e\u003ctd\u003e \u003c/td\u003e\u003ctd\u003e \u003c/td\u003e\u003ctd\u003e \u003c/td\u003e\u003ctd\u003e \u003c/td\u003e\u003ctd\u003e \u003c/td\u003e\u003ctd\u003e \u003c/td\u003e\u003ctd\u003e \u003c/td\u003e\u003ctd\u003e \u003c/td\u003e\u003ctd\u003e \u003c/td\u003e\u003ctd\u003e \u003c/td\u003e\u003ctd\u003e \u003c/td\u003e\u003c/tr\u003e\n",
                "\u003ctr\u003e\u003ctd\u003eGet remainder divided by 10\u003c/td\u003e\u003ctd\u003e6\u003c/td\u003e\u003ctd\u003e \u003c/td\u003e\u003ctd\u003e \u003c/td\u003e\u003ctd\u003e \u003c/td\u003e\u003ctd\u003e \u003c/td\u003e\u003ctd\u003e \u003c/td\u003e\u003ctd\u003e \u003c/td\u003e\u003ctd\u003e \u003c/td\u003e\u003ctd\u003e \u003c/td\u003e\u003ctd\u003e \u003c/td\u003e\u003ctd\u003e \u003c/td\u003e\u003ctd\u003e \u003c/td\u003e\u003ctd\u003e \u003c/td\u003e\u003ctd\u003e \u003c/td\u003e\u003ctd\u003e \u003c/td\u003e\u003ctd\u003e \u003c/td\u003e\u003c/tr\u003e\n",
                "\u003ctr\u003e\u003ctd\u003eAdd remainder to last digit\u003c/td\u003e\u003ctd\u003e6+\u003cb\u003e\u003cfont color='red'\u003e2\u003c/font\u003e\u003c/b\u003e\u003c/td\u003e\u003ctd\u003e=\u003c/td\u003e\u003ctd\u003e8\u003c/td\u003e\u003ctd\u003e \u003c/td\u003e\u003ctd\u003e \u003c/td\u003e\u003ctd\u003e \u003c/td\u003e\u003ctd\u003e \u003c/td\u003e\u003ctd\u003e \u003c/td\u003e\u003ctd\u003e \u003c/td\u003e\u003ctd\u003e \u003c/td\u003e\u003ctd\u003e \u003c/td\u003e\u003ctd\u003e \u003c/td\u003e\u003ctd\u003e \u003c/td\u003e\u003ctd\u003e \u003c/td\u003e\u003ctd\u003e \u003c/td\u003e\u003ctd\u003e \u003c/td\u003e\u003c/tr\u003e\n",
                "\u003ctr\u003e\u003ctd\u003eThe sum is divisible by 8?\u003c/td\u003e\u003ctd\u003eTrue\u003c/td\u003e\u003ctd\u003e \u003c/td\u003e\u003ctd\u003e \u003c/td\u003e\u003ctd\u003e \u003c/td\u003e\u003ctd\u003e \u003c/td\u003e\u003ctd\u003e \u003c/td\u003e\u003ctd\u003e \u003c/td\u003e\u003ctd\u003e \u003c/td\u003e\u003ctd\u003e \u003c/td\u003e\u003ctd\u003e \u003c/td\u003e\u003ctd\u003e \u003c/td\u003e\u003ctd\u003e \u003c/td\u003e\u003ctd\u003e \u003c/td\u003e\u003ctd\u003e \u003c/td\u003e\u003ctd\u003e \u003c/td\u003e\u003ctd\u003e \u003c/td\u003e\u003c/tr\u003e\n",
                "\u003c/table\u003e\n",
                "\n",
                "**Write a Python function named `check_credit_card(card_num)` that will check whether the given credit card number is valid or not.**\u003cbr\u003e\n",
                "    \u003cbr\u003e\n",
                "The program should ask for user to enter a credit card number with length between 14 - 19 digits and validate it using the created function. If the number is valid, the program will print out 'The number is valid'. If the number is invalid, the program will print out 'The number is invalid.'    \n",
                " \n",
                "\u003cbr\u003e\n",
                "\u003cbr\u003e\n",
                "    \n",
                "**Example program run (bold indicate what the user enters):**\n",
                "\n",
                "Enter a value: **4539179349284192**\u003cbr\u003e\n",
                "The number is valid.\u003cbr\u003e\n",
                "\n",
                "\u003cbr\u003e\n",
                "\n",
                "**Example program run (bold indicate what the user enters):**\n",
                "\n",
                "Enter a value: **4539179349284197**\u003cbr\u003e\n",
                "The number is invalid.\u003cbr\u003e\n",
                "\n",
                "\u003c/div\u003e"
            ]
        },
        {
            "cell_type": "code",
            "execution_count": 15,
            "metadata": {},
            "outputs": [
                {
                    "name": "stdout",
                    "output_type": "stream",
                    "text": "False\n"
                }
            ],
            "source": [
                "# Your solution goes here\n",
                "\n",
                "input_num = input(\"Enter a value: \")\n",
                "\n",
                "input_num = list(input_num) # transfering to a list\n",
                "# 1st - remove the last digit\n",
                "last_digit = input_num.pop()\n",
                "# 2nd - reverse the list\n",
                "input_num = input_num[::-1]\n",
                "# 3rd - multiply the digits in even positions by 2\n",
                "input_num = [int(each_digit) * 2 if idx % 2 == 0 else int(each_digit) for idx, each_digit in enumerate(input_num, 0)]\n",
                "# 4th - subtract 9 to all any result higher than 9\n",
                "input_num = [each_digit - 9 if each_digit \u003e 9 else each_digit for each_digit in input_num]\n",
                "# 5th - add all the numbers together (alternative: using for loop)\n",
                "sum_of_digits = sum(input_num)\n",
                "# 6th - get remainder divided by 10\n",
                "reminder = sum_of_digits % 10\n",
                "# 7th \u0026 8th - add remainder to last digit, check if the sum is divisible by 8\n",
                "if (reminder + int(last_digit) % 8 == 0):  # not(reminder + int(last_digit) % 8:)\n",
                "    print(\"It's a valid number.\")\n",
                "else:\n",
                "    print(\"It's an invalid number.\")"
            ]
        }
    ]
}
