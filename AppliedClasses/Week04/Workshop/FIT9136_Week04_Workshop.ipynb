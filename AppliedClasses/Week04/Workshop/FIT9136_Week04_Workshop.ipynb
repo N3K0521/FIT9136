{
    "metadata": {
        "kernelspec": {
            "name": "python3",
            "display_name": "Python 3 (ipykernel)",
            "language": "python"
        }
    },
    "nbformat": 4,
    "nbformat_minor": 1,
    "cells": [
        {
            "attachments": {},
            "cell_type": "markdown",
            "metadata": {},
            "source": [
                "# FIT9136 Week04 Workshop\n",
                "\n",
                "This programming exercise will test your understanding of Python collective data types (i.e., dictionary, set)"
            ]
        },
        {
            "attachments": {},
            "cell_type": "markdown",
            "metadata": {},
            "source": [
                "## List Comprehension ( From Last Week Workshop)"
            ]
        },
        {
            "cell_type": "code",
            "execution_count": 0,
            "metadata": {},
            "outputs": [],
            "source": [
                "\"\"\"\n",
                "[expression for item in list]\n",
                "\n",
                "\"\"\""
            ]
        },
        {
            "cell_type": "code",
            "execution_count": 1,
            "metadata": {},
            "outputs": [
                {
                    "name": "stdout",
                    "output_type": "stream",
                    "text": "['I', 'n', 't', 'r', 'o', 'd', 'u', 'c', 't', 'i', 'o', 'n', ' ', 't', 'o', ' ', 'F', 'I', 'T', '9', '1', '3', '6']\n"
                }
            ],
            "source": [
                "my_string = \"Introduction to FIT9136\"\n",
                "new_list = []\n",
                "\n",
                "for char in my_string:\n",
                "    new_list.append(char)\n",
                "print(new_list)"
            ]
        },
        {
            "cell_type": "code",
            "execution_count": 0,
            "metadata": {},
            "outputs": [],
            "source": [
                ""
            ]
        },
        {
            "attachments": {},
            "cell_type": "markdown",
            "metadata": {},
            "source": [
                "\u003cdiv class=\"alert alert-block alert-success\"\u003e\n",
                "What is the result of executing the following program?\n",
                "    \n",
                "    mixed_list = [1, \"2\", 3.0, 4, '5']\n",
                "    new_list = [each for each in mixed_list if type(each) is int]\n",
                "    print(new_list)\n",
                "\u003c/div\u003e"
            ]
        },
        {
            "cell_type": "code",
            "execution_count": 2,
            "metadata": {},
            "outputs": [
                {
                    "name": "stdout",
                    "output_type": "stream",
                    "text": "[1, 4]\n"
                }
            ],
            "source": [
                "mixed_list = [1, \"2\", 3.0, 4, '5']\n",
                "new_list = [each for each in mixed_list if type(each) is int]\n",
                "print(new_list)"
            ]
        },
        {
            "attachments": {},
            "cell_type": "markdown",
            "metadata": {},
            "source": [
                "\u003cdiv class=\"alert alert-block alert-success\"\u003e\n",
                "What is the result of executing the following program?\n",
                "    \n",
                "    names = ['Joe','Marry','Jessica','Lauren','Bobe']\n",
                "    new_names = [name for name in names if name.lower().endswith('e') if len(name) \u003e 3]\n",
                "    print(new_names)\n",
                "\u003c/div\u003e"
            ]
        },
        {
            "cell_type": "code",
            "execution_count": 3,
            "metadata": {},
            "outputs": [
                {
                    "name": "stdout",
                    "output_type": "stream",
                    "text": "['Bobe']\n"
                }
            ],
            "source": [
                "names = ['Joe','Marry','Jessica','Lauren','Bobe']\n",
                "new_names = [name for name in names if name.lower().endswith('e') if len(name) \u003e 3]\n",
                "print(new_names)"
            ]
        },
        {
            "attachments": {},
            "cell_type": "markdown",
            "metadata": {},
            "source": [
                "\u003cdiv class=\"alert alert-block alert-success\"\u003e\n",
                "What is the result of executing the following program?\n",
                "    \n",
                "    numbers = [10,15,65,22,38]\n",
                "    odd_even = [\"odd\" if numbers[number]%2==1 else \"even\" for number in range(5)]\n",
                "    print(odd_even)\n",
                "\u003c/div\u003e"
            ]
        },
        {
            "cell_type": "code",
            "execution_count": 0,
            "metadata": {},
            "outputs": [],
            "source": [
                "   "
            ]
        },
        {
            "attachments": {},
            "cell_type": "markdown",
            "metadata": {},
            "source": [
                "\u003cdiv class=\"alert alert-block alert-success\"\u003e\n",
                "The following program compute the transpose of the matrix, Can you rewrite the code using list comprehension?\n",
                "    \n",
                "    old_list = [[1, 2, 3, 4], [4, 5, 6, 8]]\n",
                "    new_list = []\n",
                "\n",
                "    for i in range(len( old_list[0])):\n",
                "        transposed_row = []\n",
                "\n",
                "        for row in  old_list:\n",
                "            transposed_row.append(row[i])\n",
                "        new_list.append(transposed_row)\n",
                "\n",
                "    print(new_list)\n",
                "\n",
                "\u003c/div\u003e"
            ]
        },
        {
            "attachments": {},
            "cell_type": "markdown",
            "metadata": {},
            "source": [
                "My attempt"
            ]
        },
        {
            "cell_type": "code",
            "execution_count": 5,
            "metadata": {},
            "outputs": [
                {
                    "name": "stdout",
                    "output_type": "stream",
                    "text": "[[1, 4], [2, 5], [3, 6], [4, 8]]\n"
                }
            ],
            "source": [
                "old_list = [[1, 2, 3, 4], [4, 5, 6, 8]]\n",
                "new_list = [[row[i] for row in old_list]for i in range(len(old_list[0]))]\n",
                "print(new_list)\n",
                ""
            ]
        },
        {
            "attachments": {},
            "cell_type": "markdown",
            "metadata": {},
            "source": [
                " \u003cdiv class=\"alert alert-block alert-danger\"\u003e\n",
                "\u003ca href=\"https://mathinsight.org/matrix_transpose\"\u003e \n",
                "   The transpose of a matrix is simply a flipped version of the original matrix. \u003c/a\u003e   \n",
                "\u003c/div\u003e"
            ]
        },
        {
            "cell_type": "code",
            "execution_count": 6,
            "metadata": {},
            "outputs": [
                {
                    "name": "stdout",
                    "output_type": "stream",
                    "text": "3 [[1, 4], [2, 5], [3, 6], [4, 8]]\n"
                }
            ],
            "source": [
                "old_list = [[1, 2, 3, 4], [4, 5, 6, 8]]\n",
                "new_list = []\n",
                "\n",
                "\n",
                "for i in range(len(old_list[0])): \n",
                "    #print(i)\n",
                "    transposed_row = []\n",
                "    for row in old_list: \n",
                "        #print(row)\n",
                "        transposed_row.append(row[i])\n",
                "        #print(\"1\", transposed_row)\n",
                "    new_list.append(transposed_row)\n",
                "    #print(\"2\" , new_list)\n",
                "\n",
                "print(\"3\", new_list)"
            ]
        },
        {
            "cell_type": "code",
            "execution_count": 0,
            "metadata": {},
            "outputs": [],
            "source": [
                "# Solution\n",
                "old_list = [[1, 2, 3, 4], [4, 5, 6, 8]]\n",
                "new_list = [[row[i] for row in old_list]for i in range(len(old_list[0]))]\n",
                "print(new_list)"
            ]
        },
        {
            "attachments": {},
            "cell_type": "markdown",
            "metadata": {},
            "source": [
                "# Set (type set)"
            ]
        },
        {
            "attachments": {},
            "cell_type": "markdown",
            "metadata": {},
            "source": [
                "- A data type for representing a collection of unique, unordered items"
            ]
        },
        {
            "cell_type": "code",
            "execution_count": 8,
            "metadata": {},
            "outputs": [
                {
                    "name": "stdout",
                    "output_type": "stream",
                    "text": "set()\n{2, 'one'}\n{1, 2, 3}\n"
                }
            ],
            "source": [
                "# An empty set: \n",
                "a_set = set() \n",
                "print(a_set)\n",
                "\n",
                "# A set with a number of items: \n",
                "a_set = {\"one\", 2}\n",
                "print(a_set)\n",
                "\n",
                "#Build a set from a list: \n",
                "a_set = set([1,2,2,3])\n",
                "print(a_set)"
            ]
        },
        {
            "attachments": {},
            "cell_type": "markdown",
            "metadata": {},
            "source": [
                "\u003cdiv class=\"alert alert-block alert-success\"\u003e\n",
                "What would be the output for the given program?\n",
                "    \n",
                "    char_set = {\"a\", \"b\", \"c\"}\n",
                "    char_set[2]= \"c\"\n",
                "    print(char_set)\n",
                "\u003c/div\u003e"
            ]
        },
        {
            "cell_type": "code",
            "execution_count": 9,
            "metadata": {},
            "outputs": [
                {
                    "ename": "TypeError",
                    "evalue": "'set' object does not support item assignment",
                    "output_type": "error",
                    "traceback": [
                        "\u001b[0;31m---------------------------------------------------------------------------\u001b[0m",
                        "\u001b[0;31mTypeError\u001b[0m                                 Traceback (most recent call last)",
                        "Cell \u001b[0;32mIn[1], line 2\u001b[0m\n\u001b[1;32m      1\u001b[0m char_set \u001b[38;5;241m=\u001b[39m {\u001b[38;5;124m\"\u001b[39m\u001b[38;5;124ma\u001b[39m\u001b[38;5;124m\"\u001b[39m, \u001b[38;5;124m\"\u001b[39m\u001b[38;5;124mb\u001b[39m\u001b[38;5;124m\"\u001b[39m, \u001b[38;5;124m\"\u001b[39m\u001b[38;5;124mc\u001b[39m\u001b[38;5;124m\"\u001b[39m}\n\u001b[0;32m----\u003e 2\u001b[0m \u001b[43mchar_set\u001b[49m\u001b[43m[\u001b[49m\u001b[38;5;241;43m2\u001b[39;49m\u001b[43m]\u001b[49m\u001b[38;5;241m=\u001b[39m \u001b[38;5;124m\"\u001b[39m\u001b[38;5;124mc\u001b[39m\u001b[38;5;124m\"\u001b[39m\n\u001b[1;32m      3\u001b[0m \u001b[38;5;28mprint\u001b[39m(char_set)\n",
                        "\u001b[0;31mTypeError\u001b[0m: 'set' object does not support item assignment"
                    ]
                }
            ],
            "source": [
                "char_set = {\"a\", \"b\", \"c\"}\n",
                "char_set[2]= \"c\"\n",
                "print(char_set)"
            ]
        },
        {
            "attachments": {},
            "cell_type": "markdown",
            "metadata": {},
            "source": [
                " \u003cdiv class=\"alert alert-block alert-danger\"\u003e\n",
                "\u003cb\u003eNotes:\u003c/b\u003e  \n",
                "    Set does not support indexing and item assignment. Every set element is unique (no duplicates) and must be   \n",
                "    immutable (cannot be changed). However, a set itself is mutable. We can add or remove items from it.\n",
                "    \n",
                "\u003c/div\u003e"
            ]
        },
        {
            "attachments": {},
            "cell_type": "markdown",
            "metadata": {},
            "source": [
                "### Set Manipulation"
            ]
        },
        {
            "cell_type": "code",
            "execution_count": 28,
            "metadata": {},
            "outputs": [],
            "source": [
                "# Built-in methods for set manipulation:\n",
                "char_set = {\"a\", \"b\", \"c\"}"
            ]
        },
        {
            "cell_type": "code",
            "execution_count": 29,
            "metadata": {},
            "outputs": [
                {
                    "name": "stdout",
                    "output_type": "stream",
                    "text": "{'a', 'b', 'd', 'c'}\n"
                }
            ],
            "source": [
                "#add(): adding element to the set\n",
                "char_set.add(\"d\")\n",
                "print(char_set)"
            ]
        },
        {
            "cell_type": "code",
            "execution_count": 30,
            "metadata": {},
            "outputs": [
                {
                    "name": "stdout",
                    "output_type": "stream",
                    "text": "{'a', 'b', 'c'}\n"
                }
            ],
            "source": [
                "# remove(item): accept one argument indicating the item to be removed; raise KeyError if the item does not exist\n",
                "char_set.remove(\"d\")\n",
                "print(char_set)"
            ]
        },
        {
            "cell_type": "code",
            "execution_count": 31,
            "metadata": {},
            "outputs": [
                {
                    "name": "stdout",
                    "output_type": "stream",
                    "text": "{'a', 'b', 'c'}\n"
                }
            ],
            "source": [
                "# discard(item): similar to remove(); does not raise KeyError if item does not exist\n",
                "char_set.discard(\"d\")\n",
                "print(char_set)"
            ]
        },
        {
            "cell_type": "code",
            "execution_count": 33,
            "metadata": {},
            "outputs": [
                {
                    "name": "stdout",
                    "output_type": "stream",
                    "text": "{'c'}\n"
                }
            ],
            "source": [
                "# pop(): select an arbitrary item to remove and return it\n",
                "char_set.pop()\n",
                "print(char_set)"
            ]
        },
        {
            "cell_type": "code",
            "execution_count": 34,
            "metadata": {},
            "outputs": [
                {
                    "name": "stdout",
                    "output_type": "stream",
                    "text": "set()\n"
                }
            ],
            "source": [
                "# clear(): remove all the items from a set in place\n",
                "char_set.clear()\n",
                "print(char_set)"
            ]
        },
        {
            "attachments": {},
            "cell_type": "markdown",
            "metadata": {},
            "source": [
                "\u003cdiv class=\"alert alert-block alert-warning\"\u003e\n",
                "Do you want to know more about Python built-in set methods? Please check: \n",
                "\u003ca href=\"https://docs.python.org/3/library/stdtypes.html#set-types-set-frozenset\"\u003ePython 3 documentation for Set\n",
                "    type\u003c/a\u003e\n",
                "\u003c/div\u003e"
            ]
        },
        {
            "attachments": {},
            "cell_type": "markdown",
            "metadata": {},
            "source": [
                "\u003cdiv class=\"alert alert-block alert-success\"\u003e\n",
                "What would be the output for the given program?\n",
                "    \n",
                "    num_list = [4, 2, 2, 1, 3, 4, 1]\n",
                "    tmp_set = set(num_list)\n",
                "    tmp_set.add(4)\n",
                "    num_list = list(tmp_set)\n",
                "    print(num_list)\n",
                "\n",
                "\u003c/div\u003e"
            ]
        },
        {
            "cell_type": "code",
            "execution_count": 43,
            "metadata": {},
            "outputs": [
                {
                    "name": "stdout",
                    "output_type": "stream",
                    "text": "[1, 2, 3, 4]\n"
                }
            ],
            "source": [
                "num_list = [4, 2, 2, 1, 3, 4, 1]\n",
                "tmp_set = set(num_list)\n",
                "tmp_set.add(4)\n",
                "num_list = list(tmp_set)\n",
                "print(num_list)"
            ]
        },
        {
            "attachments": {},
            "cell_type": "markdown",
            "metadata": {},
            "source": [
                "# Dictionary (type dict)"
            ]
        },
        {
            "attachments": {},
            "cell_type": "markdown",
            "metadata": {},
            "source": [
                "- A mapping data type that associates a key with a value\n",
                "- Keys must be immutable types(e.g., string, numbers); values can be of any data type\n",
                "- Each data item is represented as key:value"
            ]
        },
        {
            "cell_type": "code",
            "execution_count": 44,
            "metadata": {},
            "outputs": [
                {
                    "name": "stdout",
                    "output_type": "stream",
                    "text": "{}\n{'one': 1, 'two': 2}\n{'a': 1, 'b': 1}\n"
                }
            ],
            "source": [
                "# An empty dictionary: \n",
                "a_dict = {}\n",
                "print(a_dict)\n",
                "\n",
                "# A dictionary with a number of items: \n",
                "a_dict = {\"one\":1, \"two\":2}\n",
                "print(a_dict)\n",
                "\n",
                "# Build a dictionary from a list of tuples\n",
                "a_dict = dict([('a',1),('b',1)])\n",
                "print(a_dict)"
            ]
        },
        {
            "attachments": {},
            "cell_type": "markdown",
            "metadata": {},
            "source": [
                "### Dictionary Manipulation"
            ]
        },
        {
            "cell_type": "code",
            "execution_count": 45,
            "metadata": {},
            "outputs": [
                {
                    "name": "stdout",
                    "output_type": "stream",
                    "text": "{'HD': '79-100'}\n{'HD': '80-100'}\n"
                }
            ],
            "source": [
                "a_dict = {}\n",
                "# Adding new items to a dictionary\n",
                "a_dict[\"HD\"] = \"79-100\"\n",
                "print(a_dict)\n",
                "\n",
                "#Note: If new_key presents in the dictionary, the existing value associated to this key is updated to new_value\n",
                "a_dict[\"HD\"] = \"80-100\"\n",
                "print(a_dict)"
            ]
        },
        {
            "cell_type": "code",
            "execution_count": 46,
            "metadata": {},
            "outputs": [
                {
                    "name": "stdout",
                    "output_type": "stream",
                    "text": "{}\n"
                }
            ],
            "source": [
                "#Removing items from a dictionary\n",
                "del a_dict[\"HD\"]\n",
                "print(a_dict)"
            ]
        },
        {
            "cell_type": "code",
            "execution_count": 47,
            "metadata": {},
            "outputs": [
                {
                    "data": {
                        "text/plain": "4"
                    },
                    "execution_count": 47,
                    "metadata": {},
                    "output_type": "execute_result"
                }
            ],
            "source": [
                "#len(): return the number of items (key:value pairs) in dictionary \n",
                "a_dict = {'a':0, 'b':1, 'c':0, 'd':2}\n",
                "len(a_dict)"
            ]
        },
        {
            "cell_type": "code",
            "execution_count": 48,
            "metadata": {},
            "outputs": [
                {
                    "name": "stdout",
                    "output_type": "stream",
                    "text": "0\n"
                }
            ],
            "source": [
                "# Accessing the value of key\n",
                "print(a_dict['a'])"
            ]
        },
        {
            "attachments": {},
            "cell_type": "markdown",
            "metadata": {},
            "source": [
                "\u003cdiv class=\"alert alert-block alert-warning\"\u003e\n",
                "Do you want to know more about Python built-in dictionary methods? Please check: \n",
                "\u003ca href=\"https://docs.python.org/3/library/stdtypes.html#mapping-types-dict\"\u003ePython 3 documentation for Dictionary type\u003c/a\u003e\n",
                "\u003c/div\u003e"
            ]
        },
        {
            "attachments": {},
            "cell_type": "markdown",
            "metadata": {},
            "source": [
                "### Check key in Dictionary\n",
                "\n",
                "Check for the existence of a specific key in a string"
            ]
        },
        {
            "cell_type": "code",
            "execution_count": 51,
            "metadata": {},
            "outputs": [
                {
                    "name": "stdout",
                    "output_type": "stream",
                    "text": "HD  exists in  {'HD': 80, 'D': 75, 'C': 60, 'P': 52}\n"
                }
            ],
            "source": [
                "a_dict = {'HD':80, 'D':75, 'C':60, 'P':52}\n",
                "key = input(\"what key are you looking for? \")\n",
                "\n",
                "if key in a_dict:\n",
                "    print(key , \" exists in \", a_dict)\n",
                "if key not in a_dict:\n",
                "    print(key , \" doesn’t exist in \" , a_dict)"
            ]
        },
        {
            "attachments": {},
            "cell_type": "markdown",
            "metadata": {},
            "source": [
                "### Iterate Over items of Dictionary"
            ]
        },
        {
            "cell_type": "code",
            "execution_count": 52,
            "metadata": {},
            "outputs": [
                {
                    "name": "stdout",
                    "output_type": "stream",
                    "text": "a 0\nb 1\nc 2\n"
                }
            ],
            "source": [
                "simple_dict = {'a':0, 'b':1, 'c':2}\n",
                "for (key, value) in simple_dict.items():\n",
                "    print(key, value)"
            ]
        },
        {
            "attachments": {},
            "cell_type": "markdown",
            "metadata": {},
            "source": [
                "\u003cdiv class=\"alert alert-block alert-success\"\u003e\n",
                "What would be the output for the given program?\n",
                "    \n",
                "    key_list = ['a', 'b', 'c']\n",
                "    value_list = [0, 1, 2]\n",
                "    combine_values = zip(key_list, value_list)\n",
                "    new_dict = dict(combine_values) \n",
                "    print(new_dict)\n",
                "\n",
                "\u003c/div\u003e"
            ]
        },
        {
            "cell_type": "code",
            "execution_count": 53,
            "metadata": {},
            "outputs": [
                {
                    "name": "stdout",
                    "output_type": "stream",
                    "text": "{'a': 0, 'b': 1, 'c': 2}\n"
                }
            ],
            "source": [
                "key_list = ['a', 'b', 'c']\n",
                "value_list = [0, 1, 2]\n",
                "combine_values = zip(key_list, value_list)\n",
                "new_dict = dict(combine_values) \n",
                "print(new_dict)"
            ]
        },
        {
            "attachments": {},
            "cell_type": "markdown",
            "metadata": {},
            "source": [
                "\n",
                "## Summary \u003ca id=\"section4\"\u003e\u003c/a\u003e\n",
                "\n",
                "### Strings, lists, tuples, and dictionaries \u003ca id=\"subsection4.1\"\u003e\u003c/a\u003e\n",
                "\n",
                " \u003cb\u003e \u003c/b\u003e | String | List | Tuple | Dictionary \n",
                ":--------:|:------:|:----:|:-----:|:----------:\n",
                " **mutable**  | No     | Yes  |  No   |   Yes \n",
                " **indexing and slicing** | integers | integers | integers | key names\n",
                " **operators** \u003ccode\u003e+\u003c/code\u003e **and** \u003ccode\u003e*\u003c/code\u003e | Yes | Yes | Yes | No\n",
                " **iterable** | Yes | Yes | Yes | Yes \n",
                " **methods** | Yes | Yes | No | Yes\n",
                "\n",
                "### Parentheses \u003ccode\u003e()\u003c/code\u003e, \u003ccode\u003e[]\u003c/code\u003e, and \u003ccode\u003e{}\u003c/code\u003e \u003ca id=\"subsection4.2\"\u003e\u003c/a\u003e\n",
                "\n",
                " \u003cb\u003e \u003c/b\u003e | \u003ccode\u003e()\u003c/code\u003e | \u003ccode\u003e[]\u003c/code\u003e | \u003ccode\u003e{}\u003c/code\u003e \n",
                ":--------|:------|:----|:-----\n",
                "    **Usage**  | 1. Around input arguments of \u003cbr\u003e function and method \u003cbr\u003e 2. Define tuples  | Indexing and slicing  |  Dictionary and Set\n",
                "**Examples**| \u003ccode\u003eprint('Hello')\u003c/code\u003e \u003cbr\u003e \u003ccode\u003estring.upper()\u003c/code\u003e| \u003ccode\u003estring[3:]\u003c/code\u003e \u003cbr\u003e \u003ccode\u003edictionary['key']\u003c/code\u003e | \u003ccode\u003e{'key': 'value'}\u003c/code\u003e\n",
                "**Remarks** | 1. Cannot be omitted even when \u003cbr\u003e there is no input argument \u003cbr\u003e 2. Can be omitted when defining tuples | - | "
            ]
        },
        {
            "attachments": {},
            "cell_type": "markdown",
            "metadata": {},
            "source": [
                "\u003cdiv class=\"alert alert-block alert-success\"\u003e\n",
                "If you want to create a variable to keep the personal information of students (i.e, ID, Name, Mobile, ...), What Data type are you going to use?\n",
                "\u003c/div\u003e"
            ]
        }
    ]
}
