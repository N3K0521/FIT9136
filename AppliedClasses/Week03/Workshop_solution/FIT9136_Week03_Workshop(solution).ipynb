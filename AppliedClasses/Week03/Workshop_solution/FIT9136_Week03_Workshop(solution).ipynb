{
    "metadata": {
        "kernelspec": {
            "name": "python3",
            "display_name": "Python 3 (ipykernel)",
            "language": "python"
        }
    },
    "nbformat": 4,
    "nbformat_minor": 1,
    "cells": [
        {
            "attachments": {},
            "cell_type": "markdown",
            "metadata": {},
            "source": [
                "# FIT9136 Week03 Workshop\n",
                "\n",
                "This programming exercise will test your understanding of Python collective data types (i.e., String, List, Tuple), Iteration and Conditionals, and Functions"
            ]
        },
        {
            "attachments": {},
            "cell_type": "markdown",
            "metadata": {},
            "source": [
                "# Iterations"
            ]
        },
        {
            "attachments": {},
            "cell_type": "markdown",
            "metadata": {},
            "source": [
                "### While Loop"
            ]
        },
        {
            "attachments": {},
            "cell_type": "markdown",
            "metadata": {},
            "source": [
                "- A block of statements will be executed repeatedly as long as the governing condition is True"
            ]
        },
        {
            "cell_type": "code",
            "execution_count": 0,
            "metadata": {},
            "outputs": [],
            "source": [
                "\"\"\"\n",
                "while the condition is True:\n",
                "    do this statement block\n",
                "\"\"\""
            ]
        },
        {
            "attachments": {},
            "cell_type": "markdown",
            "metadata": {},
            "source": [
                "\u003cdiv class=\"alert alert-block alert-danger\"\u003e\n",
                "\u003cb\u003eNotes:\u003c/b\u003e     \n",
                "\n",
                "\u003c/ul\u003e\n",
                "    \u003cli\u003e \u003cb\u003ewhile\u003c/b\u003e repeats the code inside the loop block as long as the given boolean expression is True.\n",
                "    \u003cli\u003e The loop block is also indicated by indentations. Nested structure can also be used.    \n",
                "    \u003cli\u003e A loop can be broken by using the keyword \u003cb\u003ebreak\u003c/b\u003e, or by enforcing the boolean expression to be False\n",
                "\u003cli\u003e Be careful, do not get trapped in an endless \u003cb\u003ewhile\u003c/b\u003e loop.\n",
                "\u003c/ul\u003e\n",
                "\u003c/div\u003e"
            ]
        },
        {
            "cell_type": "code",
            "execution_count": 0,
            "metadata": {},
            "outputs": [],
            "source": [
                "# Infinit loop (DO NOT RUN THIS CODE)\n",
                "while(x \u003e 10):\n",
                "    print(“X is big!”)"
            ]
        },
        {
            "attachments": {},
            "cell_type": "markdown",
            "metadata": {},
            "source": [
                "\u003cdiv class=\"alert alert-block alert-success\"\u003e\n",
                "How many prints will we see if x =13 ?\n",
                "\n",
                "    x = 13\n",
                "    while(x \u003e 10):\n",
                "        print(\"x is big!\")\n",
                "        x -= 1\n",
                "\u003c/div\u003e"
            ]
        },
        {
            "attachments": {},
            "cell_type": "markdown",
            "metadata": {},
            "source": [
                "\u003cdiv class=\"alert alert-block alert-warning\"\u003e\n",
                "    \n",
                "Run the above code in : \u003ca href =\"https://pythontutor.com/\"\u003ePython Tutor\u003c/a\u003e to get the better idea of the order of execution\n",
                "\u003c/div\u003e"
            ]
        },
        {
            "cell_type": "code",
            "execution_count": 0,
            "metadata": {},
            "outputs": [],
            "source": [
                ""
            ]
        },
        {
            "attachments": {},
            "cell_type": "markdown",
            "metadata": {},
            "source": [
                "### For Loop"
            ]
        },
        {
            "attachments": {},
            "cell_type": "markdown",
            "metadata": {},
            "source": [
                "- Similar to while loop; except that the governing condition (logical expression) does not need to be defined\n",
                "- Useful for iterating or traversing through a collection of items (e.g. Lists, Strings)"
            ]
        },
        {
            "cell_type": "code",
            "execution_count": 0,
            "metadata": {},
            "outputs": [],
            "source": [
                "\"\"\"\n",
                "for item in collective data:\n",
                "    do this statement block\n",
                "\"\"\""
            ]
        },
        {
            "cell_type": "code",
            "execution_count": 0,
            "metadata": {},
            "outputs": [],
            "source": [
                "numbers = \"12345\"\n",
                "product = 1\n",
                "for item in numbers:\n",
                "    product *= int(item)\n",
                "print(product)"
            ]
        },
        {
            "attachments": {},
            "cell_type": "markdown",
            "metadata": {},
            "source": [
                "\u003cdiv class=\"alert alert-block alert-warning\"\u003e\n",
                "    \n",
                "Run the above code in : \u003ca href =\"https://pythontutor.com/\"\u003ePython Tutor\u003c/a\u003e to get the better idea of the order of execution\n",
                "\u003c/div\u003e"
            ]
        },
        {
            "attachments": {},
            "cell_type": "markdown",
            "metadata": {},
            "source": [
                "#### Comparison between while loop and for loop\n",
                "\n",
                "|\u003ccode\u003ewhile\u003c/code\u003e loop | \u003ccode\u003efor\u003c/code\u003e loop |\n",
                "|:-----------------------|:-------------------------|\n",
                "| Unknown number of iterations | Known number of iterations|\n",
                "| A counter can be defined \u003cbr\u003e and manually updated | A counter is updated \u003cbr\u003e through the loop |\n",
                "| Break the loop by \u003ccode\u003ebreak\u003c/code\u003e| Break the loop by \u003ccode\u003ebreak\u003c/code\u003e |\n",
                "| Skip code blocks by \u003ccode\u003econtinue\u003c/code\u003e | Skip code blocks by \u003ccode\u003econtinue\u003c/code\u003e |"
            ]
        },
        {
            "attachments": {},
            "cell_type": "markdown",
            "metadata": {},
            "source": [
                "### Break vs Continue"
            ]
        },
        {
            "attachments": {},
            "cell_type": "markdown",
            "metadata": {},
            "source": [
                "- The continue statement skips the current iteration of a for or while loop. "
            ]
        },
        {
            "cell_type": "code",
            "execution_count": 0,
            "metadata": {},
            "outputs": [],
            "source": [
                "\"\"\"Given a string and a target character, we want to remove the character of the string.\"\"\"\n",
                "\n",
                "a_str = \"helloWorld\"\n",
                "\n",
                "charToRemove = \"e\"\n",
                "new_str = \"\"\n",
                "for char in a_str:\n",
                "    if char == charToRemove:\n",
                "        continue\n",
                "    new_str += char\n",
                "print(new_str) "
            ]
        },
        {
            "attachments": {},
            "cell_type": "markdown",
            "metadata": {},
            "source": [
                "- The break statement terminates the loop containing it."
            ]
        },
        {
            "cell_type": "code",
            "execution_count": 0,
            "metadata": {},
            "outputs": [],
            "source": [
                "\"\"\"Given a list of numbers and a target number, we want to find that if the target number is in the list.\"\"\"\n",
                "\n",
                "number_list = [3, 11, 9, 7, 6, 5, 100, 20, 9, 6, 3, 1, 0]\n",
                "target = 9\n",
                "for number in number_list:\n",
                "    if number == target:\n",
                "        print(\"The target number is in the list\")\n",
                "        break"
            ]
        },
        {
            "attachments": {},
            "cell_type": "markdown",
            "metadata": {},
            "source": [
                "\u003cdiv class=\"alert alert-block alert-danger\"\u003e\n",
                "\u003cb\u003eNotes:\u003c/b\u003e     \n",
                "\n",
                "\u003c/ul\u003e\n",
                "    \u003cli\u003eWhen there are nested loops, please pay special attention to the usage of continue and break statement.\n",
                "\u003c/ul\u003e\n",
                "\u003c/div\u003e"
            ]
        },
        {
            "cell_type": "code",
            "execution_count": 0,
            "metadata": {},
            "outputs": [],
            "source": [
                "a_list = [1, 2, 3]\n",
                "b_list = [2, 5, 6]\n",
                "for itemA in a_list :\n",
                "    for itemB in b_list:\n",
                "        if itemA == itemB: \n",
                "            print(\"Before break\", itemA, itemB)\n",
                "            break\n",
                "        print(itemA, itemB)   "
            ]
        },
        {
            "attachments": {},
            "cell_type": "markdown",
            "metadata": {},
            "source": [
                "# Conditional"
            ]
        },
        {
            "attachments": {},
            "cell_type": "markdown",
            "metadata": {},
            "source": [
                "- Using logical expressions as selection conditions to determine which statement block to be executed"
            ]
        },
        {
            "cell_type": "code",
            "execution_count": 0,
            "metadata": {},
            "outputs": [],
            "source": [
                "\"\"\" \n",
                "if the condition is True:\n",
                "    do this statement block\n",
                "else:\n",
                "    do this statement block\n",
                "\"\"\"\n",
                "\n",
                "#OR\n",
                "\n",
                "\"\"\" \n",
                "if the condition is True:\n",
                "    do this statement block\n",
                "\"\"\""
            ]
        },
        {
            "cell_type": "code",
            "execution_count": 0,
            "metadata": {},
            "outputs": [],
            "source": [
                "message = \"Welcome to FIT9136\"\n",
                "letter = 'o'\n",
                "count = message.count(letter)\n",
                "if count \u003c 1:\n",
                "    print(letter + \" doesn\\'t exist in \" + message)\n",
                "else:\n",
                "    print(letter + \" exists in \" + message)\n",
                "    print(letter + \" occurs \" + str(count) + \"times\")"
            ]
        },
        {
            "attachments": {},
            "cell_type": "markdown",
            "metadata": {},
            "source": [
                "### Nested if\n",
                "- Useful for when multiple conditions need to be considered"
            ]
        },
        {
            "cell_type": "code",
            "execution_count": 0,
            "metadata": {},
            "outputs": [],
            "source": [
                "message = \"Welcome to FIT9136\"\n",
                "letter = 'o'\n",
                "count = message.count(letter)\n",
                "if count \u003c 1:\n",
                "    print(letter + \" doesn’t exist in \" + message)\n",
                "else:\n",
                "    print(letter + \" exists in \" + message)\n",
                "    if count \u003e= 5:\n",
                "        print(letter + \" occurs 5 times or more\")\n",
                "    else:\n",
                "        print(letter + \" occurs less than 5 times\")"
            ]
        },
        {
            "attachments": {},
            "cell_type": "markdown",
            "metadata": {},
            "source": [
                "### elif statements:\n",
                "- Similar to nested if statements; combining an if with an else\n",
                ""
            ]
        },
        {
            "cell_type": "code",
            "execution_count": 0,
            "metadata": {},
            "outputs": [],
            "source": [
                "message = \"Welcome to FIT9136\"\n",
                "letter = 'o'\n",
                "count = message.count(letter)\n",
                "if count \u003c 1:\n",
                "    print(letter + \"doesn\\'t exist in \" + message)\n",
                "elif count \u003e= 5:\n",
                "    print(letter + \" exists in \" + message)\n",
                "    print(letter + \" occurs 5 times or more\")\n",
                "else:\n",
                "    print(letter + \" exists in \" + message)\n",
                "    print(letter + \" occurs less than 5 times\")"
            ]
        },
        {
            "attachments": {},
            "cell_type": "markdown",
            "metadata": {},
            "source": [
                "\u003cdiv class=\"alert alert-block alert-success\"\u003e\n",
                "    \n",
                "Try to complete the following Python code:\n",
                "    \n",
                "- If x is odd and y is even print \"Good Job\" otherwise print \"Try again\"\n",
                "\n",
                "\u003c/div\u003e"
            ]
        },
        {
            "cell_type": "code",
            "execution_count": 0,
            "metadata": {},
            "outputs": [],
            "source": [
                "x = int(input(\"What is x? \"))\n",
                "y = int(input(\"What is y? \"))\n",
                "\n",
                "#write your answer here:"
            ]
        },
        {
            "cell_type": "code",
            "execution_count": 0,
            "metadata": {},
            "outputs": [],
            "source": [
                "x = int(input(\"What is x? \"))\n",
                "y = int(input(\"What is y? \"))\n",
                "\n",
                "if x % 2 == 1:\n",
                "    if y % 2 == 0:\n",
                "        print(\"Good Job\")\n",
                "    else:\n",
                "        print(\"Try again\")"
            ]
        },
        {
            "cell_type": "code",
            "execution_count": 0,
            "metadata": {},
            "outputs": [],
            "source": [
                "x = int(input(\"What is x? \"))\n",
                "y = int(input(\"What is y? \"))\n",
                "\n",
                "if x % 2 == 1:\n",
                "    if y % 2 == 0:\n",
                "        print(\"Good Job\")\n",
                "    else:\n",
                "        print(\"Try again\")\n",
                "else:\n",
                "    print(\"Try again\")"
            ]
        },
        {
            "attachments": {},
            "cell_type": "markdown",
            "metadata": {},
            "source": [
                "### Indentation"
            ]
        },
        {
            "attachments": {},
            "cell_type": "markdown",
            "metadata": {},
            "source": [
                "\u003cdiv class=\"alert alert-block alert-danger\"\u003e\n",
                "\u003cb\u003eNotes:\u003c/b\u003e  \n",
                "Python uses indentation as syntax, bad indenting causes crashes. Block code for easy understanding (its like paragraphs for an essay)\n",
                "    \n",
                "\u003cb\u003eSpace or Tab?\u003c/b\u003e \n",
                "A Tab could be a different number of columns depending on your environment (OS or editor), but also leading to small-size files.\n",
                "\u003c/div\u003e\n",
                "\n",
                "\u003cdiv style='height: 250px; width: 400px;display:table-cell;vertical-align: middle'\u003e\n",
                "\u003cimg src=\"https://www.python-course.eu/images/blocks.png\" width=400px style=\"float:left\"/\u003e\n",
                "\u003c/div\u003e"
            ]
        },
        {
            "attachments": {},
            "cell_type": "markdown",
            "metadata": {},
            "source": [
                "\u003cdiv class=\"alert alert-block alert-warning\"\u003e\n",
                "    \n",
                "\u003ca href =\"https://pythontutor.com/\"\u003ePEP 8:\u003c/a\u003e \n",
                "\n",
                "- Use 4 spaces per indentation level\n",
                "- Spaces are the preferred indentation method. Tabs should be used solely to remain consistent with code that is already indented with tabs.”\n",
                "\n",
                "\u003c/div\u003e"
            ]
        },
        {
            "attachments": {},
            "cell_type": "markdown",
            "metadata": {},
            "source": [
                "# String (type str)"
            ]
        },
        {
            "attachments": {},
            "cell_type": "markdown",
            "metadata": {},
            "source": [
                "- A collection (sequence) of characters (letters, numbers, or symbols)\n",
                "- Any number of characters with a pair of quotation marks \n",
                "    - '' and \"\"\n",
                "    - Characters are any keystrokes:\n",
                "        - Letter ('a'), number ('123'), punctuation ('?'), space (' '), tab ('\\t'), newline ('\\n')"
            ]
        },
        {
            "cell_type": "code",
            "execution_count": 0,
            "metadata": {},
            "outputs": [],
            "source": [
                "first_name = \"Mary\"\n",
                "short_name = \"M\"\n",
                "student_id = \"12345678\"\n",
                "empty_str = \" \"\n",
                "message = \"Welcome to FIT9133!\"\n",
                "paragraph =\"\"\"Dear students,\n",
                "Welcome to Week 3. Lets start and learn more about Python :)\"\"\"\n",
                "print(paragraph)"
            ]
        },
        {
            "cell_type": "code",
            "execution_count": 0,
            "metadata": {},
            "outputs": [],
            "source": [
                "# Common usage:Presentation of computational results as some form of output (Using the built-in function print())\n",
                "a = 1\n",
                "b = 2\n",
                "print(\"result is\", a + b)\n",
                "\n",
                "# Concatinating string using '+' operator\n",
                "a = \"Welcome to \"\n",
                "b = \"FIT9136\"\n",
                "print(a + b)"
            ]
        },
        {
            "attachments": {},
            "cell_type": "markdown",
            "metadata": {},
            "source": [
                "### String Manipulation"
            ]
        },
        {
            "cell_type": "code",
            "execution_count": 0,
            "metadata": {},
            "outputs": [],
            "source": [
                "# Built-in methods for string manipulation:\n",
                "myStr = \"Hello World\""
            ]
        },
        {
            "cell_type": "code",
            "execution_count": 0,
            "metadata": {},
            "outputs": [],
            "source": [
                "#len(): return the number of characters in string (i.e., length of string)\n",
                "len(myStr)"
            ]
        },
        {
            "cell_type": "code",
            "execution_count": 0,
            "metadata": {},
            "outputs": [],
            "source": [
                "#upper(): return string that all the characters covenverted to the upper case \n",
                "myStr.upper()"
            ]
        },
        {
            "cell_type": "code",
            "execution_count": 0,
            "metadata": {},
            "outputs": [],
            "source": [
                "#lower(): return string that all the characters covenverted to the lower case\n",
                "myStr.lower()"
            ]
        },
        {
            "cell_type": "code",
            "execution_count": 0,
            "metadata": {},
            "outputs": [],
            "source": [
                "#count(): return the number of time the character appears in the string (NOTE: Python is case-sensitive )\n",
                "myStr.count(\"w\")"
            ]
        },
        {
            "cell_type": "code",
            "execution_count": 0,
            "metadata": {},
            "outputs": [],
            "source": [
                ""
            ]
        },
        {
            "attachments": {},
            "cell_type": "markdown",
            "metadata": {},
            "source": [
                "Now try **isdigit()**, **isalpha()**, **replace()**"
            ]
        },
        {
            "attachments": {},
            "cell_type": "markdown",
            "metadata": {},
            "source": [
                "\u003cdiv class=\"alert alert-block alert-warning\"\u003e\n",
                "Do you want to know more about Python built-in string methods? Please check: \n",
                "\u003ca href=\"https://docs.python.org/3/library/stdtypes.html#string-methods\"\u003ePython 3 documentation for String type\u003c/a\u003e\n",
                "\u003c/div\u003e"
            ]
        },
        {
            "attachments": {},
            "cell_type": "markdown",
            "metadata": {},
            "source": [
                "### Accessing Individual Character of String (Indexing): \n",
                "\n",
                "Each character in a string corresponds to an index number which starts from **0** (left to right). \n",
                "\n",
                "\n",
                "H | e |  l | l | o | \u003ccode\u003e\u003c/code\u003e  | W | o | r | l | d \n",
                ":-----:|:-----:|:-----:|:-----:|:-----:|:-----:|:-----:|:-----:|:-----:|:-----:|:-----:\n",
                "0 | 1 | 2 | 3 | 4 | 5 | 6 | 7 | 8 | 9 | 10 \n",
                "\n",
                "starts from **-1** (right to left)\n",
                "\n",
                "H | e |  l | l | o | \u003ccode\u003e\u003c/code\u003e  | W | o | r | l | d \n",
                ":-----:|:-----:|:-----:|:-----:|:-----:|:-----:|:-----:|:-----:|:-----:|:-----:|:-----:\n",
                "-11 | -10 | -9 | -8 | -7 | -6 | -5 | -4 | -3 | -2 | -1 \n",
                "\n",
                "\n",
                "All characters can be accessed via the associated index numbers, using **[]**."
            ]
        },
        {
            "cell_type": "code",
            "execution_count": 0,
            "metadata": {},
            "outputs": [],
            "source": [
                "myStr = \"Hello World\"\n",
                "\n",
                "#Accessing the charcter W (left to right)\n",
                "print(myStr[6])\n",
                "\n",
                "#OR\n",
                "#Accessing the charcter W (right to left)\n",
                "print(myStr[-5])\n",
                "\n",
                "# string object does not support item assignment.\n",
                "myStr[-5:] = 'Shirin'\n",
                "# what happened?"
            ]
        },
        {
            "attachments": {},
            "cell_type": "markdown",
            "metadata": {},
            "source": [
                "\u003cdiv class=\"alert alert-block alert-success\"\u003e\n",
                "What would be the output for the following program?\n",
                "\n",
                "\n",
                "    simple_string = 'This is a sentence'\n",
                "    simple_string[5] = 'I'\n",
                "    print(simple_string)\n",
                "\n",
                "\u003c/div\u003e"
            ]
        },
        {
            "cell_type": "code",
            "execution_count": 0,
            "metadata": {},
            "outputs": [],
            "source": [
                ""
            ]
        },
        {
            "attachments": {},
            "cell_type": "markdown",
            "metadata": {},
            "source": [
                "\u003cdiv class=\"alert alert-block alert-danger\"\u003e\n",
                "\u003cb\u003eNotes:\u003c/b\u003e  \n",
                "    To change a string, you must make a new string. \u003cb\u003eStrings are immutable\u003c/b\u003e, meaning that they cannot be 'mutated'. Try myStr[0] = 'h', see what happens.\n",
                "\u003c/div\u003e"
            ]
        },
        {
            "cell_type": "code",
            "execution_count": 0,
            "metadata": {},
            "outputs": [],
            "source": [
                "myStr[0] = 'h'"
            ]
        },
        {
            "cell_type": "code",
            "execution_count": 0,
            "metadata": {},
            "outputs": [],
            "source": [
                "#So, how should we do it?\n",
                "myStr = myStr.replace('H','h')\n",
                "print(myStr)"
            ]
        },
        {
            "attachments": {},
            "cell_type": "markdown",
            "metadata": {},
            "source": [
                "### Accessing Chunks of String (Slicing)\n",
                "\n",
                "We can also access a substring from the string, by creating a slice in the form of [start:stop:step], where start, stop, and step are three input arguments that define the values of the indices.\n",
                "\n",
                "Start                        |Stop                                      |Step   \n",
                ":---------------------------:|:----------------------------------------:|:------------------------------:\n",
                "The first index of the slice |The index before which the slice stops    |The step length of the slice \n",
                "**Default Values** : 0       |**Default Values** : length of the string |**Default Values** : 1 \n",
                "\n",
                "\n",
                "If any arguments are not specified, the default value would be applied to define the slice expression."
            ]
        },
        {
            "cell_type": "code",
            "execution_count": 0,
            "metadata": {},
            "outputs": [],
            "source": [
                "myStr = \"Hello World\"\n",
                "\n",
                "# Slicing the substring \"Hello\"\n",
                "print(myStr[0:6])\n",
                "\n",
                "# Slicing last 3 characters\n",
                "print(myStr[-3:])\n",
                "\n",
                "# Print reverse of last 5 characters\n",
                "print(myStr[-1:-6:-1])"
            ]
        },
        {
            "attachments": {},
            "cell_type": "markdown",
            "metadata": {},
            "source": [
                "\u003cdiv class=\"alert alert-block alert-danger\"\u003e\n",
                "\u003cb\u003eNotes:\u003c/b\u003e  \n",
                "    A common mistake is assuming that the last index of the slice is \u003ci\u003estop\u003c/i\u003e. Please be very careful that the last index should be the last avaiable integer before \u003ci\u003estop\u003c/i\u003e.\n",
                "\u003c/div\u003e"
            ]
        },
        {
            "attachments": {},
            "cell_type": "markdown",
            "metadata": {},
            "source": [
                "### Check Character in String\n",
                "\n",
                "Check for the existence of a specific item (element) in a string"
            ]
        },
        {
            "cell_type": "code",
            "execution_count": 0,
            "metadata": {},
            "outputs": [],
            "source": [
                "myStr = \"Hello World\"\n",
                "char = \"Hello\"\n",
                "\n",
                "if char in myStr:\n",
                "    print(char + \" exists in \"+ myStr)\n",
                "if char not in myStr:\n",
                "    print(char + \" doesn’t exist in \" + myStr)"
            ]
        },
        {
            "attachments": {},
            "cell_type": "markdown",
            "metadata": {},
            "source": [
                "### Iterate Over Characters of String"
            ]
        },
        {
            "cell_type": "code",
            "execution_count": 0,
            "metadata": {},
            "outputs": [],
            "source": [
                "for char in \"Hello world\":\n",
                "    print(char)"
            ]
        },
        {
            "attachments": {},
            "cell_type": "markdown",
            "metadata": {},
            "source": [
                "#### range Function\n",
                "\n",
                "The function \u003ccode\u003erange(*start*, *stop*, *step*)\u003c/code\u003e creates a \u003ccode\u003erange\u003c/code\u003e type object, which represents a sequence of integer numbers. The input arguments *start*, *stop*, and *step*, work exactly the same as the **slice** syntax, as shown above."
            ]
        },
        {
            "cell_type": "code",
            "execution_count": 0,
            "metadata": {},
            "outputs": [],
            "source": [
                "name = input(\"Computer: What is your name? \")\n",
                "\n",
                "print(\"Computer: Let me spell it\")\n",
                "\n",
                "for char in range(len(name)):  # Iterate integers 0, 1, ..., len(name)-1\n",
                "    letter = name[char]\n",
                "    if letter == ' ':\n",
                "        continue \n",
                "\n",
                "    print(letter + \"..\")\n",
                "    \n",
                "name = name.capitalize()    \n",
                "\n",
                "print( name +\": You are right.\")"
            ]
        },
        {
            "attachments": {},
            "cell_type": "markdown",
            "metadata": {},
            "source": [
                "# List (type list)"
            ]
        },
        {
            "attachments": {},
            "cell_type": "markdown",
            "metadata": {},
            "source": [
                "- A data type for a collection items with the same or diffrent types\n",
                "- items placed in [] and seperated by commas\n",
                "- Mutable (changeable), ordered sequence"
            ]
        },
        {
            "cell_type": "code",
            "execution_count": 0,
            "metadata": {},
            "outputs": [],
            "source": [
                "# An empty list: \n",
                "a_list = []  \n",
                "a_list = list()\n",
                "\n",
                "# A list with a number of different items: \n",
                "a_list = [1, 'two', 3.0, '4']\n",
                "\n",
                "#A list with a number of same items: \n",
                "a_list = [1] * 6\n",
                ""
            ]
        },
        {
            "attachments": {},
            "cell_type": "markdown",
            "metadata": {},
            "source": [
                "\u003cdiv class=\"alert alert-block alert-warning\"\u003e\n",
                "\u003cb\u003eCoding Style: \u003c/b\u003e Limit all lines to a maximum of 79 characters.\n",
                "\u003c/div\u003e\n",
                "\n",
                "\u003e *The preferred way of wrapping long lines is by using Python's implied line continuation inside parentheses, brackets and braces. Long lines can be broken over multiple lines by wrapping expressions in parentheses.* -[PEP 8 Style Guide](https://www.python.org/dev/peps/pep-0008/#maximum-line-length)"
            ]
        },
        {
            "attachments": {},
            "cell_type": "markdown",
            "metadata": {},
            "source": [
                "### Comparison between lists and strings \u003ca id=\"subsection1.1\"\u003e\u003c/a\u003e\n",
                "#### Similarities\n",
                "A list is very similar to a string in the following perspectives:\n",
                "\n",
                "- Concatination\n",
                "- Data items are organised in ordered\n",
                "- Indexing and Slicing\n",
                "\n",
                "fruitsList = [\"Apple\", \"Mango\", \"Banana\", \"Guava\"]\n",
                "\n",
                "\"Apple\" | \"Mango\" | \"Banana\" | \"Guava\" \n",
                ":------:|:-------:|:--------:|:-------:\n",
                " 0      | 1       | 2        | 3 "
            ]
        },
        {
            "cell_type": "code",
            "execution_count": 0,
            "metadata": {},
            "outputs": [],
            "source": [
                "# Concatinating two lists\n",
                "list1 = [1,2,3]\n",
                "list2 = [4,5,6]\n",
                "list3 = list1+list2\n",
                "print(list3)"
            ]
        },
        {
            "cell_type": "code",
            "execution_count": 0,
            "metadata": {},
            "outputs": [],
            "source": [
                "fruitsList = [\"Apple\", \"Mango\", \"Banana\", \"Guava\"]\n",
                "\n",
                "#Accessing the Guava (left to right)\n",
                "print(fruitsList[3])\n",
                "\n",
                "#OR\n",
                "#Accessing the Guava(right to left)\n",
                "print(fruitsList[-1])"
            ]
        },
        {
            "attachments": {},
            "cell_type": "markdown",
            "metadata": {},
            "source": [
                "\u003cdiv class=\"alert alert-block alert-success\"\u003e\n",
                "What would be the output for the following program?\n",
                "\n",
                "\n",
                "    fruitsList = [\"Apple\", \"Mango\",  \"Banana\", \"Guava\"]\n",
                "    fruitsList[2] = 'Tomato'\n",
                "    print(fruitsList)\n",
                "\n",
                "\u003c/div\u003e"
            ]
        },
        {
            "cell_type": "code",
            "execution_count": 0,
            "metadata": {},
            "outputs": [],
            "source": [
                ""
            ]
        },
        {
            "attachments": {},
            "cell_type": "markdown",
            "metadata": {},
            "source": [
                "\u003cdiv class=\"alert alert-block alert-danger\"\u003e\n",
                "\u003cb\u003eNotes:\u003c/b\u003e  \n",
                "    Lists are \u003cb\u003emutable\u003c/b\u003e, meaning that you can modify part of the list elements. The string, on the other hand, is \u003cb\u003eimmutable\u003c/b\u003e as the characters cannot be partially changed. If you try to change a subset of string, an error message would be given.\n",
                "\u003c/div\u003e"
            ]
        },
        {
            "attachments": {},
            "cell_type": "markdown",
            "metadata": {},
            "source": [
                "### Slicing in List"
            ]
        },
        {
            "cell_type": "code",
            "execution_count": 0,
            "metadata": {},
            "outputs": [],
            "source": [
                "fruitsList = [\"Apple\", \"Mango\", \"Banana\", \"Guava\"]\n",
                "\n",
                "# Display the first two items in the list\n",
                "print(fruitsList[0:2])\n",
                "\n",
                "# Display the last two items in the list\n",
                "print(fruitsList[-2:])\n",
                "\n",
                "# Display item 3 and 4 in the list respectively\n",
                "print(fruitsList[-2:-4:-1])"
            ]
        },
        {
            "attachments": {},
            "cell_type": "markdown",
            "metadata": {},
            "source": [
                "\u003cdiv class=\"alert alert-block alert-success\"\u003e\n",
                "What would be the correct slicing if we want to display the grade of Deep?\n",
                "    \n",
                "    studGrade = [[\"Shirin\",\"HD\"],[\"Deep\", \"N\"], [\"Minfeng\", \"C\"]]\n",
                "\n",
                "\u003c/div\u003e"
            ]
        },
        {
            "cell_type": "code",
            "execution_count": 0,
            "metadata": {},
            "outputs": [],
            "source": [
                ""
            ]
        },
        {
            "attachments": {},
            "cell_type": "markdown",
            "metadata": {},
            "source": [
                "\u003cdiv class=\"alert alert-block alert-success\"\u003e\n",
                "What would be the correct output?\n",
                "    \n",
                "    grade1 = [\"HD\", \"D\", \"C\", \"P\", \"N\"]\n",
                "    grade2 = grade1\n",
                "    grade3 = [\"HD\", \"D\", \"C\", \"P\", \"N\"]\n",
                "    print(grade1 == grade2, grade1 is grade2, grade2 == grade3, grade3 is grade1)\n",
                "\n",
                "\u003c/div\u003e"
            ]
        },
        {
            "cell_type": "code",
            "execution_count": 0,
            "metadata": {},
            "outputs": [],
            "source": [
                ""
            ]
        },
        {
            "attachments": {},
            "cell_type": "markdown",
            "metadata": {},
            "source": [
                "\u003cdiv class=\"alert alert-block alert-success\"\u003e\n",
                "What would be the correct output?\n",
                "    \n",
                "    grade1 = [\"HD\", \"D\", \"C\", \"P\", \"N\"]\n",
                "    grade2 = grade1[:]\n",
                "    print(grade1 == grade2, grade1 is grade2)\n",
                "\n",
                "\u003c/div\u003e"
            ]
        },
        {
            "cell_type": "code",
            "execution_count": 0,
            "metadata": {},
            "outputs": [],
            "source": [
                ""
            ]
        },
        {
            "attachments": {},
            "cell_type": "markdown",
            "metadata": {},
            "source": [
                "### List Manipulation"
            ]
        },
        {
            "cell_type": "code",
            "execution_count": 0,
            "metadata": {},
            "outputs": [],
            "source": [
                "# Built-in methods for list manipulation:\n",
                "fruitsList = [\"Apple\", \"Mango\", \"Banana\", \"Guava\"]"
            ]
        },
        {
            "cell_type": "code",
            "execution_count": 0,
            "metadata": {},
            "outputs": [],
            "source": [
                "# append(new-item): Adding new items at the end of the list\n",
                "fruitsList.append(\"Peach\")\n",
                "print(fruitsList)"
            ]
        },
        {
            "cell_type": "code",
            "execution_count": 0,
            "metadata": {},
            "outputs": [],
            "source": [
                "# insert(index, new_item): Adding new items at the specific position\n",
                "fruitsList.insert(0, \"Peach\")\n",
                "print(fruitsList)"
            ]
        },
        {
            "cell_type": "code",
            "execution_count": 0,
            "metadata": {},
            "outputs": [],
            "source": [
                "# pop(index): Accept one optional argument indicating the position of the item to be removed,by defult remove the last item\n",
                "fruitsList.pop(-1)\n",
                "print(fruitsList)"
            ]
        },
        {
            "cell_type": "code",
            "execution_count": 0,
            "metadata": {},
            "outputs": [],
            "source": [
                "# remove(item): accept one argument indicating the item value to be removed (not the position of the item) and delete the first instance of that item\n",
                "fruitsList.remove(\"Peach\")\n",
                "print(fruitsList)"
            ]
        },
        {
            "cell_type": "code",
            "execution_count": 0,
            "metadata": {},
            "outputs": [],
            "source": [
                "# sort(): sort the items of a list in place; by default in ascending order\n",
                "fruitsList.sort()\n",
                "print(fruitsList)"
            ]
        },
        {
            "cell_type": "code",
            "execution_count": 0,
            "metadata": {},
            "outputs": [],
            "source": [
                "# reverse(): reverse the items of a list in place\n",
                "fruitsList.reverse()\n",
                "print(fruitsList)"
            ]
        },
        {
            "attachments": {},
            "cell_type": "markdown",
            "metadata": {},
            "source": [
                "\u003cdiv class=\"alert alert-block alert-warning\"\u003e\n",
                "Do you want to know more about Python built-in list methods? Please check: \n",
                "\u003ca href=\"https://docs.python.org/3/tutorial/datastructures.html#more-on-lists\"\u003ePython 3 documentation for List type\u003c/a\u003e\n",
                "\u003c/div\u003e"
            ]
        },
        {
            "attachments": {},
            "cell_type": "markdown",
            "metadata": {},
            "source": [
                "\u003cdiv class=\"alert alert-block alert-success\"\u003e\n",
                "What would be the output for the given program?\n",
                "\n",
                "    first_list = [‘This’, ‘is’, ‘a’, ‘sentence’]\n",
                "    second_list = [‘yes’, ‘or’, ‘no’]\n",
                "    first_list.extend(second_list)\n",
                "    print(first_list)\n",
                "\u003c/div\u003e"
            ]
        },
        {
            "cell_type": "code",
            "execution_count": 0,
            "metadata": {},
            "outputs": [],
            "source": [
                ""
            ]
        },
        {
            "attachments": {},
            "cell_type": "markdown",
            "metadata": {},
            "source": [
                "\u003cdiv class=\"alert alert-block alert-success\"\u003e\n",
                "What would be the output for the following program?\n",
                "    \n",
                "    simple_list = ['This', 'is', 'a', 'sentence']\n",
                "    simple_list[2] = A\n",
                "    print(' '.join(simple_list))\n",
                "\n",
                "\u003c/div\u003e"
            ]
        },
        {
            "attachments": {},
            "cell_type": "markdown",
            "metadata": {},
            "source": [
                "### Iterate Over items of List"
            ]
        },
        {
            "cell_type": "code",
            "execution_count": 0,
            "metadata": {},
            "outputs": [],
            "source": [
                "# Pythonic way of studying in Monash\n",
                "\n",
                "a_week = ['Monday', 'Tuesday', 'Wednesday', 'Thursday', \n",
                "          'Friday', 'Saturday', 'Sunday']\n",
                "\n",
                "print('Welcome to Monash: ')                \n",
                "for each_day in a_week:                  # Iterate each day in a week\n",
                "    print(each_day + ', You have to study :)')    # Combine string segments by \"+\"\n",
                "print(\"Any break?\")\n",
                "print(\"Even during semster break you have to study :(\")"
            ]
        },
        {
            "attachments": {},
            "cell_type": "markdown",
            "metadata": {},
            "source": [
                "#### List Comprehension"
            ]
        },
        {
            "attachments": {},
            "cell_type": "markdown",
            "metadata": {},
            "source": [
                "\u003cdiv class=\"alert alert-block alert-success\"\u003e\n",
                "\u003cb\u003eExample 2:\u003c/b\u003e  \n",
                "    let's say we need to create a list of integers\n",
                "which specify the length of each word in a certain sentence, but only if the word is not the word \"the\".\n",
                "\u003c/div\u003e"
            ]
        },
        {
            "cell_type": "code",
            "execution_count": 0,
            "metadata": {},
            "outputs": [],
            "source": [
                "# Prompt for user input\n",
                "sentence = input(\"Please enter a sentence: \")\n",
                "\n",
                "# Split a string into the list\n",
                "words = sentence.split()\n",
                "\n",
                "#Create an Empty List \n",
                "word_lengths = []\n",
                "\n",
                "#Iterate over List\n",
                "for word in words:\n",
                "      if word != \"the\": #excluding the word \"the\"\n",
                "            word_lengths.append(len(word)) #finding lenght of the word and add it to the list\n",
                "\n",
                "print(word_lengths) # display the list"
            ]
        },
        {
            "attachments": {},
            "cell_type": "markdown",
            "metadata": {},
            "source": [
                "**Python list comprehensions** :\n",
                "- For constructing a new list from an existing list\n",
                "- Items of the new list are built from applying some form of operations on the items of the existing list\n",
                ""
            ]
        },
        {
            "cell_type": "code",
            "execution_count": 0,
            "metadata": {},
            "outputs": [],
            "source": [
                "# Prompt for user input\n",
                "sentence = input(\"Please enter a sentence: \")\n",
                "\n",
                "# Split a string into the list\n",
                "words = sentence.split()\n",
                "\n",
                "#Create an Empty List \n",
                "word_lengths = [len(word) for word in words if word != \"the\"]\n",
                "\n",
                "print(word_lengths) # display the list"
            ]
        },
        {
            "attachments": {},
            "cell_type": "markdown",
            "metadata": {},
            "source": [
                "\u003cdiv class=\"alert alert-block alert-success\"\u003e\n",
                "What is the result of executing the following program?\n",
                "    \n",
                "    mixed_list = [1, \"2\", 3.0, 4, '5']\n",
                "    new_list = [each for each in mixed_list if type(each) is int]\n",
                "    print(new_list)\n",
                "\u003c/div\u003e"
            ]
        },
        {
            "cell_type": "code",
            "execution_count": 0,
            "metadata": {},
            "outputs": [],
            "source": [
                ""
            ]
        },
        {
            "attachments": {},
            "cell_type": "markdown",
            "metadata": {},
            "source": [
                "\u003cdiv class=\"alert alert-block alert-success\"\u003e\n",
                "\u003cb\u003e Homework:\u003c/b\u003e\n",
                "Using a list comprehension, create a new list called \"newlist\" out of the list \"numbers\", which contains only the positive numbers from the list, as integers.\n",
                "\u003c/div\u003e"
            ]
        },
        {
            "cell_type": "code",
            "execution_count": 0,
            "metadata": {},
            "outputs": [],
            "source": [
                "# Write your answer here\n",
                "numbers = [34.6, -203.4, 44.9, 68.3, -12.2, 44.6, 12.7]\n",
                "newlist = [int(x) for x in numbers if x\u003e0]\n",
                "print(newlist)"
            ]
        },
        {
            "attachments": {},
            "cell_type": "markdown",
            "metadata": {},
            "source": [
                "# Tuple (type tuple)"
            ]
        },
        {
            "attachments": {},
            "cell_type": "markdown",
            "metadata": {},
            "source": [
                "- A data type for “chunking” related information that belongs together (as a record)\n",
                "- Storing the same data, tuple owns smaller size in compare with the list"
            ]
        },
        {
            "cell_type": "code",
            "execution_count": 0,
            "metadata": {},
            "outputs": [],
            "source": [
                "# An empty tuple: \n",
                "a_tuple = () \n",
                "\n",
                "# A tuple with a number of items: \n",
                "a_tuple = (0,1)\n",
                "\n",
                "# A tuple with a single item\n",
                "a_tuple = (0, )  # The comma is necessary\n",
                "a_string = (0)   # It is only an integer if comma is missing\n",
                "\n",
                "print(type(a_tuple), type(a_string))\n",
                "\n",
                "# Build a tuple from a list: \n",
                "a_tuple = tuple([0,1])\n",
                "\n",
                "# Assigning to new variables\n",
                "x,y = a_tuple\n",
                "print(x,y)\n",
                "\n",
                "# Compare list with tuple\n",
                "a_tuple = tuple(range(1000))\n",
                "b_list = list(range(1000))\n",
                "print(a_tuple.__sizeof__())\n",
                "print(b_list.__sizeof__())"
            ]
        },
        {
            "attachments": {},
            "cell_type": "markdown",
            "metadata": {},
            "source": [
                " \u003cdiv class=\"alert alert-block alert-danger\"\u003e\n",
                "\u003cb\u003eNotes:\u003c/b\u003e  \n",
                "    Tuple does not support item assignment, \u003cb\u003eTuple is immutable\u003c/b\u003e\n",
                "\u003c/div\u003e"
            ]
        },
        {
            "cell_type": "code",
            "execution_count": 0,
            "metadata": {},
            "outputs": [],
            "source": [
                "# try this:\n",
                "xy_coord = (0, 1)\n",
                "\n",
                "xy_coord[0] = 2"
            ]
        },
        {
            "attachments": {},
            "cell_type": "markdown",
            "metadata": {},
            "source": [
                "\n",
                "### Strings, lists, tuples \u003ca id=\"subsection4.1\"\u003e\u003c/a\u003e\n",
                "\n",
                " \u003cb\u003e \u003c/b\u003e | String | List | Tuple \n",
                ":--------:|:------:|:----:|:-----:\n",
                " **mutable**  | No     | Yes  |  No   \n",
                " **indexing and slicing** | integers | integers | integers \n",
                " **operators** \u003ccode\u003e+\u003c/code\u003e **and** \u003ccode\u003e*\u003c/code\u003e | Yes | Yes | Yes | No\n",
                " **iterable** | Yes | Yes | Yes | Yes \n",
                " **methods** | Yes | Yes | No | Yes"
            ]
        },
        {
            "attachments": {},
            "cell_type": "markdown",
            "metadata": {},
            "source": [
                "# Functions"
            ]
        },
        {
            "attachments": {},
            "cell_type": "markdown",
            "metadata": {},
            "source": [
                "In Week 1 and 2, we have seen many functions and methods. You may have noticed that these functions or methods behave differently, and according to the way they behave, we can group them into three categories:\n",
                "\n",
                "- **1)**. The function **does** something, such as printing a message, modifying a list, or drawing a graph, but returns no result. Examples are function \u003ccode\u003eprint()\u003c/code\u003e and list methods \u003ccode\u003eappend()\u003c/code\u003e, \u003ccode\u003einsert()\u003c/code\u003e, and \u003ccode\u003eextend()\u003c/code\u003e. \n",
                "\n",
                "- **2)**. The function **does** something, and **returns** some results at the same time. We have seen function \u003ccode\u003einput()\u003c/code\u003e and list method \u003ccode\u003epop()\u003c/code\u003e falling into this category. "
            ]
        },
        {
            "attachments": {},
            "cell_type": "markdown",
            "metadata": {},
            "source": [
                "### Create Function"
            ]
        },
        {
            "attachments": {},
            "cell_type": "markdown",
            "metadata": {},
            "source": [
                "\u003cdiv class=\"alert alert-block alert-success\"\u003e\n",
                "Now that we have the ability to make simple calculator:\n",
                "   \n",
                "    x = 5\n",
                "    y = 10\n",
                "\n",
                "    print(x,“+”,y,“=”,x+y)\n",
                "    print(x,“-”,y,“=”,x-y)\n",
                "    print(x,“/”,y,“=”,x/y)\n",
                "    print(x,“*”,y,“=”,x*y)\n",
                "\n",
                "How can we reuse the above code for x = 9 and y = 4?\n",
                "\u003c/div\u003e"
            ]
        },
        {
            "attachments": {},
            "cell_type": "markdown",
            "metadata": {},
            "source": [
                "In the example above, the same calculation procedure is repeated for diffrent x and y. In real applications, such code is considered extremely inefficient. A more efficient way of coding is to write the repeated segments as a function, so that the segment can be repeatedly used, and the program is more concise, readable, and is easier to debug and maintain."
            ]
        },
        {
            "cell_type": "code",
            "execution_count": 0,
            "metadata": {},
            "outputs": [],
            "source": [
                "\"\"\"\n",
                "def function name(argument/s):\n",
                "    Function code suite\n",
                "\"\"\""
            ]
        },
        {
            "attachments": {},
            "cell_type": "markdown",
            "metadata": {},
            "source": [
                "The syntax of creating a function is listed below:\n",
                "- Keyword \u003ccode\u003edef\u003c/code\u003e is used to indicate the definition of a function.\n",
                "- A function name, together with the names of arguments in parentheses, is specified.\n",
                "- Do not forget the colon.\n",
                "- Indentions are used to indicate the body of the function.\n",
                "- Use the keyword \u003ccode\u003ereturn\u003c/code\u003e to define the function outputs. The returned value is \u003ccode\u003eNone\u003c/code\u003e if no output is specified."
            ]
        },
        {
            "cell_type": "code",
            "execution_count": 0,
            "metadata": {},
            "outputs": [],
            "source": [
                "#Prompt user for inserting the value of x and y\n",
                "x = float(input(\"Please insert the integer number x: \"))\n",
                "y = float(input(\"Please insert the integer number y: \"))\n",
                "\n",
                "# Creating simple calculator function\n",
                "def simpleCalculator(x,y):\n",
                "    print(x,\"+\",y,\"=\",x+y)\n",
                "    print(x,\"-\",y,\"=\",x-y)\n",
                "    print(x,\"/\",y,\"=\",x/y)\n",
                "    print(x,\"*\",y,\"=\",x*y)\n",
                "    \n",
                "#How to call the function?"
            ]
        },
        {
            "attachments": {},
            "cell_type": "markdown",
            "metadata": {},
            "source": [
                "\u003cdiv class=\"alert alert-block alert-success\"\u003e\n",
                "Which of the following is a valid function call (invocation)?\n",
                "    \n",
                "    def simpleCalculator(x,y):\n",
                "        print(x,\"+\",y,\"=\",x+y)\n",
                "        print(x,\"-\",y,\"=\",x-y)\n",
                "        print(x,\"/\",y,\"=\",x/y)\n",
                "        print(x,\"*\",y,\"=\",x*y)\n",
                "\u003c/div\u003e"
            ]
        },
        {
            "cell_type": "code",
            "execution_count": 0,
            "metadata": {},
            "outputs": [],
            "source": [
                ""
            ]
        },
        {
            "attachments": {},
            "cell_type": "markdown",
            "metadata": {},
            "source": [
                "\u003cdiv class=\"alert alert-block alert-success\"\u003e\n",
                "Which of the following is a valid function call (invocation)?\n",
                "    \n",
                "    def product_function(first_arg, second_arg):\n",
                "        return first_arg * second_arg\n",
                "\n",
                "\u003c/div\u003e"
            ]
        },
        {
            "cell_type": "code",
            "execution_count": 0,
            "metadata": {},
            "outputs": [],
            "source": [
                ""
            ]
        },
        {
            "attachments": {},
            "cell_type": "markdown",
            "metadata": {},
            "source": [
                "\u003cdiv class=\"alert alert-block alert-success\"\u003e\n",
                "Given the following Python module named arithmetic.py, which of the following is a valid function call (invocation)?\n",
                "    \n",
                "    def addition(first_arg=1, second_arg=2):\n",
                "        return first_arg + second_arg\n",
                "\n",
                "    def subtraction(first_arg=1, second_arg=2):\n",
                "        return first_arg - second_arg\n",
                "Note: First you need to import arithmetic\n",
                "\n",
                "\u003c/div\u003e"
            ]
        },
        {
            "cell_type": "code",
            "execution_count": 0,
            "metadata": {},
            "outputs": [],
            "source": [
                ""
            ]
        },
        {
            "attachments": {},
            "cell_type": "markdown",
            "metadata": {},
            "source": [
                "\u003cdiv class=\"alert alert-block alert-danger\"\u003e\n",
                "\u003cb\u003eNotes:\u003c/b\u003e  \n",
                "    A function terminates at \u003cb\u003ereturn\u003c/b\u003e. After hitting the \u003cb\u003ereturn\u003c/b\u003e, the remaining code in the function will not be executed. \n",
                "\u003c/div\u003e"
            ]
        },
        {
            "attachments": {},
            "cell_type": "markdown",
            "metadata": {},
            "source": [
                "\u003cdiv class=\"alert alert-block alert-warning\"\u003e\n",
                "    \u003cb\u003eCoding Style:\u003c/b\u003e At the beginning of each function, there is a string within triple quotation marks, called a \u003cb\u003edocstring\u003c/b\u003e. It is used to explain how the function behaves. Style of the docstring can be found in \u003ca href=\"https://www.python.org/dev/peps/pep-0257/\"\u003ePEP 257 Docstring Conventions\u003c/a\u003e \n",
                "\u003c/div\u003e"
            ]
        },
        {
            "attachments": {},
            "cell_type": "markdown",
            "metadata": {},
            "source": [
                "\u003cdiv class=\"alert alert-block alert-success\"\u003e\n",
                "Which of the following is a invalid function call (invocation)?\n",
                "    \n",
                "    def cal_grade(ca, exam):\n",
                "        \"\"\"This function calcualtes the total marks and final grades\"\"\"\n",
                "\n",
                "        total_mark = ca + exam * 0.5   # Expression of the total mark\n",
                "\n",
                "        if total_mark \u003e= 80:\n",
                "            grade = 'A'\n",
                "        elif total_mark \u003e 70:\n",
                "            grade = 'B'\n",
                "        elif total_mark \u003e 60:\n",
                "            grade = 'C'\n",
                "        else:\n",
                "            grade = 'D'\n",
                "\n",
                "        return total_mark, grade  \n",
                "\n",
                "\u003c/div\u003e"
            ]
        },
        {
            "attachments": {},
            "cell_type": "markdown",
            "metadata": {},
            "source": [
                "### return vs print\u003ca id=\"subsection4.1\"\u003e\u003c/a\u003e\n",
                "\n",
                "return                                      |print                                     \n",
                ":------------------------------------------:|:----------------------------------------:\n",
                "* Return only has meaning inside a function |* print can be used outside functions    \n",
                "* Only one return executed inside a function|* Can execute many print statement inside a function\n",
                "* Code inside function but after return     |* Code inside function can be executed after a print statement\n",
                "statement not executed                      |\n",
                "* Has a value associated with it, given to  |* Has a value associated with it, outputted to the console\n",
                "function caller                             |\n",
                ""
            ]
        },
        {
            "attachments": {},
            "cell_type": "markdown",
            "metadata": {},
            "source": [
                "### main Function\n",
                "- Specify the flow of execution of a program\n",
                "- Define how functions are invoked in a specific order within a program"
            ]
        },
        {
            "cell_type": "code",
            "execution_count": 0,
            "metadata": {},
            "outputs": [],
            "source": [
                "\"\"\"\n",
                "    def function1():\n",
                "    ...\n",
                "\n",
                "    def function2():\n",
                "        ...\n",
                "\n",
                "    def function3():\n",
                "    ...\n",
                "\n",
                "    def main():\n",
                "        function2()\n",
                "        function3()\n",
                "        function1()\n",
                "\n",
                "    if __name__ == “__main__”:\n",
                "        main()\n",
                "\"\"\""
            ]
        }
    ]
}
