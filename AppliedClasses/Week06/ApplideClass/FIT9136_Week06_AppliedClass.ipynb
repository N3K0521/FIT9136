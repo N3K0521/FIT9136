{
    "metadata": {
        "kernelspec": {
            "name": "python3",
            "display_name": "Python 3 (ipykernel)",
            "language": "python"
        }
    },
    "nbformat": 4,
    "nbformat_minor": 5,
    "cells": [
        {
            "attachments": {},
            "cell_type": "markdown",
            "metadata": {},
            "source": [
                "# FIT9136 - Week 6 Applied Session"
            ]
        },
        {
            "attachments": {},
            "cell_type": "markdown",
            "metadata": {},
            "source": [
                "## Table of Contents:\n",
                "\n",
                "1. [*Exercise 1: Understanding Class \u0026 Object](#exercise-1)\n",
                "2. [*Exercise 2: Laptop Class](#exercise-2)\n",
                "3. [*Exercise 3: Bank](#exercise-3)\n",
                "4. [*Exercise 4: Student Management](#exercise-4)"
            ]
        },
        {
            "attachments": {},
            "cell_type": "markdown",
            "metadata": {},
            "source": [
                "### Exercise 1:  Understanding Class \u0026 Object\u003ca class=\"anchor\" id=\"exercise-1\"\u003e\u003c/a\u003e\n",
                "#class #object #feature(attribute) #functionality(Methods)"
            ]
        },
        {
            "attachments": {},
            "cell_type": "markdown",
            "metadata": {},
            "source": [
                "\u003cdiv class=\"alert alert-block alert-success\"\u003e\n",
                "\n",
                "A Class is where we hold everything together.\n",
                "\n",
                "So far, the programming style we have learnt is called **procedural programming**, which contains steps of instrunctions for the computer to run.\n",
                "\n",
                "Now, we will explore another programming style, **object-oriented programming**.\n",
                "\n",
                "Remember in week 2 we have mentioned **\"Everything in Python is an object\"?** *We are here building the flesh to contain the soul.*\n",
                "    \n",
                "\u003cbr\u003e\n",
                "\u003cbr\u003e\n",
                "Let's say... a laptop. \n",
                "\n",
                "\u003cfont color='red'\u003e**Question:**\u003c/font\u003e How would you describe a laptop? In-terms of Feature and Functionality\n",
                "    \n",
                "\u003c/div\u003e"
            ]
        },
        {
            "attachments": {},
            "cell_type": "markdown",
            "metadata": {},
            "source": [
                "\u003cfont color='red'\u003e**Answer:**\u003c/font\u003e \n",
                "\n",
                "**Features**\n",
                "* feature 1: screen size\n",
                "* feature 2: price\n",
                "* feature 3: storage\n",
                "* feature 4: brand\n",
                "* feature 5: network adapter\n",
                "* feature 6: RAM\n",
                "\n",
                "**Functionality**\n",
                "* function 1: coding/typing\n",
                "* function 2: file storage\n",
                "* function 3: browsing web content\n",
                "* function 4: watch a movie"
            ]
        },
        {
            "attachments": {},
            "cell_type": "markdown",
            "metadata": {},
            "source": [
                "### Exercise 2: Laptop Class \u003ca class=\"anchor\" id=\"exercise-2\"\u003e\u003c/a\u003e\n",
                "\n",
                "#class #instance_creation #method_calling #self #class_variable #instance_variable"
            ]
        },
        {
            "cell_type": "code",
            "execution_count": 99,
            "metadata": {},
            "outputs": [],
            "source": [
                ""
            ]
        },
        {
            "attachments": {},
            "cell_type": "markdown",
            "metadata": {},
            "source": [
                "\u003cdiv class=\"alert alert-block alert-success\"\u003e\n",
                "This is how we can implement the Laptop Class as discussed in the previous question: \n",
                "\n",
                "- **Features** will be transformed to **variables**, which *can* be initialized in the magic \\_\\_init\\_\\_ method(constructor).\n",
                "- **Functionality** will be transformed into **methods**(functions inside a Class).\n",
                "\n",
                "**NOTE:** Please read more about *magic methods* [here](https://docs.python.org/3/reference/datamodel.html#basic-customization)(Section 3.3.1).\n",
                "\n",
                "Let's create a simple Laptop Class now.\n",
                "    \n",
                "We will create the `Class Laptop` with the keyword \u003cfont color='blue'\u003e`class`\u003c/font\u003e. And there are two methods in this Class:\n",
                "* `constructor(\\_\\_init\\_\\_) (self, brand)`: This method will help to create the object of the class.\n",
                "* `play_video(self, video_id)`: This method will display the video from the youtube when we provide the video ID\n",
                "    \n",
                "\u003c/div\u003e "
            ]
        },
        {
            "cell_type": "code",
            "execution_count": 100,
            "metadata": {},
            "outputs": [],
            "source": [
                "# from IPython.display import YouTubeVideo\n",
                "\n",
                "class Laptop:\n",
                "    \n",
                "    def __init__(self, brand):\n",
                "        self.brand = brand #assign the input parameter brand that was used in the funciton, assign it to the instance var. brand    \n",
                "    def play_video(self, video_id=\"\"):\n",
                "        from IPython.display import YouTubeVideo\n",
                "\n",
                "        ins_ = YouTubeVideo(video_id)\n",
                "        display(ins_)\n",
                "        # self.video_id = video_id"
            ]
        },
        {
            "attachments": {},
            "cell_type": "markdown",
            "metadata": {},
            "source": [
                "\u003cdiv class=\"alert alert-block alert-info\"\u003e\n",
                "\n",
                "\u003cfont color='red'\u003e**Question:**\u003c/font\u003e But wait! What is the mysterious **`self`**?\n",
                "\n",
                "\u003c/div\u003e "
            ]
        },
        {
            "attachments": {},
            "cell_type": "markdown",
            "metadata": {},
            "source": [
                "\u003cfont color='red'\u003e**Answer:**\u003c/font\u003e \n",
                "Self is a variable referencing to the instance \n",
                "\n",
                "Self is always put as the first argument when we define a Class method\n",
                ""
            ]
        },
        {
            "attachments": {},
            "cell_type": "markdown",
            "metadata": {},
            "source": [
                "\u003cdiv class=\"alert alert-block alert-success\"\u003e\n",
                "\n",
                "#### Creating an instance\n",
                "\n",
                "Let's create a Laptop instance.\n",
                "    \n",
                "\u003c/div\u003e"
            ]
        },
        {
            "cell_type": "code",
            "execution_count": 101,
            "metadata": {},
            "outputs": [
                {
                    "data": {
                        "text/plain": "'Apple'"
                    },
                    "execution_count": 101,
                    "metadata": {},
                    "output_type": "execute_result"
                }
            ],
            "source": [
                "# Creating a new Laptop instance and assign to the variable mbp\n",
                "mbp = Laptop(\"Apple\") #brand\n",
                "mbp.brand"
            ]
        },
        {
            "attachments": {},
            "cell_type": "markdown",
            "metadata": {},
            "source": [
                "\u003cdiv class=\"alert alert-block alert-success\"\u003e\n",
                "\n",
                "#### Calling a method of an instance\n",
                "\n",
                "Since we have defined play_video already, let's try calling it.\n",
                "    \n",
                "\u003c/div\u003e"
            ]
        },
        {
            "cell_type": "code",
            "execution_count": 102,
            "metadata": {},
            "outputs": [
                {
                    "data": {
                        "text/html": "\n        \u003ciframe\n            width=\"400\"\n            height=\"300\"\n            src=\"https://www.youtube.com/embed/I2wURDqiXdM\"\n            frameborder=\"0\"\n            allowfullscreen\n            \n        \u003e\u003c/iframe\u003e\n        ",
                        "text/plain": "\u003cIPython.lib.display.YouTubeVideo at 0x7f411e4a79a0\u003e"
                    },
                    "metadata": {},
                    "output_type": "display_data"
                }
            ],
            "source": [
                "# I2wURDqiXdM is the value for the id argument\n",
                "mbp.play_video(\"I2wURDqiXdM\")\n",
                "# print(mbp.video_id)"
            ]
        },
        {
            "attachments": {},
            "cell_type": "markdown",
            "metadata": {},
            "source": [
                "\u003cdiv class=\"alert alert-block alert-success\"\u003e\n",
                "\n",
                "#### Class variables\n",
                "\n",
                "Class variables are the variables which the values are shared among all instance of the same Class.\n",
                "\n",
                "They are defined within the Class, but outside of any methods.\n",
                "    \n",
                "\u003c/div\u003e"
            ]
        },
        {
            "cell_type": "code",
            "execution_count": 103,
            "metadata": {},
            "outputs": [],
            "source": [
                "class Laptop:\n",
                "    object_counter = 0 # class variable\n",
                "    def __init__(self, brand):\n",
                "        self.brand = brand\n",
                "        Laptop.object_counter += 1 #calling the class variable\n",
                "        # self.object_counter = 0 -\u003e instance variable"
            ]
        },
        {
            "cell_type": "code",
            "execution_count": 104,
            "metadata": {},
            "outputs": [
                {
                    "name": "stdout",
                    "output_type": "stream",
                    "text": "0\n"
                }
            ],
            "source": [
                "# What will be printed?\n",
                "print(Laptop.object_counter)"
            ]
        },
        {
            "cell_type": "code",
            "execution_count": 105,
            "metadata": {
                "scrolled": true
            },
            "outputs": [
                {
                    "name": "stdout",
                    "output_type": "stream",
                    "text": "OneClass.class_variable = 1\nan_object.class_variable = 1\n"
                }
            ],
            "source": [
                "# What will be printed?\n",
                "an_instance = Laptop(\"mbp\")\n",
                "print(f'OneClass.class_variable = {Laptop.object_counter}')\n",
                "print(f'an_object.class_variable = {an_instance.object_counter}')"
            ]
        },
        {
            "cell_type": "code",
            "execution_count": 106,
            "metadata": {},
            "outputs": [],
            "source": [
                "Laptop.object_counter = 0"
            ]
        },
        {
            "attachments": {},
            "cell_type": "markdown",
            "metadata": {},
            "source": [
                "\u003cdiv class=\"alert alert-block alert-info\"\u003e\n",
                "\n",
                "Now, try this exercise in **PyCharm**\n",
                "    \n",
                "\u003c/div\u003e"
            ]
        },
        {
            "attachments": {},
            "cell_type": "markdown",
            "metadata": {},
            "source": [
                "### Exercise 3: Bank  \u003ca class=\"anchor\" id=\"exercise-3\"\u003e\u003c/a\u003e\n",
                "#class #objects #magic_methods #methods"
            ]
        },
        {
            "attachments": {},
            "cell_type": "markdown",
            "metadata": {},
            "source": [
                "\u003cdiv class=\"alert alert-block alert-success\"\u003e\n",
                "\n",
                "A bank is a financial institution licensed to receive deposits and make loans. Banks are a very important part of the economy because they provide vital services for both consumers and businesses. As financial services providers, they give you a safe place to store your cash. Through a variety of account types such as checking and savings accounts.\n",
                "    \n",
                "In this Exercise, we shall try to create a class for the bank account that stores person's details and allow the person to perform operations like deposit, withdraw, search, and display details.\n",
                "    \n",
                "**Write a python code that creates a `BankAccount` class, which has following methods and attribute:**\n",
                "\n",
                "* **Attribute**:\n",
                "    * Class Variable named `account_list` that has assigned a empty list as value.\n",
                "* **Methods**:\n",
                "    - Constructor (`__init__()`) for this `BankAccount` class. The instance variables are account_number(str), username(str, default value is \"\"), user_email(str, default value is \"\"), user_mobile(str, default value is \"\"), balance(float, default value is 0.0), account_status(bool, default value is False)\n",
                "    - `generate_account_number()` to generate an unique account_number (use random to generate a 7 digits int number)\n",
                "    - `get_total_num_account()` to return total number of accounts\n",
                "    - `deposit(deposit_amt)` to deposit the amount to the balance (the account_status must be True)\n",
                "    - `withdraw(withdraw_amt)` to withdraw the amount to the balance (the account_status must be True)\n",
                "    - `search_accounts_by_username(username)` to return all the accounts of this user\n",
                "    - `__str__()` to return one bank account information\n",
                "    - `display()` to print all the bank accounts(Hint: use the  `__str__()`)\n",
                "    \n",
                "\u003c/div\u003e"
            ]
        },
        {
            "cell_type": "code",
            "execution_count": 107,
            "metadata": {},
            "outputs": [],
            "source": [
                "# importing random library\n",
                "import random\n",
                "\n",
                "\n",
                "class BankAccount:\n",
                "    \n",
                "    account_list = [] # a list of all instances of BankAccount\n",
                "    def __init__(self, username=\"\", user_email=\"\", \n",
                "                 user_mobile=\"\", balance=0.0, account_status=False):\n",
                "        \n",
                "        self.username = username\n",
                "        self.user_email = user_email\n",
                "        self.user_mobile = user_mobile\n",
                "        self.balance = balance\n",
                "        self.account_status = account_status\n",
                "        BankAccount.account_list.append(self) #append instance to list\n",
                "        \n",
                "    def generate_account_number(self):\n",
                "        _id = None\n",
                "        while True:\n",
                "            -id = str(random.randint(1000000, 9999999))\n",
                "            # BankAccount.account_list.append(self.account_number)\n",
                "            for acc in self.account_list:\n",
                "                if acc.account_number == _id:\n",
                "                    continue\n",
                "            break\n",
                "        \n",
                "        return _id\n",
                "    \n",
                "    # return total number of account\n",
                "    def get_total_num_account(self):\n",
                "        return len(BankAccount.account_list)\n",
                "    \n",
                "    def deposit(self, deposit_amt): # add validation\n",
                "        if self.account_status:\n",
                "            self.balance += deposit_amt\n",
                "    \n",
                "    def withdraw(self, withdraw_amt):# add validation\n",
                "        if self.account_status and self.balance \u003e= withdraw_amt:\n",
                "            self.balance -= withdraw_amt\n",
                "        else:\n",
                "            print(\"Invalid withdraw\")\n",
                "    \n",
                "    def search_accounts_by_username(self, username):\n",
                "        result_list = []\n",
                "\n",
                "        for acct in BankAccount.account_list: #acct is an instance of BankAccount class\n",
                "            if acct.username == username:#if username matches\n",
                "                result_list.append(acct)\n",
                "        \n",
                "        return result_list\n",
                "    \n",
                "    def __str__(self):\n",
                "        print_str = f\"Username: {self.username}\\nUser email: {self.user_email}\\nUser mobile: {self.user_mobile}\\nBalance: {self.balance}\\nAccount_status: {self.account_status}\"\n",
                "#       print(\"Username: \", self.username)\n",
                "#       print(\"User_email: \", self.user_email)\n",
                "#       print(\"User_mobile: \", self.user_mobile)\n",
                "#       print(\"Balance: \", self.balance)\n",
                "#       print(\"Account_status: \", self.account_status)\n",
                "        return print_str\n",
                "    \n",
                "    def display(self):\n",
                "#       for account in BankAccount.account_list:\n",
                "#           print(account.--__str__())\n",
                "        print(self)"
            ]
        },
        {
            "cell_type": "code",
            "execution_count": 108,
            "metadata": {},
            "outputs": [
                {
                    "name": "stdout",
                    "output_type": "stream",
                    "text": "--------------------------------------------\nUsername: Jack\nUser email: Jack@gmail.com\nUser mobile: 011111111\nBalance: 500.0\nAccount_status: True\ntotal_num_account= 6\n--------------------------------------------\n--------------------------------------------\nUsername: Jack\nUser email: Jack@gmail.com\nUser mobile: 011111111\nBalance: -39500.0\nAccount_status: True\nUsername: Jack\nUser email: Jack@gmail.com\nUser mobile: 011111111\nBalance: 1500.0\nAccount_status: True\nUsername: Jack\nUser email: Jack@gmail.com\nUser mobile: 011111111\nBalance: -39500.0\nAccount_status: True\nUsername: Jack\nUser email: Jack@gmail.com\nUser mobile: 011111111\nBalance: 1500.0\nAccount_status: True\n"
                }
            ],
            "source": [
                "# your test code\n",
                "\n",
                "b1 = BankAccount(username=\"Jack\", user_email=\"Jack@gmail.com\", \n",
                "                 user_mobile=\"011111111\", balance=500.0, account_status=True)\n",
                "b2 = BankAccount(username=\"Jack\", user_email=\"Jack@gmail.com\", \n",
                "                 user_mobile=\"011111111\", balance=1500.0, account_status=True)\n",
                "b3 = BankAccount(username=\"Peter\", user_email=\"Peter@gmail.com\", \n",
                "                 user_mobile=\"02222222\", balance=5500.0, account_status=True)\n",
                "\n",
                "BankAccount.account_list.append(b1)\n",
                "BankAccount.account_list.append(b2)\n",
                "BankAccount.account_list.append(b3)\n",
                "print(\"--------------------------------------------\")\n",
                "\n",
                "b1.display()\n",
                "print(\"total_num_account=\", b1.get_total_num_account())\n",
                "print(\"--------------------------------------------\")\n",
                "b1.deposit(10000)\n",
                "b1.withdraw(50000)\n",
                "print(\"--------------------------------------------\")\n",
                "for item in b1.search_accounts_by_username(\"Jack\"):\n",
                "    print(str(item))\n",
                "\n",
                "BankAccount.account_list.clear()"
            ]
        },
        {
            "attachments": {},
            "cell_type": "markdown",
            "metadata": {},
            "source": [
                "### Exercise 4:  Student Management\u003ca class=\"anchor\" id=\"exercise-4\"\u003e\u003c/a\u003e\n",
                "#class #objects #accessors(getters) #mutator(setter)"
            ]
        },
        {
            "attachments": {},
            "cell_type": "markdown",
            "metadata": {},
            "source": [
                "\u003cdiv class=\"alert alert-block alert-success\"\u003e\n",
                "\n",
                "A student management system (also known as a student information system or SIS) helps a school manage data, communications, and scheduling. A school system generates and uses a large amount of data. This data must be communicated appropriately to students, faculty, and parents.\n",
                "    \n",
                "In this exercise, we shall try to create a console based system in python using concept of object oriented programming.\n",
                "    \n",
                "We shall divided this small project into 2 different class\n",
                "1. `Student Class` that will store all the details like ID, first name, last name, Date-of-Birth (DOB), email, phone number, and enroll date\n",
                "2. `Main Class` that will helps do the operations like add, deleted, update, and search students and handles business logic.\n",
                "\n",
                "    \n",
                "#### 1. Student Class\n",
                "In the student class, we will save student id, first name, last name, date-of-birth, email, phone number, and enroll date. \n",
                "    \n",
                "* **Attribute**:\n",
                "    * `newid` to store the id of the student\n",
                "    * `firstname` to store the first name of the student\n",
                "    * `lastname` to store the last name of the student\n",
                "    * `date_of_birth` to store the date of birth of the student\n",
                "    * `email` to store the email ID of the student\n",
                "    * `phone_number`  to store the phone number of the student\n",
                "    * `enroll_date` to store the enroll date of the student\n",
                "* **Methods**:\n",
                "    - `__init__()` for the `Student` class. \n",
                "    \n",
                "    - `display()` to output the student information in following format:\n",
                "        - `111111\u0026nbsp;\u0026nbsp;|\u0026nbsp;\u0026nbsp;Jack Johns\u0026nbsp;\u0026nbsp;|\u0026nbsp;\u0026nbsp;11/11/1995\u0026nbsp;\u0026nbsp;|\u0026nbsp;\u0026nbsp;jack.johns@gmail.com\u0026nbsp;\u0026nbsp;|\u0026nbsp;\u0026nbsp;0412221111\u0026nbsp;\u0026nbsp;|\u0026nbsp;\u0026nbsp;20-11-2021`\n",
                "    \n",
                "    - getter()/setter() methods for all instance variables\n",
                "    \n",
                "\u003c/div\u003e"
            ]
        },
        {
            "cell_type": "code",
            "execution_count": 109,
            "metadata": {},
            "outputs": [],
            "source": [
                "class Student:\n",
                "    \n",
                "    def __init__(self, newid, firstname, lastname, date_of_birth, \n",
                "                 email, phone_number, enroll_date): # constructor\n",
                "        self.newid = newid\n",
                "        self.firstname = firstname\n",
                "        self.lastname = lastname\n",
                "        self.date_of_birth = date_of_birth\n",
                "        self.email = email\n",
                "        self.phone_number = phone_number\n",
                "        self.enroll_date = enroll_date\n",
                "    \n",
                "    # print out student info\n",
                "    def display(self):\n",
                "        print(self.id + \" | \" + self)\n",
                "        \n",
                "    # accessors and mutators\n",
                "    def get_firstname(self):\n",
                "        return self.firstname\n",
                "\n",
                "    def set_firstname(self, firstname):\n",
                "        if len(firstname) \u003c 3: #validation\n",
                "            print(\"firstname name should be more than 3 letters\")\n",
                "        else:\n",
                "            self.firstname = firstname\n",
                "    \n",
                "    def get_lastname(self):\n",
                "        pass\n",
                "    def set_lastname(self, lastname):\n",
                "        pass\n",
                "    \n",
                "    def get_date_of_birth(self):\n",
                "        pass\n",
                "    def set_date_of_birth(self, date_of_birth):\n",
                "        pass\n",
                "    \n",
                "    def get_email(self):\n",
                "        pass\n",
                "    def set_email(self, email):\n",
                "        pass\n",
                "        \n",
                "    def get_phone_number(self):\n",
                "        pass\n",
                "    def set_phone_number(self, phone):\n",
                "        pass\n",
                "    \n",
                "    def get_enroll_date(self):\n",
                "        pass\n",
                "    def set_enroll_date(self, enrol_date):\n",
                "        pass"
            ]
        },
        {
            "cell_type": "code",
            "execution_count": 110,
            "metadata": {},
            "outputs": [
                {
                    "name": "stdout",
                    "output_type": "stream",
                    "text": "First and Last name:\n\tBefore None None\n\tAfter: None None\nDate of Birth:\n\n\tBefore None\n\tafter: None\nEmail:\n\n\tBefore: None\n\tafter: None\nPhone Number:\n\n\tBefore None\n\tafter: None\nEnroll Date:\n\n\tBefore None\n\tafter: None\n"
                }
            ],
            "source": [
                "# Test for the Student Class\n",
                "student_1 = Student(newid = \"11111111\", \n",
                "                    firstname = \"Deep\", \n",
                "                    lastname = \"Mendha\", \n",
                "                    date_of_birth = \"1-1-1990\", \n",
                "                    email = \"deep@mendha.com\", \n",
                "                    phone_number = \"0412345678\", \n",
                "                    enroll_date = \"15/07/2020\")\n",
                "\n",
                "\n",
                "# get \u0026 change first and last name\n",
                "print(\"First and Last name:\")\n",
                "print(\"\\tBefore\" ,student_1.get_firstname(), student_1.get_lastname())\n",
                "student_1.set_firstname(\"deep\")\n",
                "student_1.set_lastname(\"mendha\")\n",
                "print(\"\\tAfter:\", student_1.get_firstname(), student_1.get_lastname())\n",
                "\n",
                "# get \u0026 change date of birth\n",
                "print(\"Date of Birth:\")\n",
                "print(f\"\\n\\tBefore {student_1.get_date_of_birth()}\")\n",
                "student_1.set_date_of_birth(\"01-01-90\")\n",
                "print(f\"\\tafter: {student_1.get_date_of_birth()}\")\n",
                "\n",
                "\n",
                "# get \u0026 change email\n",
                "print(\"Email:\")\n",
                "print(f\"\\n\\tBefore: {student_1.get_email()}\")\n",
                "student_1.set_email(\"d.m@m.co.au\")\n",
                "print(f\"\\tafter: {student_1.get_email()}\")\n",
                "\n",
                "# get \u0026 change phone Number\n",
                "print(\"Phone Number:\")\n",
                "print(f\"\\n\\tBefore {student_1.get_phone_number()}\")\n",
                "student_1.set_phone_number(\"0498765432\")\n",
                "print(f\"\\tafter: {student_1.get_phone_number()}\")\n",
                "\n",
                "# get \u0026 change Enroll Date\n",
                "print(\"Enroll Date:\")\n",
                "print(f\"\\n\\tBefore {student_1.get_enroll_date()}\")\n",
                "student_1.set_enroll_date(\"15/7/20\")\n",
                "print(f\"\\tafter: {student_1.get_enroll_date()}\")"
            ]
        },
        {
            "attachments": {},
            "cell_type": "markdown",
            "metadata": {},
            "source": [
                "\u003cdiv class=\"alert alert-block alert-success\"\u003e\n",
                "\n",
                "\n",
                "#### 2. Main Class\n",
                "The main class is used to handle all the business logic.   \n",
                "    \n",
                "* **Attribute**:\n",
                "    * `student_list` to store the objects of student class\n",
                "    \n",
                "* **Methods**:\n",
                "    - `__init__()` for the `Main` class. The instance variable `student_list`\n",
                "    - `list_students()` to show all students\n",
                "    - `add_student(st)` to add a new student\n",
                "    - `delete_student(st_id)` to delete an existing student\n",
                "    - `update_student(st)` to update some attributes of an existing student\n",
                "    - `search_student(arg)` to search students based on the argument. \n",
                "        - In the method, we need to firstly check the argument is an email address(has @), a mobile number(all digits), a date-of-birth(number contains /), a first/last name(all alphabet) or an enrol date(number contains -). Then, we can search from the student list and return a list of result students.\n",
                "\n",
                "\u003c/div\u003e"
            ]
        },
        {
            "cell_type": "code",
            "execution_count": 111,
            "metadata": {},
            "outputs": [],
            "source": [
                "class Main:\n",
                "    \n",
                "    def __init__(self):\n",
                "        self.student_list = []\n",
                "        \n",
                "    def list_students(self): # print out all students\n",
                "        pass\n",
                "    \n",
                "    def add_student(self, st): # add a new student\n",
                "        pass\n",
                "    \n",
                "    def delete_student(self, st_id): # delete the student passed in\n",
                "        pass\n",
                "    \n",
                "    def update_student(self, st): # update the student passed in\n",
                "        pass\n",
                "    \n",
                "    def search_student(self, arg): # find students and print out result\n",
                "        pass"
            ]
        },
        {
            "cell_type": "code",
            "execution_count": 112,
            "metadata": {},
            "outputs": [
                {
                    "ename": "AttributeError",
                    "evalue": "'Student' object has no attribute 'id'",
                    "output_type": "error",
                    "traceback": [
                        "\u001b[0;31m---------------------------------------------------------------------------\u001b[0m",
                        "\u001b[0;31mAttributeError\u001b[0m                            Traceback (most recent call last)",
                        "Cell \u001b[0;32mIn[1], line 17\u001b[0m\n\u001b[1;32m     13\u001b[0m main\u001b[38;5;241m.\u001b[39madd_student(st5)\n\u001b[1;32m     15\u001b[0m main\u001b[38;5;241m.\u001b[39mlist_students()\n\u001b[0;32m---\u003e 17\u001b[0m main\u001b[38;5;241m.\u001b[39mdelete_student(\u001b[43mst1\u001b[49m\u001b[38;5;241;43m.\u001b[39;49m\u001b[43mid\u001b[49m)\n\u001b[1;32m     19\u001b[0m main\u001b[38;5;241m.\u001b[39mlist_students()\n\u001b[1;32m     21\u001b[0m st2\u001b[38;5;241m.\u001b[39mset_firstname(\u001b[38;5;124m\"\u001b[39m\u001b[38;5;124mLee\u001b[39m\u001b[38;5;124m\"\u001b[39m)\n",
                        "\u001b[0;31mAttributeError\u001b[0m: 'Student' object has no attribute 'id'"
                    ]
                }
            ],
            "source": [
                "# test for the Main Class\n",
                "main = Main()\n",
                "\n",
                "st1 = Student(\"1111111\", \"Jack\", \"Johns\", \"11/11/1995\", \"jack@gmail.com\", \"041111111\", \"20-11-2021\")\n",
                "st2 = Student(\"2222222\", \"Jack2\", \"Johns2\", \"11/12/1995\", \"jack2@gmail.com\", \"0422222222\", \"25-11-2021\")\n",
                "st3 = Student(\"3333333\", \"Jack3\", \"Johns3\", \"12/12/1995\", \"jack3@gmail.com\", \"0433333333\", \"28-11-2021\")\n",
                "st4 = Student(\"3333333\", \"Jack\", \"Johns3\", \"12/12/1995\", \"jack3@gmail.com\", \"0433333333\", \"28-11-2021\")\n",
                "st5 = Student(\"3333333\", \"Jack3\", \"Johns\", \"12/12/1995\", \"jack3@gmail.com\", \"0433333333\", \"28-11-2021\")\n",
                "main.add_student(st1)\n",
                "main.add_student(st2)\n",
                "main.add_student(st3)\n",
                "main.add_student(st4)\n",
                "main.add_student(st5)\n",
                "\n",
                "main.list_students()\n",
                "\n",
                "main.delete_student(st1.id)\n",
                "\n",
                "main.list_students()\n",
                "\n",
                "st2.set_firstname(\"Lee\")\n",
                "main.update_student(st2)\n",
                "\n",
                "print(\"seraching\")\n",
                "# search firstname\n",
                "main.search_student(\"Jack\")\n",
                "\n",
                "# search email\n",
                "main.search_student(\"jack3@gmail.com\")"
            ]
        },
        {
            "cell_type": "code",
            "execution_count": 0,
            "metadata": {},
            "outputs": [],
            "source": [
                ""
            ]
        }
    ]
}
