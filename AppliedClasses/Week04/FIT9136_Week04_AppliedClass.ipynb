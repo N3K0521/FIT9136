{
    "metadata": {
        "kernelspec": {
            "name": "python3",
            "display_name": "Python 3 (ipykernel)",
            "language": "python"
        }
    },
    "nbformat": 4,
    "nbformat_minor": 5,
    "cells": [
        {
            "attachments": {},
            "cell_type": "markdown",
            "metadata": {},
            "source": [
                "# FIT9136 - Week 4 Applied Session"
            ]
        },
        {
            "attachments": {},
            "cell_type": "markdown",
            "metadata": {},
            "source": [
                "## Table of Contents:\n",
                "\n",
                "1. [*Exercise 1: Playing with String](#exercise-1)\n",
                "2. [*Exercise 2: GPA](#exercise-2)\n",
                "3. [*Exercise 3: Prime Number](#exercise-3)\n",
                "4. [*Exercise 4: Palindrome](#exercise-4)\n",
                "5. [*Exercise 5: Dice Roll](#exercise-5)"
            ]
        },
        {
            "attachments": {},
            "cell_type": "markdown",
            "metadata": {},
            "source": [
                "### *Exercise 1: Playing with String \u003ca class=\"anchor\" id=\"exercise-1\"\u003e\u003c/a\u003e\n",
                "\n",
                "#String #String_Manipulation #String_functions"
            ]
        },
        {
            "attachments": {},
            "cell_type": "markdown",
            "metadata": {},
            "source": [
                "\u003cdiv class=\"alert alert-block alert-success\"\u003e\n",
                "\n",
                "This tasks focus on using the string data type and it's related functions.\n",
                "\n",
                "* **Create a variable named \"demo_string\" that has value \"Hello World\"**\n",
                "    \n",
                "\u003c/div\u003e"
            ]
        },
        {
            "cell_type": "code",
            "execution_count": 1,
            "metadata": {},
            "outputs": [
                {
                    "name": "stdout",
                    "output_type": "stream",
                    "text": "Hello World\n"
                }
            ],
            "source": [
                "# Your solution goes here\n",
                "demo_string = \"Hello World\"\n",
                "print(demo_string)"
            ]
        },
        {
            "attachments": {},
            "cell_type": "markdown",
            "metadata": {},
            "source": [
                "\u003cdiv class=\"alert alert-block alert-success\"\u003e\n",
                "\n",
                "* **What is the length of the string that is stored in \"demo_string\"?**\n",
                "\n",
                "\u003c/div\u003e"
            ]
        },
        {
            "cell_type": "code",
            "execution_count": 2,
            "metadata": {},
            "outputs": [
                {
                    "name": "stdout",
                    "output_type": "stream",
                    "text": "11\n"
                }
            ],
            "source": [
                "# Your solution goes here\n",
                "print(len(demo_string))"
            ]
        },
        {
            "attachments": {},
            "cell_type": "markdown",
            "metadata": {},
            "source": [
                "\u003cdiv class=\"alert alert-block alert-success\"\u003e\n",
                "\n",
                "* **Write the word \"Hello\" and \"world\" separately in a different lines of output window, like this:**\n",
                "\n",
                "        Hello\n",
                "        World\n",
                "    \n",
                "\u003c/div\u003e"
            ]
        },
        {
            "cell_type": "code",
            "execution_count": 4,
            "metadata": {},
            "outputs": [
                {
                    "name": "stdout",
                    "output_type": "stream",
                    "text": "Hello\nWorld\n\nHello\nWorld\n"
                }
            ],
            "source": [
                "# Your solution goes here\n",
                "#solution 1\n",
                "print('''Hello\n",
                "World\n",
                "''')\n",
                "#solution 2\n",
                "print(\"Hello\\nWorld\")"
            ]
        },
        {
            "attachments": {},
            "cell_type": "markdown",
            "metadata": {},
            "source": [
                "### *Exercise 2: GPA Calculator \u003ca class=\"anchor\" id=\"exercise-2\"\u003e\u003c/a\u003e\n",
                "#list_manipulation #function #condition"
            ]
        },
        {
            "attachments": {},
            "cell_type": "markdown",
            "metadata": {},
            "source": [
                "\u003cdiv class=\"alert alert-block alert-success\"\u003e\n",
                "\n",
                "GPA stands for Grade-Point Average, which is used by most of the university to find the average grade of the student. the Formula for the GPA Calculation is:\n",
                "* GPA = sum of (Unit_credit * Grade_value) / sum of Unit Credit\n",
                "\n",
                "\n",
                "* **Grade Value table:**\n",
                "\n",
                "|Marks range|Grade|Grade Value|\n",
                "|---|---|---|\n",
                "| 80 - 100 | HD | 4 |\n",
                "| 70-79 | D | 3 |\n",
                "| 60-69 | C | 2 |\n",
                "| 50-59 | P | 1 |\n",
                "| 49-0 | N | 0.3 |\n",
                "\n",
                "In this exercise, you are provided with the students data  in a form of list of list and the unit credit list that tells about the credit point of a unit.\n",
                "\n",
                "For example: one of the students data is \n",
                "* `['Bruce', 72, 75, 100, 89]`, from the list name of the student is Bruce and marks for the Unit 1 is 72, Unit 2 is 75, Unit 3 is 100, and Unit 4 is 89.\n",
                "* The unit_credit list `[3, 4, 2, 5]`, from the list Unit 1 has credit 3, Unit 2 has credit 4, Unit 3 has credit 2, and Unit 4 has credit 5.\n",
                "* Now, we need the Grade_value based on the Marks, so using the above table, Grade values are as follow: 3, 3, 4, 4. Because, Unit 1 and Unit 2 have marks between 70 and 79, so the Grade value is 3, and for unit 3 \u0026 4, marks are above 80, so the grade value is 4.\n",
                "* So based on the formula mentioned, Bruce's GPA is (3\\*3 + 3\\*4 + 4\\*2 + 4\\*5) / (3+2+4+5), which is equal to 3.5\n",
                "\n",
                "\n",
                "**Write a Python program to calculate the GPA. You have to create one function named `get_grade_value`, which takes mark of a unit and returns the grade value. And another function named `get_gpa`, which takes two argument, unit_credit list and stud_marks list and returns the GPA of a student.**\n",
                "\n",
                "**Example program run (bold indicate what the user enters):**\n",
                "\n",
                "Bruce got 3.5 GPA\u003cbr\u003e\n",
                "Clark got 2.229 GPA\u003cbr\u003e\n",
                "John got 0.914 GPA\u003cbr\u003e\n",
                "Barry got 3.0 GPA\u003cbr\u003e\n",
                "Diana got 3.357 GPA\u003cbr\u003e\n",
                "Arthur got 0.3 GPA\u003cbr\u003e\n",
                "    \n",
                "\u003c/div\u003e "
            ]
        },
        {
            "cell_type": "code",
            "execution_count": 21,
            "metadata": {},
            "outputs": [],
            "source": [
                "# get unit grade\n",
                "def get_unit_grade(mark):\n",
                "    if mark \u003c= 100 and mark \u003e= 80:\n",
                "        return 4\n",
                "    elif mark \u003c= 79 and mark \u003e= 70:\n",
                "        return 3\n",
                "    elif mark \u003c= 69 and mark \u003e=60:\n",
                "        return 2\n",
                "    elif mark \u003c= 59 and mark \u003e= 50:\n",
                "        return 1\n",
                "    else:\n",
                "        return 0.3"
            ]
        },
        {
            "attachments": {},
            "cell_type": "markdown",
            "metadata": {},
            "source": [
                "E.g."
            ]
        },
        {
            "cell_type": "code",
            "execution_count": 22,
            "metadata": {},
            "outputs": [
                {
                    "data": {
                        "text/plain": "1"
                    },
                    "execution_count": 22,
                    "metadata": {},
                    "output_type": "execute_result"
                }
            ],
            "source": [
                "get_unit_grade(58)"
            ]
        },
        {
            "cell_type": "code",
            "execution_count": 23,
            "metadata": {},
            "outputs": [],
            "source": [
                "#unit_credit is the unit credit list, studnet_marks is the studnet mark list\n",
                "def get_gpa(unit_credit, student_marks):\n",
                "    # get gpa\n",
                "    gpa = 0\n",
                "    #for each unit credt, gpa = unit_credit * the unit grade value, which is calculated by the previous function \n",
                "    for i in range(len(unit_credit)):\n",
                "        gpa += unit_credit[i] * get_unit_grade(student_marks[i])\n",
                "    #Bruce's GPA is (3*3 + 3*4 + 4*2 + 4*5) / (3+2+4+5)\n",
                "    #therefore total gpa = gpa (calculated in this function) / total unit credit (sum of unit_credit)\n",
                "    #round the final answer to 2 digits\n",
                "    return round(gpa/(sum(unit_credit)),2)"
            ]
        },
        {
            "attachments": {},
            "cell_type": "markdown",
            "metadata": {},
            "source": [
                "e.g. Bruce's gpa:"
            ]
        },
        {
            "cell_type": "code",
            "execution_count": 24,
            "metadata": {},
            "outputs": [
                {
                    "data": {
                        "text/plain": "3.5"
                    },
                    "execution_count": 24,
                    "metadata": {},
                    "output_type": "execute_result"
                }
            ],
            "source": [
                "get_gpa([3,4,2,5], [72, 75, 100, 89])"
            ]
        },
        {
            "cell_type": "code",
            "execution_count": 27,
            "metadata": {},
            "outputs": [
                {
                    "name": "stdout",
                    "output_type": "stream",
                    "text": "Bruce got 3.5 GPA\nClark got 2.23 GPA\nJohn got 0.91 GPA\nBarry got 3.0 GPA\nDiana got 3.36 GPA\nArthur got 0.3 GPA\n"
                }
            ],
            "source": [
                "# Unit Credit list  \n",
                "unit_credit = [3, 4, 2, 5]\n",
                "\n",
                "# Students Data\n",
                "students_data = [['Bruce', 72, 75, 100, 89],\n",
                "                ['Clark', 92, 20, 81, 68],\n",
                "                ['John', 64, 41, 45, 57],\n",
                "                ['Barry', 55, 80, 94, 71],\n",
                "                ['Diana', 84, 71, 100, 70],\n",
                "                ['Arthur', 43, 12, 40, 47]]\n",
                "\n",
                "# Loop through each student data and then calling the get_gpa function\n",
                "for student in students_data:\n",
                "    print(f\"{student[0]} got {get_gpa(unit_credit, student[1:])} GPA\")"
            ]
        },
        {
            "attachments": {},
            "cell_type": "markdown",
            "metadata": {},
            "source": [
                "### *Exercise 3: Prime Number \u003ca class=\"anchor\" id=\"exercise-3\"\u003e\u003c/a\u003e\n",
                "#Loops #conditional_statements"
            ]
        },
        {
            "attachments": {},
            "cell_type": "markdown",
            "metadata": {},
            "source": [
                "\u003cdiv class=\"alert alert-block alert-success\"\u003e\n",
                "\n",
                "As you all are familiar with the what the prime number is. Now, it is time to code it. This exercise is in 2 parts:\n",
                "1. Part 1: In this part, we shall ask user to enter a number and code checks whether it is prime or not.\n",
                "2. Part 2: In this part, we shall ask user to enter a number and code will return the number in the Nth position in the list after removing all the composites.\n",
                "\n",
                "\n",
                "#### Part 1: Check for Prime:\n",
                "\n",
                "Write a Python function named `check_prime` which take one argument `num` as integer and checks whether it is prime number or not. If it is prime, then returns `True` else it returns `False`\n",
                "\n",
                "**Example program run (bold indicate what the user enters):**\n",
                "\n",
                "Enter a number: **11**\n",
                "\n",
                "11 is a prime number.\n",
                "\n",
                "**Another Example:**\n",
                "\n",
                "Enter a number: **12**\n",
                "\n",
                "12 is not a prime number.\n",
                "    \n",
                "\u003c/div\u003e"
            ]
        },
        {
            "cell_type": "code",
            "execution_count": 47,
            "metadata": {},
            "outputs": [
                {
                    "name": "stdout",
                    "output_type": "stream",
                    "text": "12is not a prime number\n"
                }
            ],
            "source": [
                "# Your solution goes here\n",
                "def check_prime(num):\n",
                "    for i in range(2, (num//2)+1):\n",
                "        if (num % i) == 0:\n",
                "            return False\n",
                "    return True\n",
                "\n",
                "user_input = int(input(\"Please insert a number to check if it is a prime number: \"))\n",
                "\n",
                "if check_prime(user_input) is True:\n",
                "    print(str(user_input) + \"is a prime number\")\n",
                "else:\n",
                "    print(str(user_input) + \"is not a prime number\")"
            ]
        },
        {
            "attachments": {},
            "cell_type": "markdown",
            "metadata": {},
            "source": [
                "Test if check_prime is working:"
            ]
        },
        {
            "cell_type": "code",
            "execution_count": 43,
            "metadata": {},
            "outputs": [
                {
                    "data": {
                        "text/plain": "True"
                    },
                    "execution_count": 43,
                    "metadata": {},
                    "output_type": "execute_result"
                }
            ],
            "source": [
                "check_prime(11)"
            ]
        },
        {
            "attachments": {},
            "cell_type": "markdown",
            "metadata": {},
            "source": [
                "\u003cdiv class=\"alert alert-block alert-success\"\u003e\n",
                "    \n",
                "#### Part 2: Nth Prime Number:\n",
                "\n",
                "Write a Python function named `get_prime_number` which take one argument `num` as integer and return the number in the Nth position in the list after removing all the composites.\n",
                "\n",
                "**Example program run (bold indicate what the user enters):**\n",
                "\n",
                "Enter a number: **10**\n",
                "\n",
                "The 10 prime number is 29.\n",
                "        \n",
                "        \n",
                "* **\u003cfont color = \"red\"\u003eNote\u003c/font\u003e: Please do not use any number high than \u003cfont color=\"red\"\u003e500\u003c/font\u003e as it might crash your system.**\n",
                "\u003c/div\u003e"
            ]
        },
        {
            "cell_type": "code",
            "execution_count": 52,
            "metadata": {},
            "outputs": [
                {
                    "name": "stdout",
                    "output_type": "stream",
                    "text": "The 12 prime number is 37.\n"
                }
            ],
            "source": [
                "# Your solution goes here\n",
                "def get_prime_number(num):\n",
                "    #set counter and number n\n",
                "    n, c = 1, 0\n",
                "    #iterating until reaches the nth number:\n",
                "    while(c \u003c num):\n",
                "        #next number\n",
                "        n += 1\n",
                "        for i in range(2, n+1):\n",
                "            if (n % i == 0):\n",
                "                break\n",
                "        if(i == n):\n",
                "            #increase counter\n",
                "            c += 1\n",
                "    return n\n",
                "\n",
                "user_num = int(input(\"Please enter a number: \"))\n",
                "print(f\"The {user_num} prime number is {get_prime_number(user_num)}.\")"
            ]
        },
        {
            "attachments": {},
            "cell_type": "markdown",
            "metadata": {},
            "source": [
                "### *Exercise 4: Palindrome \u003ca class=\"anchor\" id=\"exercise-4\"\u003e\u003c/a\u003e\n",
                "\n",
                "#None_type #Conditional_statement #Iteration #string_methods #List_Manipulation"
            ]
        },
        {
            "attachments": {},
            "cell_type": "markdown",
            "metadata": {},
            "source": [
                "\u003cdiv class=\"alert alert-block alert-success\"\u003e\n",
                "\n",
                "A palindrome is a number, word or sentence that can be read the same way forwards and backwards. For examples:\n",
                "1. \"MADAM\"\n",
                "2. \"12321\"\n",
                "3. 22 02 2022 (i.e., 22nd Feb 2022)\n",
                "\n",
                "**Write a python function named `check_palindrome`, which takes a single argument named `arg` of string type and returns a two different values, i.e., boolean value and type value.** \n",
                "* For Boolean values, `True` if it is palindrome else `False`\n",
                "* For Type values, `String` if the `arg` has all the character, and `Integer` if the `arg` has all the number.\n",
                "\n",
                "**Example program run (bold indicate what the user enters):**\n",
                "\n",
                "Enter a value: **12321**\n",
                "\n",
                "(True, 'Integer')\n",
                "\n",
                "**Another Example:**\n",
                "\n",
                "Enter a value: **MADAM**\n",
                "\n",
                "(True, 'String')\n",
                "\n",
                "**Another Example:**\n",
                "\n",
                "Enter a value: **123A321**\n",
                "\n",
                "Wrong argument provided\n",
                "\n",
                "**Note: Your function should not accept the mixed values for example \"123A321\", it is palindrome but it is neither Number nor String.**\n",
                "\u003c/div\u003e"
            ]
        },
        {
            "cell_type": "code",
            "execution_count": 53,
            "metadata": {},
            "outputs": [
                {
                    "name": "stdout",
                    "output_type": "stream",
                    "text": "(True, 'Integer')\n"
                }
            ],
            "source": [
                "# Your solution goes here\n",
                "def check_palindrome(arg):\n",
                " \n",
                "    #initialising the variable:\n",
                "    type_value = None\n",
                "    bool_value = None\n",
                "\n",
                "    #check the data type\n",
                "    if arg.isalpha():\n",
                "        type_value = 'String'\n",
                "    elif arg.isdigit():\n",
                "        type_value = 'Integer'\n",
                "    else:\n",
                "        \"Invalid argument\"\n",
                "    \n",
                "    #check palindrome:\n",
                "    if arg == arg[::-1]:\n",
                "        bool_value = True\n",
                "    else:\n",
                "        bool_value = False\n",
                "\n",
                "    return bool_value, type_value\n",
                "\n",
                "user_input = input(\"Enter your value: \")\n",
                "print(check_palindrome(user_input))\n",
                ""
            ]
        },
        {
            "attachments": {},
            "cell_type": "markdown",
            "metadata": {},
            "source": [
                "### *Exercise 5: Dice Roll \u003ca class=\"anchor\" id=\"exercise-5\"\u003e\u003c/a\u003e\n",
                "#random_module #creating_menu #user_validation"
            ]
        },
        {
            "attachments": {},
            "cell_type": "markdown",
            "metadata": {},
            "source": [
                "\u003cdiv class=\"alert alert-block alert-success\"\u003e\n",
                "\n",
                "Dice is a small throw-able object that has multiple faces and each face is marked with numbers or shape that represents the number. Normally, a 6-faced dice is used in board-games like monoploy, catan, and so on. But there is one particular game called \"Dungeons and Dragons\", which uses 7 different kind of faced dice (i.e., 4, 6, 8, 10, 12, 20, 100 faced). The 4-faced dice is  referred as `d4`, 6-faced as `d6`, and till `d100`.\n",
                "\n",
                "\n",
                "**Write a python program that asks a users to select a dice to roll from a menu and roll that dice using a function named `roll_dice` that takes one argument from `[4, 6, 8, 10, 12, 20, 100]` and return the one random value from the specified dice.**\n",
                "\n",
                "**Example program run (bold indicate what the user enters):**\n",
                "\n",
                "Which Dice you want to roll?\u003cbr\u003e\n",
                "Enter the number on left side to roll a dice\u003cbr\u003e\n",
                "1....d4\u003cbr\u003e\n",
                "2....d6\u003cbr\u003e\n",
                "3....d8\u003cbr\u003e\n",
                "4....d10\u003cbr\u003e\n",
                "5....d12\u003cbr\u003e\n",
                "6....d20\u003cbr\u003e\n",
                "7....d100\u003cbr\u003e\n",
                "8....Exit\u003cbr\u003e\n",
                "Enter your choice: **2**\u003cbr\u003e\n",
                "\n",
                "Rolling the D6 dice..........and it rolled 4\n",
                "\n",
                "**Another Example:**\n",
                "\n",
                "Which Dice you want to roll?\u003cbr\u003e\n",
                "Enter the number on left side to roll a dice\u003cbr\u003e\n",
                "1....d4\u003cbr\u003e\n",
                "2....d6\u003cbr\u003e\n",
                "3....d8\u003cbr\u003e\n",
                "4....d10\u003cbr\u003e\n",
                "5....d12\u003cbr\u003e\n",
                "6....d20\u003cbr\u003e\n",
                "7....d100\u003cbr\u003e\n",
                "8....Exit\u003cbr\u003e\n",
                "Enter your choice:**abc**\u003cbr\u003e\n",
                "You have enter invalid choice. Try again\u003cbr\u003e\n",
                "Enter your choice:**xyz**\u003cbr\u003e\n",
                "You have enter invalid choice. Try again\u003cbr\u003e\n",
                "Enter your choice:**5**\u003cbr\u003e\n",
                "Rolling the D12 dice..........and it rolled 8\n",
                "\n",
                "\n",
                "**Note:**\n",
                "* Your code should not allow any alphabets as user input. Only digits are allowed. If the entered digit is more than 8 it should print a message that you have entered invalid choice.\n",
                "* Hint: Think about the `random` module.\n",
                "    \n",
                "\u003c/div\u003e"
            ]
        },
        {
            "cell_type": "code",
            "execution_count": 3,
            "metadata": {},
            "outputs": [
                {
                    "name": "stdout",
                    "output_type": "stream",
                    "text": "Which Dice you want to roll?\nEnter the number on left side to roll a dice\n1....d4\n2....d6\n3....d8\n4....d10\n5....d12\n6....d20\n7....d100\n8....Exit\nRolling the D12 dice...The result is 1\n"
                }
            ],
            "source": [
                "# Your solution goes here\n",
                "\n",
                "#importing the random library\n",
                "import random\n",
                "\n",
                "def roll_dice(dice_face):\n",
                "    \"\"\"\n",
                "    Return a random dice_face -\u003e which is achieved by randomly generate\n",
                "    a number between 1 and the dice_face number\n",
                "\n",
                "    the parameter dice_face is an Integer\n",
                "\n",
                "    the return value will be an integer between 1 and the maximum dice_face num\n",
                "    \"\"\"\n",
                "    return random.choice(list(range(1, dice_face+1))) # adding 1 is because the index start from 0\n",
                "\n",
                "# menu\n",
                "print(\"Which Dice you want to roll?\")\n",
                "print(\"Enter the number on left side to roll a dice\")\n",
                "print(\"1....d4\")\n",
                "print(\"2....d6\")\n",
                "print(\"3....d8\")\n",
                "print(\"4....d10\")\n",
                "print(\"5....d12\")\n",
                "print(\"6....d20\")\n",
                "print(\"7....d100\")\n",
                "print(\"8....Exit\")\n",
                "\n",
                "# asking the user to choose from the menu\n",
                "choice = input(\"Enter your choice: \")\n",
                "while choice.isdigit() is False:\n",
                "    print(\"Invalid choice. Please check your input.\")\n",
                "    choice = input(\"Enter your choice: \")\n",
                "\n",
                "choice = int(choice)\n",
                "\n",
                "#randomly generate the number based on user's choice from the menu\n",
                "if choice == 1:\n",
                "    print(f\"Rolling the D4 dice...The result is{roll_dice(4)}\") #1...d4\n",
                "elif choice == 2:\n",
                "    print(f\"Rolling the D6 dice...The result is {roll_dice(6)}\") #2...d6\n",
                "elif choice == 3:\n",
                "    print(f\"Rolling the D8 dice...The result is {roll_dice(8)}\") #3...d8\n",
                "elif choice == 4:\n",
                "    print(f\"Rolling the D10 dice...The result is {roll_dice(10)}\") #4...d10\n",
                "elif choice == 5:\n",
                "    print(f\"Rolling the D12 dice...The result is {roll_dice(12)}\") #5...d12\n",
                "elif choice == 6:\n",
                "    print(f\"Rolling the D20 dice...The result is {roll_dice(20)}\") #6...d20\n",
                "elif choice == 7:\n",
                "    print(f\"Rolling the D100 dice...The result is {roll_dice(100)}\") #7...d100\n",
                "elif choice ==8:\n",
                "    print(\"Exiting the game. Bye!\")\n",
                "    exit\n",
                "else:\n",
                "    print(\"Invalid input.\")\n",
                ""
            ]
        }
    ]
}
