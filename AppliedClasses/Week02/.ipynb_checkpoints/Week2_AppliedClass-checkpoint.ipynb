{
 "cells": [
  {
   "cell_type": "code",
   "execution_count": 1,
   "id": "3b7fcaf0",
   "metadata": {
    "scrolled": true
   },
   "outputs": [
    {
     "name": "stdout",
     "output_type": "stream",
     "text": [
      "Hello World!\n"
     ]
    }
   ],
   "source": [
    "print(\"Hello World!\")"
   ]
  },
  {
   "cell_type": "markdown",
   "id": "84f80767",
   "metadata": {},
   "source": [
    "***The dream***\n",
    "\n",
    "Put together a crew worthy of an Ocean’s 11 film \n",
    "\n",
    "Obtain the secret herbs and spices blend   \n",
    "\n",
    "Bootleg chicken through Peri Peri \n",
    "\n",
    "Start your own university using the profits \n",
    "\n",
    "Graduate top of your class \n",
    "\n",
    "-> Not an algorithm: no logical connections, no clear input and output, infinite loops\n",
    "\n",
    "\n",
    "***Ultimate Study Strategy*** \n",
    "\n",
    "While there is a book you have not read: \n",
    "\n",
    "Read a book \n",
    "\n",
    "-> Not an algorithm: no clear input and output, infinite loops\n",
    "\n",
    "\n",
    "***Solve any centralised maze*** \n",
    "\n",
    "Place hand on the left wall \n",
    "\n",
    "Walkthrough maze, maintaining hand contact with the left wall \n",
    "\n",
    "Stop when the centre is reached\n",
    "\n",
    "-> It is an algorithm"
   ]
  },
  {
   "cell_type": "markdown",
   "id": "188e3310",
   "metadata": {},
   "source": [
    "***Farmer can only carry 1 object at a time:***\n",
    "\n",
    "***wolf + rabbit => wolf eats rabbit***\n",
    "\n",
    "***rabbit + cabbage => rabbit eats cabbage***\n",
    "\n",
    "1. farmer -> bring the rabbit\n",
    "2. farmer <- nothing\n",
    "3. farmer -> bring the cabbage\n",
    "4. farmer <- with the rabbit\n",
    "5. farmer -> bring the wolf\n",
    "6. farmer <- with nothing\n",
    "7. farmer -> bring the rabbit"
   ]
  },
  {
   "cell_type": "markdown",
   "id": "0291d891",
   "metadata": {},
   "source": [
    "***Primes*** \n",
    "<br><br>\n",
    "input: \" <number>\" <br>\n",
    "Steps: <br>\n",
    "    check all the numbers less than \" <number>\" // 2 <br>\n",
    "output: is \" <number>\" a prime number"
   ]
  },
  {
   "cell_type": "markdown",
   "id": "89b60527",
   "metadata": {},
   "source": [
    "## Class Activity 2.6 "
   ]
  },
  {
   "cell_type": "markdown",
   "id": "6e1c7a9a",
   "metadata": {},
   "source": [
    "Question 1"
   ]
  },
  {
   "cell_type": "code",
   "execution_count": null,
   "id": "ce00511e",
   "metadata": {},
   "outputs": [],
   "source": [
    "print(\"F_0 =\", 0)\n",
    "print(\"F_1 =\", 1)\n",
    "print(\"F_2 =\", 0+1)\n",
    "print(\"F_3 =\", 1+1)\n",
    "print(\"F_4 =\", 1+2)"
   ]
  },
  {
   "cell_type": "markdown",
   "id": "7f434826",
   "metadata": {},
   "source": [
    "Question 2"
   ]
  },
  {
   "cell_type": "code",
   "execution_count": null,
   "id": "4b076768",
   "metadata": {},
   "outputs": [],
   "source": [
    "print(\"F_0 =\", 0)\n",
    "print(\"F_1 =\", 1)\n",
    "print(\"F_2 =\", 0+1)\n",
    "print(\"F_3 =\", 1+1)\n",
    "print(\"F_4 =\", 1+2)\n",
    "print(\"F_5 =\", 2+3)\n",
    "print(\"F_6 =\", 3+5)\n",
    "print(\"F_7 =\", 5+8)\n",
    "print(\"F_8 =\", 8+13)\n",
    "print(\"F_9 =\", 13+21)\n",
    "print(\"F_10 =\", 21+34)"
   ]
  },
  {
   "cell_type": "markdown",
   "id": "d0992b34",
   "metadata": {},
   "source": [
    "# Class Activity 2.7"
   ]
  },
  {
   "cell_type": "markdown",
   "id": "0ba5ff96",
   "metadata": {},
   "source": [
    "Question 1"
   ]
  },
  {
   "cell_type": "code",
   "execution_count": 3,
   "id": "db4d91e5",
   "metadata": {},
   "outputs": [
    {
     "name": "stdout",
     "output_type": "stream",
     "text": [
      "5.000366822499999\n"
     ]
    }
   ],
   "source": [
    "print(2.23615**2)"
   ]
  },
  {
   "cell_type": "markdown",
   "id": "d71ac3cb",
   "metadata": {},
   "source": [
    "Question 2"
   ]
  },
  {
   "cell_type": "code",
   "execution_count": 13,
   "id": "fa431322",
   "metadata": {},
   "outputs": [
    {
     "name": "stdout",
     "output_type": "stream",
     "text": [
      "1.618075\n",
      "2.23606797749979\n",
      "1.618033988749895\n"
     ]
    }
   ],
   "source": [
    "print((1 + 2.23615) / 2)\n",
    "\n",
    "# import the math module\n",
    "import math\n",
    "\n",
    "# print the square root of 5\n",
    "print(math.sqrt(5))\n",
    "\n",
    "# print the Golden Ratio\n",
    "print((1 + math.sqrt(5)) / 2)"
   ]
  },
  {
   "cell_type": "markdown",
   "id": "28f11bc9",
   "metadata": {},
   "source": [
    "# Class Activity 2.8"
   ]
  },
  {
   "cell_type": "markdown",
   "id": "e2f0626f",
   "metadata": {},
   "source": [
    "Question 1"
   ]
  },
  {
   "cell_type": "code",
   "execution_count": 14,
   "id": "6bf1ce35",
   "metadata": {},
   "outputs": [
    {
     "name": "stdout",
     "output_type": "stream",
     "text": [
      "F_0 = 0\n",
      "F_1 = 1\n",
      "F_2 = 1\n",
      "F_3 = 2\n",
      "F_3/F_2 = 2.0\n",
      "F_4 = 3\n",
      "F_4/F_3 = 1.5\n",
      "F_5 = 5\n",
      "F_5/F_4 = 1.6666666666666667\n"
     ]
    }
   ],
   "source": [
    "print(\"F_0 =\", 0)\n",
    "print(\"F_1 =\", 1)\n",
    "print(\"F_2 =\", 0+1)\n",
    "print(\"F_3 =\", 1+1)\n",
    "print(\"F_3/F_2 =\", 2/1)\n",
    "print(\"F_4 =\", 1+2)\n",
    "print(\"F_4/F_3 =\", 3/2)\n",
    "print(\"F_5 =\", 2+3)\n",
    "print(\"F_5/F_4 =\", 5/3)"
   ]
  },
  {
   "cell_type": "markdown",
   "id": "fc01adb7",
   "metadata": {},
   "source": [
    "Question 2"
   ]
  },
  {
   "cell_type": "code",
   "execution_count": 15,
   "id": "98c06f3e",
   "metadata": {},
   "outputs": [
    {
     "name": "stdout",
     "output_type": "stream",
     "text": [
      "F_0 = 0\n",
      "F_1 = 1\n",
      "F_2 = 1\n",
      "F_3 = 2\n",
      "F_3/F_2 = 2.0\n",
      "F_4 = 3\n",
      "F_4/F_3 = 1.5\n",
      "F_5 = 5\n",
      "F_5/F_4 = 1.6666666666666667\n",
      "F_6 = 8\n",
      "F_6/F_5 = 1.6\n",
      "F_7 = 13\n",
      "F_7/F_6 = 1.625\n",
      "F_8 = 21\n",
      "F_8/F_7 1.6153846153846154\n"
     ]
    }
   ],
   "source": [
    "print(\"F_0 =\", 0)\n",
    "print(\"F_1 =\", 1)\n",
    "print(\"F_2 =\", 0+1)\n",
    "print(\"F_3 =\", 1+1)\n",
    "print(\"F_3/F_2 =\", 2/1)\n",
    "print(\"F_4 =\", 1+2)\n",
    "print(\"F_4/F_3 =\", 3/2)\n",
    "print(\"F_5 =\", 2+3)\n",
    "print(\"F_5/F_4 =\", 5/3)\n",
    "print(\"F_6 =\", 3+5)\n",
    "print(\"F_6/F_5 =\", 8/5)\n",
    "print(\"F_7 =\", 5+8)\n",
    "print(\"F_7/F_6 =\", 13/8)\n",
    "print(\"F_8 =\", 8+13)\n",
    "print(\"F_8/F_7\", 21/13)"
   ]
  }
 ],
 "metadata": {
  "kernelspec": {
   "display_name": "Python 3",
   "language": "python",
   "name": "python3"
  },
  "language_info": {
   "codemirror_mode": {
    "name": "ipython",
    "version": 3
   },
   "file_extension": ".py",
   "mimetype": "text/x-python",
   "name": "python",
   "nbconvert_exporter": "python",
   "pygments_lexer": "ipython3",
   "version": "3.9.13"
  }
 },
 "nbformat": 4,
 "nbformat_minor": 5
}
